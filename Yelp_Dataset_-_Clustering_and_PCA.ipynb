{
 "cells": [
  {
   "cell_type": "markdown",
   "metadata": {},
   "source": [
    "# Yelp Data Challenge - Clustering and PCA\n",
    "\n",
    "BitTiger DS501\n",
    "\n",
    "Nov 2017"
   ]
  },
  {
   "cell_type": "code",
   "execution_count": 3,
   "metadata": {
    "collapsed": true
   },
   "outputs": [],
   "source": [
    "import pandas as pd\n",
    "import numpy as np\n",
    "import matplotlib.pyplot as plt\n",
    "% matplotlib inline\n",
    "plt.style.use(\"ggplot\")"
   ]
  },
  {
   "cell_type": "code",
   "execution_count": 4,
   "metadata": {
    "collapsed": true
   },
   "outputs": [],
   "source": [
    "df = pd.read_csv('yelp_dataset_challenge_round10/last_2_years_restaurant_reviews.csv')"
   ]
  },
  {
   "cell_type": "code",
   "execution_count": 3,
   "metadata": {},
   "outputs": [
    {
     "data": {
      "text/html": [
       "<div>\n",
       "<style>\n",
       "    .dataframe thead tr:only-child th {\n",
       "        text-align: right;\n",
       "    }\n",
       "\n",
       "    .dataframe thead th {\n",
       "        text-align: left;\n",
       "    }\n",
       "\n",
       "    .dataframe tbody tr th {\n",
       "        vertical-align: top;\n",
       "    }\n",
       "</style>\n",
       "<table border=\"1\" class=\"dataframe\">\n",
       "  <thead>\n",
       "    <tr style=\"text-align: right;\">\n",
       "      <th></th>\n",
       "      <th>business_id</th>\n",
       "      <th>name</th>\n",
       "      <th>categories</th>\n",
       "      <th>avg_stars</th>\n",
       "      <th>cool</th>\n",
       "      <th>date</th>\n",
       "      <th>funny</th>\n",
       "      <th>review_id</th>\n",
       "      <th>stars</th>\n",
       "      <th>text</th>\n",
       "      <th>useful</th>\n",
       "      <th>user_id</th>\n",
       "    </tr>\n",
       "  </thead>\n",
       "  <tbody>\n",
       "    <tr>\n",
       "      <th>0</th>\n",
       "      <td>--9e1ONYQuAa-CB_Rrw7Tw</td>\n",
       "      <td>Delmonico Steakhouse</td>\n",
       "      <td>['Steakhouses', 'Cajun/Creole', 'Restaurants']</td>\n",
       "      <td>4.0</td>\n",
       "      <td>1</td>\n",
       "      <td>2016-05-17</td>\n",
       "      <td>0</td>\n",
       "      <td>0Qc1THNHSapDL7cv-ZzW5g</td>\n",
       "      <td>5</td>\n",
       "      <td>What can I say.. Wowzers! Probably one of the ...</td>\n",
       "      <td>0</td>\n",
       "      <td>4LxKRRIikhr65GfPDW626w</td>\n",
       "    </tr>\n",
       "    <tr>\n",
       "      <th>1</th>\n",
       "      <td>--9e1ONYQuAa-CB_Rrw7Tw</td>\n",
       "      <td>Delmonico Steakhouse</td>\n",
       "      <td>['Steakhouses', 'Cajun/Creole', 'Restaurants']</td>\n",
       "      <td>4.0</td>\n",
       "      <td>0</td>\n",
       "      <td>2017-01-20</td>\n",
       "      <td>0</td>\n",
       "      <td>L8lo5SKXfZRlbn1bpPiC9w</td>\n",
       "      <td>5</td>\n",
       "      <td>Went here for guys weekend. Unbelievable. Ravi...</td>\n",
       "      <td>0</td>\n",
       "      <td>nT8zgjoc-PbdBoQsFEXFLw</td>\n",
       "    </tr>\n",
       "    <tr>\n",
       "      <th>2</th>\n",
       "      <td>--9e1ONYQuAa-CB_Rrw7Tw</td>\n",
       "      <td>Delmonico Steakhouse</td>\n",
       "      <td>['Steakhouses', 'Cajun/Creole', 'Restaurants']</td>\n",
       "      <td>4.0</td>\n",
       "      <td>52</td>\n",
       "      <td>2016-09-25</td>\n",
       "      <td>30</td>\n",
       "      <td>6eUT3IwwWPP3CZkAhxqOIw</td>\n",
       "      <td>5</td>\n",
       "      <td>One word my friends: tableside!!! Yes, tablesi...</td>\n",
       "      <td>56</td>\n",
       "      <td>7RlyCglsIzhBn081inwvcg</td>\n",
       "    </tr>\n",
       "    <tr>\n",
       "      <th>3</th>\n",
       "      <td>--9e1ONYQuAa-CB_Rrw7Tw</td>\n",
       "      <td>Delmonico Steakhouse</td>\n",
       "      <td>['Steakhouses', 'Cajun/Creole', 'Restaurants']</td>\n",
       "      <td>4.0</td>\n",
       "      <td>1</td>\n",
       "      <td>2017-02-12</td>\n",
       "      <td>0</td>\n",
       "      <td>3cnTdE45VrsS0o4cVhfGog</td>\n",
       "      <td>3</td>\n",
       "      <td>Located inside my favorite hotel Venetian, Del...</td>\n",
       "      <td>1</td>\n",
       "      <td>rOIrilMC7VFwFVBeQNiKMw</td>\n",
       "    </tr>\n",
       "    <tr>\n",
       "      <th>4</th>\n",
       "      <td>--9e1ONYQuAa-CB_Rrw7Tw</td>\n",
       "      <td>Delmonico Steakhouse</td>\n",
       "      <td>['Steakhouses', 'Cajun/Creole', 'Restaurants']</td>\n",
       "      <td>4.0</td>\n",
       "      <td>0</td>\n",
       "      <td>2016-10-30</td>\n",
       "      <td>0</td>\n",
       "      <td>tYrSbjX3QgZGBZuQ3n8g6w</td>\n",
       "      <td>5</td>\n",
       "      <td>After the most incredible service, delicious m...</td>\n",
       "      <td>2</td>\n",
       "      <td>PiWlV_UC_-SXqyxQM9fAtw</td>\n",
       "    </tr>\n",
       "  </tbody>\n",
       "</table>\n",
       "</div>"
      ],
      "text/plain": [
       "              business_id                  name  \\\n",
       "0  --9e1ONYQuAa-CB_Rrw7Tw  Delmonico Steakhouse   \n",
       "1  --9e1ONYQuAa-CB_Rrw7Tw  Delmonico Steakhouse   \n",
       "2  --9e1ONYQuAa-CB_Rrw7Tw  Delmonico Steakhouse   \n",
       "3  --9e1ONYQuAa-CB_Rrw7Tw  Delmonico Steakhouse   \n",
       "4  --9e1ONYQuAa-CB_Rrw7Tw  Delmonico Steakhouse   \n",
       "\n",
       "                                       categories  avg_stars  cool  \\\n",
       "0  ['Steakhouses', 'Cajun/Creole', 'Restaurants']        4.0     1   \n",
       "1  ['Steakhouses', 'Cajun/Creole', 'Restaurants']        4.0     0   \n",
       "2  ['Steakhouses', 'Cajun/Creole', 'Restaurants']        4.0    52   \n",
       "3  ['Steakhouses', 'Cajun/Creole', 'Restaurants']        4.0     1   \n",
       "4  ['Steakhouses', 'Cajun/Creole', 'Restaurants']        4.0     0   \n",
       "\n",
       "         date  funny               review_id  stars  \\\n",
       "0  2016-05-17      0  0Qc1THNHSapDL7cv-ZzW5g      5   \n",
       "1  2017-01-20      0  L8lo5SKXfZRlbn1bpPiC9w      5   \n",
       "2  2016-09-25     30  6eUT3IwwWPP3CZkAhxqOIw      5   \n",
       "3  2017-02-12      0  3cnTdE45VrsS0o4cVhfGog      3   \n",
       "4  2016-10-30      0  tYrSbjX3QgZGBZuQ3n8g6w      5   \n",
       "\n",
       "                                                text  useful  \\\n",
       "0  What can I say.. Wowzers! Probably one of the ...       0   \n",
       "1  Went here for guys weekend. Unbelievable. Ravi...       0   \n",
       "2  One word my friends: tableside!!! Yes, tablesi...      56   \n",
       "3  Located inside my favorite hotel Venetian, Del...       1   \n",
       "4  After the most incredible service, delicious m...       2   \n",
       "\n",
       "                  user_id  \n",
       "0  4LxKRRIikhr65GfPDW626w  \n",
       "1  nT8zgjoc-PbdBoQsFEXFLw  \n",
       "2  7RlyCglsIzhBn081inwvcg  \n",
       "3  rOIrilMC7VFwFVBeQNiKMw  \n",
       "4  PiWlV_UC_-SXqyxQM9fAtw  "
      ]
     },
     "execution_count": 3,
     "metadata": {},
     "output_type": "execute_result"
    }
   ],
   "source": [
    "df.head()"
   ]
  },
  {
   "cell_type": "markdown",
   "metadata": {},
   "source": [
    "## 1. Cluster the review text data for all the restaurants"
   ]
  },
  {
   "cell_type": "markdown",
   "metadata": {},
   "source": [
    "### Define your feature variables, here is the text of the review"
   ]
  },
  {
   "cell_type": "code",
   "execution_count": 5,
   "metadata": {
    "collapsed": true
   },
   "outputs": [],
   "source": [
    "# Take the values of the column that contains review text data, save to a variable named \"documents\"\n",
    "documents = df['text'].values"
   ]
  },
  {
   "cell_type": "markdown",
   "metadata": {},
   "source": [
    "### Define your target variable (any categorical variable that may be meaningful)"
   ]
  },
  {
   "cell_type": "markdown",
   "metadata": {},
   "source": [
    "#### For example, I am interested in perfect (5 stars) and imperfect (1-4 stars) rating"
   ]
  },
  {
   "cell_type": "code",
   "execution_count": 6,
   "metadata": {
    "collapsed": true
   },
   "outputs": [],
   "source": [
    "# Make a column and take the values, save to a variable named \"target\"\n",
    "df['favorable'] = df['stars'] > 4\n",
    "target = df['favorable'].values"
   ]
  },
  {
   "cell_type": "markdown",
   "metadata": {},
   "source": [
    "#### You may want to look at the statistic of the target variable"
   ]
  },
  {
   "cell_type": "code",
   "execution_count": 6,
   "metadata": {},
   "outputs": [
    {
     "data": {
      "text/plain": [
       "(0.46823543132843698, 0.49898999206107286)"
      ]
     },
     "execution_count": 6,
     "metadata": {},
     "output_type": "execute_result"
    }
   ],
   "source": [
    "# To be implemented\n",
    "target.mean(), target.std()"
   ]
  },
  {
   "cell_type": "code",
   "execution_count": 7,
   "metadata": {},
   "outputs": [
    {
     "data": {
      "text/plain": [
       "((325819,), (325819,))"
      ]
     },
     "execution_count": 7,
     "metadata": {},
     "output_type": "execute_result"
    }
   ],
   "source": [
    "documents.shape, target.shape"
   ]
  },
  {
   "cell_type": "markdown",
   "metadata": {},
   "source": [
    "### Create training dataset and test dataset"
   ]
  },
  {
   "cell_type": "code",
   "execution_count": 8,
   "metadata": {},
   "outputs": [
    {
     "name": "stderr",
     "output_type": "stream",
     "text": [
      "/Users/Danielle/anaconda/lib/python3.6/site-packages/sklearn/cross_validation.py:44: DeprecationWarning: This module was deprecated in version 0.18 in favor of the model_selection module into which all the refactored classes and functions are moved. Also note that the interface of the new CV iterators are different from that of this module. This module will be removed in 0.20.\n",
      "  \"This module will be removed in 0.20.\", DeprecationWarning)\n"
     ]
    }
   ],
   "source": [
    "from sklearn.cross_validation import train_test_split"
   ]
  },
  {
   "cell_type": "code",
   "execution_count": 9,
   "metadata": {
    "collapsed": true
   },
   "outputs": [],
   "source": [
    "# documents is your X, target is your y\n",
    "# Now split the data to training set and test set\n",
    "# You may want to start with a big \"test_size\", since large training set can easily crash your laptop.\n",
    "documents_train, documents_test, target_train, target_test = train_test_split(\n",
    "    documents,\n",
    "    target,\n",
    "    test_size = 0.5,\n",
    "    random_state = 11\n",
    ")"
   ]
  },
  {
   "cell_type": "markdown",
   "metadata": {},
   "source": [
    "### Get NLP representation of the documents\n",
    "\n",
    "#### Fit TfidfVectorizer with training data only, then tranform all the data to tf-idf"
   ]
  },
  {
   "cell_type": "code",
   "execution_count": 10,
   "metadata": {
    "collapsed": true
   },
   "outputs": [],
   "source": [
    "from sklearn.feature_extraction.text import TfidfVectorizer"
   ]
  },
  {
   "cell_type": "code",
   "execution_count": 69,
   "metadata": {
    "collapsed": true
   },
   "outputs": [],
   "source": [
    "# Create TfidfVectorizer, and name it vectorizer, choose a reasonable max_features, e.g. 1000\n",
    "vectorizer = TfidfVectorizer(stop_words = 'english', max_features=1000)"
   ]
  },
  {
   "cell_type": "code",
   "execution_count": 70,
   "metadata": {
    "collapsed": true
   },
   "outputs": [],
   "source": [
    "# Train the model with your training data\n",
    "vectors_train = vectorizer.fit_transform(documents_train).toarray()"
   ]
  },
  {
   "cell_type": "code",
   "execution_count": 71,
   "metadata": {
    "collapsed": true
   },
   "outputs": [],
   "source": [
    "# Get the vocab of your tfidf\n",
    "words = vectorizer.get_feature_names()"
   ]
  },
  {
   "cell_type": "code",
   "execution_count": 72,
   "metadata": {
    "collapsed": true
   },
   "outputs": [],
   "source": [
    "# Use the trained model to transform all the reviews\n",
    "vectors_test = vectorizer.transform(documents_test).toarray()"
   ]
  },
  {
   "cell_type": "markdown",
   "metadata": {},
   "source": [
    "### Cluster reviews with KMeans"
   ]
  },
  {
   "cell_type": "markdown",
   "metadata": {},
   "source": [
    "#### Fit k-means clustering with the training vectors and apply it on all the data"
   ]
  },
  {
   "cell_type": "code",
   "execution_count": 73,
   "metadata": {},
   "outputs": [
    {
     "data": {
      "text/plain": [
       "KMeans(algorithm='auto', copy_x=True, init='k-means++', max_iter=300,\n",
       "    n_clusters=8, n_init=10, n_jobs=1, precompute_distances='auto',\n",
       "    random_state=None, tol=0.0001, verbose=0)"
      ]
     },
     "execution_count": 73,
     "metadata": {},
     "output_type": "execute_result"
    }
   ],
   "source": [
    "# To be implemented\n",
    "from sklearn.cluster import KMeans\n",
    "kmeans = KMeans()\n",
    "kmeans.fit(vectors_train)"
   ]
  },
  {
   "cell_type": "markdown",
   "metadata": {},
   "source": [
    "#### Make predictions on all your data"
   ]
  },
  {
   "cell_type": "code",
   "execution_count": 74,
   "metadata": {},
   "outputs": [
    {
     "data": {
      "text/plain": [
       "array([2, 2, 3, ..., 3, 2, 2], dtype=int32)"
      ]
     },
     "execution_count": 74,
     "metadata": {},
     "output_type": "execute_result"
    }
   ],
   "source": [
    "# To be implemented\n",
    "kmeans.predict(vectors_test)"
   ]
  },
  {
   "cell_type": "markdown",
   "metadata": {},
   "source": [
    "#### Inspect the centroids\n",
    "To find out what \"topics\" Kmeans has discovered we must inspect the centroids. Print out the centroids of the Kmeans clustering.\n",
    "\n",
    "   These centroids are simply a bunch of vectors.  To make any sense of them we need to map these vectors back into our 'word space'.  Think of each feature/dimension of the centroid vector as representing the \"average\" review or the average occurances of words for that cluster."
   ]
  },
  {
   "cell_type": "code",
   "execution_count": 75,
   "metadata": {},
   "outputs": [
    {
     "name": "stdout",
     "output_type": "stream",
     "text": [
      "cluster centers:\n",
      "[[ 0.00266287  0.00869867  0.00157526 ...,  0.00119834  0.00576954\n",
      "   0.00891356]\n",
      " [ 0.00324191  0.0076239   0.00235664 ...,  0.00088229  0.00327664\n",
      "   0.00747297]\n",
      " [ 0.00250699  0.00636763  0.00228111 ...,  0.00114868  0.00360607\n",
      "   0.00663519]\n",
      " ..., \n",
      " [ 0.00178463  0.00666897  0.00267052 ...,  0.00095514  0.00283179\n",
      "   0.00645762]\n",
      " [ 0.00066105  0.0045073   0.0012697  ...,  0.00138719  0.00248321\n",
      "   0.00642364]\n",
      " [ 0.00439932  0.01968787  0.0026503  ...,  0.00394537  0.00067296\n",
      "   0.00171763]]\n"
     ]
    }
   ],
   "source": [
    "# To be implemented\n",
    "print (\"cluster centers:\")\n",
    "print (kmeans.cluster_centers_)"
   ]
  },
  {
   "cell_type": "markdown",
   "metadata": {},
   "source": [
    "#### Find the top 10 features for each cluster.\n",
    "For topics we are only really interested in the most present words, i.e. features/dimensions with the greatest representation in the centroid.  Print out the top ten words for each centroid.\n",
    "\n",
    "* Sort each centroid vector to find the top 10 features\n",
    "* Go back to your vectorizer object to find out what words each of these features corresponds to.\n"
   ]
  },
  {
   "cell_type": "code",
   "execution_count": 76,
   "metadata": {},
   "outputs": [
    {
     "name": "stdout",
     "output_type": "stream",
     "text": [
      "top features for each cluster:\n",
      "0: chicken, good, fried, food, rice, ordered, place, like, great, sauce\n",
      "1: burger, fries, burgers, good, cheese, shake, place, food, great, ordered\n",
      "2: good, food, place, vegas, best, service, like, really, delicious, just\n",
      "3: love, place, food, great, service, good, amazing, best, friendly, delicious\n",
      "4: pizza, crust, good, place, great, slice, cheese, order, best, just\n",
      "5: sushi, rolls, place, roll, ayce, great, good, fresh, fish, service\n",
      "6: great, food, service, place, amazing, good, friendly, definitely, staff, awesome\n",
      "7: food, order, time, service, just, minutes, came, didn, got, like\n"
     ]
    }
   ],
   "source": [
    "# To be implemented\n",
    "top_centroids = kmeans.cluster_centers_.argsort()[:,-1:-11:-1]\n",
    "print (\"top features for each cluster:\")\n",
    "for num, centroid in enumerate(top_centroids):\n",
    "    print (\"%d: %s\" % (num, \", \".join(words[i] for i in centroid)))"
   ]
  },
  {
   "cell_type": "markdown",
   "metadata": {},
   "source": [
    "#### Try different k\n",
    "If you set k == to a different number, how does the top features change?"
   ]
  },
  {
   "cell_type": "code",
   "execution_count": 77,
   "metadata": {},
   "outputs": [
    {
     "name": "stdout",
     "output_type": "stream",
     "text": [
      "top features for each cluster:\n",
      "0: chicken, fried, food, good, rice, ordered, place, great, like, sauce\n",
      "1: good, food, burger, really, place, fries, service, like, pretty, nice\n",
      "2: place, food, best, vegas, amazing, delicious, love, service, ve, like\n",
      "3: pizza, crust, good, place, great, slice, cheese, order, best, just\n",
      "4: great, food, service, place, amazing, friendly, good, staff, awesome, atmosphere\n",
      "5: food, order, just, time, service, minutes, like, came, didn, got\n"
     ]
    }
   ],
   "source": [
    "kmeans = KMeans(n_clusters=6)\n",
    "kmeans.fit(vectors_train)\n",
    "top_centroids = kmeans.cluster_centers_.argsort()[:,-1:-11:-1]\n",
    "print (\"top features for each cluster:\")\n",
    "for num, centroid in enumerate(top_centroids):\n",
    "    print (\"%d: %s\" % (num, \", \".join(words[i] for i in centroid)))"
   ]
  },
  {
   "cell_type": "markdown",
   "metadata": {},
   "source": [
    "#### Print out the rating and review of a random sample of the reviews assigned to each cluster to get a sense of the cluster."
   ]
  },
  {
   "cell_type": "code",
   "execution_count": 78,
   "metadata": {
    "collapsed": true
   },
   "outputs": [],
   "source": [
    "assigned_cluster = kmeans.transform(vectors_train).argmin(axis=1)\n",
    "#assigned_cluster = kmeans.predict(vectors_train)"
   ]
  },
  {
   "cell_type": "code",
   "execution_count": 79,
   "metadata": {},
   "outputs": [
    {
     "name": "stdout",
     "output_type": "stream",
     "text": [
      "cluster 0:\n",
      "    1     False\n",
      "    4     False\n",
      "    4     False\n",
      "cluster 1:\n",
      "    4     False\n",
      "    5     True\n",
      "    3     False\n",
      "cluster 2:\n",
      "    4     False\n",
      "    1     False\n",
      "    4     False\n",
      "cluster 3:\n",
      "    3     False\n",
      "    5     True\n",
      "    2     False\n",
      "cluster 4:\n",
      "    5     True\n",
      "    5     True\n",
      "    1     False\n",
      "cluster 5:\n",
      "    5     True\n",
      "    4     False\n",
      "    4     False\n"
     ]
    }
   ],
   "source": [
    "for i in range(kmeans.n_clusters):\n",
    "    cluster = np.arange(0, vectors_train.shape[0])[assigned_cluster==i]\n",
    "    sample_review = np.random.choice(cluster, 3, replace=False)\n",
    "    print (\"cluster %d:\" % i)\n",
    "    for rating in sample_review:\n",
    "        print (\"    %s\" % df.loc[rating]['stars'],\"    %s\" % df.loc[rating]['favorable'])"
   ]
  },
  {
   "cell_type": "markdown",
   "metadata": {},
   "source": [
    "## 2. Cluster all the reviews of the most reviewed restaurant\n",
    "Let's find the most reviewed restaurant and analyze its reviews"
   ]
  },
  {
   "cell_type": "code",
   "execution_count": 11,
   "metadata": {},
   "outputs": [
    {
     "data": {
      "text/html": [
       "<div>\n",
       "<style>\n",
       "    .dataframe thead tr:only-child th {\n",
       "        text-align: right;\n",
       "    }\n",
       "\n",
       "    .dataframe thead th {\n",
       "        text-align: left;\n",
       "    }\n",
       "\n",
       "    .dataframe tbody tr th {\n",
       "        vertical-align: top;\n",
       "    }\n",
       "</style>\n",
       "<table border=\"1\" class=\"dataframe\">\n",
       "  <thead>\n",
       "    <tr style=\"text-align: right;\">\n",
       "      <th></th>\n",
       "      <th>business_id</th>\n",
       "      <th>counts</th>\n",
       "    </tr>\n",
       "  </thead>\n",
       "  <tbody>\n",
       "    <tr>\n",
       "      <th>3152</th>\n",
       "      <td>hihud--QRriCYZw1zZvW4g</td>\n",
       "      <td>2765</td>\n",
       "    </tr>\n",
       "    <tr>\n",
       "      <th>1909</th>\n",
       "      <td>RESDUcs7fIiihp38-d6_6g</td>\n",
       "      <td>2491</td>\n",
       "    </tr>\n",
       "    <tr>\n",
       "      <th>2783</th>\n",
       "      <td>cYwJA2A6I12KNkm2rtXd5g</td>\n",
       "      <td>1988</td>\n",
       "    </tr>\n",
       "  </tbody>\n",
       "</table>\n",
       "</div>"
      ],
      "text/plain": [
       "                 business_id  counts\n",
       "3152  hihud--QRriCYZw1zZvW4g    2765\n",
       "1909  RESDUcs7fIiihp38-d6_6g    2491\n",
       "2783  cYwJA2A6I12KNkm2rtXd5g    1988"
      ]
     },
     "execution_count": 11,
     "metadata": {},
     "output_type": "execute_result"
    }
   ],
   "source": [
    "# Find the business who got most reviews, get your filtered df, name it df_top_restaurant\n",
    "df_sort = df[['business_id']].groupby(['business_id']).size().reset_index(name='counts')\n",
    "df_sort.sort_values(['counts'], ascending=False).head(3)"
   ]
  },
  {
   "cell_type": "code",
   "execution_count": 12,
   "metadata": {},
   "outputs": [
    {
     "data": {
      "text/plain": [
       "(2765, 14)"
      ]
     },
     "execution_count": 12,
     "metadata": {},
     "output_type": "execute_result"
    }
   ],
   "source": [
    "#must rest index in this step!\n",
    "df_top_restaurant = df.loc[df['business_id'] == 'hihud--QRriCYZw1zZvW4g'].reset_index() \n",
    "df_top_restaurant.shape"
   ]
  },
  {
   "cell_type": "code",
   "execution_count": 106,
   "metadata": {},
   "outputs": [
    {
     "data": {
      "text/html": [
       "<div>\n",
       "<style>\n",
       "    .dataframe thead tr:only-child th {\n",
       "        text-align: right;\n",
       "    }\n",
       "\n",
       "    .dataframe thead th {\n",
       "        text-align: left;\n",
       "    }\n",
       "\n",
       "    .dataframe tbody tr th {\n",
       "        vertical-align: top;\n",
       "    }\n",
       "</style>\n",
       "<table border=\"1\" class=\"dataframe\">\n",
       "  <thead>\n",
       "    <tr style=\"text-align: right;\">\n",
       "      <th></th>\n",
       "      <th>index</th>\n",
       "      <th>business_id</th>\n",
       "      <th>name</th>\n",
       "      <th>categories</th>\n",
       "      <th>avg_stars</th>\n",
       "      <th>cool</th>\n",
       "      <th>date</th>\n",
       "      <th>funny</th>\n",
       "      <th>review_id</th>\n",
       "      <th>stars</th>\n",
       "      <th>text</th>\n",
       "      <th>useful</th>\n",
       "      <th>user_id</th>\n",
       "      <th>favorable</th>\n",
       "    </tr>\n",
       "  </thead>\n",
       "  <tbody>\n",
       "    <tr>\n",
       "      <th>0</th>\n",
       "      <td>240672</td>\n",
       "      <td>hihud--QRriCYZw1zZvW4g</td>\n",
       "      <td>Gangnam Asian BBQ Dining</td>\n",
       "      <td>['Restaurants', 'Barbeque', 'Asian Fusion', 'J...</td>\n",
       "      <td>4.5</td>\n",
       "      <td>0</td>\n",
       "      <td>2016-03-26</td>\n",
       "      <td>0</td>\n",
       "      <td>kd4UZwpH86KUxGr4pwafHQ</td>\n",
       "      <td>5</td>\n",
       "      <td>The food was soooo good. Defintiely worth the ...</td>\n",
       "      <td>0</td>\n",
       "      <td>mW_hZQb_ZHiV-EhuXn9NkQ</td>\n",
       "      <td>True</td>\n",
       "    </tr>\n",
       "    <tr>\n",
       "      <th>1</th>\n",
       "      <td>240673</td>\n",
       "      <td>hihud--QRriCYZw1zZvW4g</td>\n",
       "      <td>Gangnam Asian BBQ Dining</td>\n",
       "      <td>['Restaurants', 'Barbeque', 'Asian Fusion', 'J...</td>\n",
       "      <td>4.5</td>\n",
       "      <td>0</td>\n",
       "      <td>2015-12-25</td>\n",
       "      <td>0</td>\n",
       "      <td>hb-vHJj08C9PcPk5GhvmLA</td>\n",
       "      <td>5</td>\n",
       "      <td>The BBQ is yummy, and the soup is delicious. B...</td>\n",
       "      <td>0</td>\n",
       "      <td>DEmhjzcwgAfVI6Z23qxlIQ</td>\n",
       "      <td>True</td>\n",
       "    </tr>\n",
       "    <tr>\n",
       "      <th>2</th>\n",
       "      <td>240674</td>\n",
       "      <td>hihud--QRriCYZw1zZvW4g</td>\n",
       "      <td>Gangnam Asian BBQ Dining</td>\n",
       "      <td>['Restaurants', 'Barbeque', 'Asian Fusion', 'J...</td>\n",
       "      <td>4.5</td>\n",
       "      <td>1</td>\n",
       "      <td>2016-01-14</td>\n",
       "      <td>0</td>\n",
       "      <td>k4QFvv-0Es9n7864hEfaZw</td>\n",
       "      <td>5</td>\n",
       "      <td>I ate here for the first time with my Dad. Our...</td>\n",
       "      <td>1</td>\n",
       "      <td>9imSnJsjKTSTMlyMZ3EYYg</td>\n",
       "      <td>True</td>\n",
       "    </tr>\n",
       "    <tr>\n",
       "      <th>3</th>\n",
       "      <td>240675</td>\n",
       "      <td>hihud--QRriCYZw1zZvW4g</td>\n",
       "      <td>Gangnam Asian BBQ Dining</td>\n",
       "      <td>['Restaurants', 'Barbeque', 'Asian Fusion', 'J...</td>\n",
       "      <td>4.5</td>\n",
       "      <td>1</td>\n",
       "      <td>2016-07-12</td>\n",
       "      <td>1</td>\n",
       "      <td>MSO2c0jJxffesZ5nyhChiA</td>\n",
       "      <td>5</td>\n",
       "      <td>Arguably the best Korean BBQ I've ever eaten!!...</td>\n",
       "      <td>1</td>\n",
       "      <td>GtikpvzhSeE4OszoFO1-3A</td>\n",
       "      <td>True</td>\n",
       "    </tr>\n",
       "    <tr>\n",
       "      <th>4</th>\n",
       "      <td>240676</td>\n",
       "      <td>hihud--QRriCYZw1zZvW4g</td>\n",
       "      <td>Gangnam Asian BBQ Dining</td>\n",
       "      <td>['Restaurants', 'Barbeque', 'Asian Fusion', 'J...</td>\n",
       "      <td>4.5</td>\n",
       "      <td>0</td>\n",
       "      <td>2017-01-19</td>\n",
       "      <td>0</td>\n",
       "      <td>d97BSImX_nu-oQh-IL7H4Q</td>\n",
       "      <td>5</td>\n",
       "      <td>Amazing food and great service!   Enjoyed Kore...</td>\n",
       "      <td>0</td>\n",
       "      <td>-jEryluA1cM-rkkT6bwr9w</td>\n",
       "      <td>True</td>\n",
       "    </tr>\n",
       "  </tbody>\n",
       "</table>\n",
       "</div>"
      ],
      "text/plain": [
       "    index             business_id                      name  \\\n",
       "0  240672  hihud--QRriCYZw1zZvW4g  Gangnam Asian BBQ Dining   \n",
       "1  240673  hihud--QRriCYZw1zZvW4g  Gangnam Asian BBQ Dining   \n",
       "2  240674  hihud--QRriCYZw1zZvW4g  Gangnam Asian BBQ Dining   \n",
       "3  240675  hihud--QRriCYZw1zZvW4g  Gangnam Asian BBQ Dining   \n",
       "4  240676  hihud--QRriCYZw1zZvW4g  Gangnam Asian BBQ Dining   \n",
       "\n",
       "                                          categories  avg_stars  cool  \\\n",
       "0  ['Restaurants', 'Barbeque', 'Asian Fusion', 'J...        4.5     0   \n",
       "1  ['Restaurants', 'Barbeque', 'Asian Fusion', 'J...        4.5     0   \n",
       "2  ['Restaurants', 'Barbeque', 'Asian Fusion', 'J...        4.5     1   \n",
       "3  ['Restaurants', 'Barbeque', 'Asian Fusion', 'J...        4.5     1   \n",
       "4  ['Restaurants', 'Barbeque', 'Asian Fusion', 'J...        4.5     0   \n",
       "\n",
       "         date  funny               review_id  stars  \\\n",
       "0  2016-03-26      0  kd4UZwpH86KUxGr4pwafHQ      5   \n",
       "1  2015-12-25      0  hb-vHJj08C9PcPk5GhvmLA      5   \n",
       "2  2016-01-14      0  k4QFvv-0Es9n7864hEfaZw      5   \n",
       "3  2016-07-12      1  MSO2c0jJxffesZ5nyhChiA      5   \n",
       "4  2017-01-19      0  d97BSImX_nu-oQh-IL7H4Q      5   \n",
       "\n",
       "                                                text  useful  \\\n",
       "0  The food was soooo good. Defintiely worth the ...       0   \n",
       "1  The BBQ is yummy, and the soup is delicious. B...       0   \n",
       "2  I ate here for the first time with my Dad. Our...       1   \n",
       "3  Arguably the best Korean BBQ I've ever eaten!!...       1   \n",
       "4  Amazing food and great service!   Enjoyed Kore...       0   \n",
       "\n",
       "                  user_id  favorable  \n",
       "0  mW_hZQb_ZHiV-EhuXn9NkQ       True  \n",
       "1  DEmhjzcwgAfVI6Z23qxlIQ       True  \n",
       "2  9imSnJsjKTSTMlyMZ3EYYg       True  \n",
       "3  GtikpvzhSeE4OszoFO1-3A       True  \n",
       "4  -jEryluA1cM-rkkT6bwr9w       True  "
      ]
     },
     "execution_count": 106,
     "metadata": {},
     "output_type": "execute_result"
    }
   ],
   "source": [
    "df_top_restaurant.head()"
   ]
  },
  {
   "cell_type": "markdown",
   "metadata": {},
   "source": [
    "We can also load restaurant profile information from the business dataset (optional)"
   ]
  },
  {
   "cell_type": "code",
   "execution_count": 83,
   "metadata": {
    "collapsed": true
   },
   "outputs": [],
   "source": [
    "# Load business dataset (optional)\n",
    "# Take a look at the most reviewed restaurant's profile (optional)"
   ]
  },
  {
   "cell_type": "markdown",
   "metadata": {},
   "source": [
    "### Vectorize the text feature"
   ]
  },
  {
   "cell_type": "code",
   "execution_count": 13,
   "metadata": {
    "collapsed": true
   },
   "outputs": [],
   "source": [
    "# Take the values of the column that contains review text data, save to a variable named \"documents_top_restaurant\"\n",
    "documents_top_restaurant = df_top_restaurant['text'].values"
   ]
  },
  {
   "cell_type": "markdown",
   "metadata": {},
   "source": [
    "### Define your target variable (for later classification use)"
   ]
  },
  {
   "cell_type": "markdown",
   "metadata": {},
   "source": [
    "#### Again, we look at perfect (5 stars) and imperfect (1-4 stars) rating"
   ]
  },
  {
   "cell_type": "code",
   "execution_count": 14,
   "metadata": {
    "collapsed": true
   },
   "outputs": [],
   "source": [
    "# To be implemented\n",
    "df_top_restaurant['favorable'] = df_top_restaurant['stars'] > 4\n",
    "target_top_restaurant = df_top_restaurant['favorable'].values"
   ]
  },
  {
   "cell_type": "markdown",
   "metadata": {},
   "source": [
    "#### Check the statistic of the target variable"
   ]
  },
  {
   "cell_type": "code",
   "execution_count": 86,
   "metadata": {},
   "outputs": [
    {
     "data": {
      "text/plain": [
       "(0.73526220614828208, 0.44119348857189988)"
      ]
     },
     "execution_count": 86,
     "metadata": {},
     "output_type": "execute_result"
    }
   ],
   "source": [
    "# To be implemented\n",
    "target_top_restaurant.mean(), target_top_restaurant.std()"
   ]
  },
  {
   "cell_type": "markdown",
   "metadata": {},
   "source": [
    "### Create training dataset and test dataset"
   ]
  },
  {
   "cell_type": "code",
   "execution_count": 15,
   "metadata": {
    "collapsed": true
   },
   "outputs": [],
   "source": [
    "from sklearn.cross_validation import train_test_split"
   ]
  },
  {
   "cell_type": "code",
   "execution_count": 16,
   "metadata": {
    "collapsed": true
   },
   "outputs": [],
   "source": [
    "# documents_top_restaurant is your X, target_top_restaurant is your y\n",
    "# Now split the data to training set and test set\n",
    "# Now your data is smaller, you can use a typical \"test_size\", e.g. 0.3-0.7\n",
    "tr_train, tr_test, tr_target_train, tr_target_test = train_test_split(\n",
    "    documents_top_restaurant,\n",
    "    target_top_restaurant,\n",
    "    test_size = 0.7,\n",
    "    random_state = 111\n",
    ")"
   ]
  },
  {
   "cell_type": "markdown",
   "metadata": {},
   "source": [
    "### Get NLP representation of the documents"
   ]
  },
  {
   "cell_type": "code",
   "execution_count": 20,
   "metadata": {
    "collapsed": true
   },
   "outputs": [],
   "source": [
    "from sklearn.feature_extraction.text import TfidfVectorizer"
   ]
  },
  {
   "cell_type": "code",
   "execution_count": 21,
   "metadata": {
    "collapsed": true
   },
   "outputs": [],
   "source": [
    "# Create TfidfVectorizer, and name it vectorizer\n",
    "vectorizer = TfidfVectorizer(stop_words = 'english', max_features=1000)"
   ]
  },
  {
   "cell_type": "code",
   "execution_count": 22,
   "metadata": {
    "collapsed": true
   },
   "outputs": [],
   "source": [
    "# Train the model with your training data\n",
    "tr_train = vectorizer.fit_transform(tr_train).toarray()"
   ]
  },
  {
   "cell_type": "code",
   "execution_count": 23,
   "metadata": {
    "collapsed": true
   },
   "outputs": [],
   "source": [
    "# Get the vocab of your tfidf\n",
    "words = vectorizer.get_feature_names()"
   ]
  },
  {
   "cell_type": "code",
   "execution_count": 24,
   "metadata": {
    "collapsed": true
   },
   "outputs": [],
   "source": [
    "# Use the trained model to transform the test data\n",
    "tr_test = vectorizer.transform(tr_test).toarray()"
   ]
  },
  {
   "cell_type": "code",
   "execution_count": 25,
   "metadata": {
    "collapsed": true
   },
   "outputs": [],
   "source": [
    "# Use the trained model to transform all the data\n",
    "X = vectorizer.transform(documents_top_restaurant).toarray()"
   ]
  },
  {
   "cell_type": "markdown",
   "metadata": {},
   "source": [
    "### Cluster reviews with KMeans"
   ]
  },
  {
   "cell_type": "markdown",
   "metadata": {},
   "source": [
    "#### Fit k-means clustering on the training vectors and make predictions on all data"
   ]
  },
  {
   "cell_type": "code",
   "execution_count": 97,
   "metadata": {},
   "outputs": [
    {
     "data": {
      "text/plain": [
       "KMeans(algorithm='auto', copy_x=True, init='k-means++', max_iter=300,\n",
       "    n_clusters=8, n_init=10, n_jobs=1, precompute_distances='auto',\n",
       "    random_state=None, tol=0.0001, verbose=0)"
      ]
     },
     "execution_count": 97,
     "metadata": {},
     "output_type": "execute_result"
    }
   ],
   "source": [
    "# To be implemented\n",
    "from sklearn.cluster import KMeans\n",
    "kmeans = KMeans()\n",
    "kmeans.fit(tr_train)"
   ]
  },
  {
   "cell_type": "markdown",
   "metadata": {},
   "source": [
    "#### Make predictions on all your data"
   ]
  },
  {
   "cell_type": "code",
   "execution_count": 98,
   "metadata": {},
   "outputs": [
    {
     "data": {
      "text/plain": [
       "array([2, 5, 6, ..., 1, 7, 4], dtype=int32)"
      ]
     },
     "execution_count": 98,
     "metadata": {},
     "output_type": "execute_result"
    }
   ],
   "source": [
    "# To be implemented\n",
    "kmeans.predict(X)"
   ]
  },
  {
   "cell_type": "markdown",
   "metadata": {},
   "source": [
    "#### Inspect the centroids"
   ]
  },
  {
   "cell_type": "code",
   "execution_count": 99,
   "metadata": {},
   "outputs": [
    {
     "name": "stdout",
     "output_type": "stream",
     "text": [
      "cluster centers:\n",
      "[[  1.19262239e-18  -2.25514052e-17   4.33680869e-18 ...,   1.02092040e-02\n",
      "    1.81939188e-03   1.08420217e-18]\n",
      " [ -6.50521303e-19   9.14016101e-03   6.75594183e-04 ...,   3.83612619e-03\n",
      "    1.36111021e-02   6.11963974e-03]\n",
      " [  5.43031598e-03   1.12598072e-02   2.05379900e-03 ...,  -2.16840434e-18\n",
      "    1.14413941e-02   5.42101086e-19]\n",
      " ..., \n",
      " [  1.31263426e-03   1.06850515e-02   3.92714753e-03 ...,   1.80600604e-03\n",
      "    6.99164148e-03   5.19837282e-04]\n",
      " [  1.30104261e-18   1.02608107e-02   4.77048956e-18 ...,  -2.16840434e-18\n",
      "    8.64454586e-03   1.19262239e-18]\n",
      " [  1.62630326e-18   3.99767817e-03   4.70079422e-03 ...,   2.45621373e-03\n",
      "    6.22597820e-03   1.19262239e-18]]\n"
     ]
    }
   ],
   "source": [
    "# To be implemented\n",
    "print (\"cluster centers:\")\n",
    "print (kmeans.cluster_centers_)"
   ]
  },
  {
   "cell_type": "markdown",
   "metadata": {},
   "source": [
    "#### Find the top 10 features for each cluster."
   ]
  },
  {
   "cell_type": "code",
   "execution_count": 100,
   "metadata": {},
   "outputs": [
    {
     "name": "stdout",
     "output_type": "stream",
     "text": [
      "top features for each cluster:\n",
      "0: good, meat, food, service, quality, place, nice, portions, great, really\n",
      "1: spicy, pork, good, really, soup, like, belly, tofu, chicken, bbq\n",
      "2: happy, hour, great, food, good, awesome, place, definitely, came, come\n",
      "3: vegas, las, come, bbq, time, best, korean, good, restaurant, great\n",
      "4: staff, friendly, food, good, place, wait, great, clean, nice, helpful\n",
      "5: food, place, delicious, meat, amazing, service, time, got, definitely, come\n",
      "6: great, food, service, delicious, atmosphere, place, meat, bbq, time, recommend\n",
      "7: korean, bbq, best, ve, place, food, definitely, vegas, places, restaurant\n"
     ]
    }
   ],
   "source": [
    "# To be implemented\n",
    "top_centroids = kmeans.cluster_centers_.argsort()[:,-1:-11:-1]\n",
    "print (\"top features for each cluster:\")\n",
    "for num, centroid in enumerate(top_centroids):\n",
    "    print (\"%d: %s\" % (num, \", \".join(words[i] for i in centroid)))"
   ]
  },
  {
   "cell_type": "code",
   "execution_count": 101,
   "metadata": {},
   "outputs": [
    {
     "data": {
      "text/plain": [
       "(829, 1000)"
      ]
     },
     "execution_count": 101,
     "metadata": {},
     "output_type": "execute_result"
    }
   ],
   "source": [
    "tr_train.shape"
   ]
  },
  {
   "cell_type": "code",
   "execution_count": 102,
   "metadata": {},
   "outputs": [
    {
     "data": {
      "text/plain": [
       "(1936, 1000)"
      ]
     },
     "execution_count": 102,
     "metadata": {},
     "output_type": "execute_result"
    }
   ],
   "source": [
    "tr_test.shape"
   ]
  },
  {
   "cell_type": "markdown",
   "metadata": {},
   "source": [
    "#### Print out the rating and review of a random sample of the reviews assigned to each cluster to get a sense of the cluster."
   ]
  },
  {
   "cell_type": "code",
   "execution_count": 108,
   "metadata": {},
   "outputs": [
    {
     "name": "stdout",
     "output_type": "stream",
     "text": [
      "cluster 0:\n",
      "    4     False\n",
      "    5     True\n",
      "    5     True\n",
      "cluster 1:\n",
      "    3     False\n",
      "    2     False\n",
      "    5     True\n",
      "cluster 2:\n",
      "    5     True\n",
      "    5     True\n",
      "    5     True\n",
      "cluster 3:\n",
      "    5     True\n",
      "    5     True\n",
      "    4     False\n",
      "cluster 4:\n",
      "    4     False\n",
      "    5     True\n",
      "    4     False\n",
      "cluster 5:\n",
      "    5     True\n",
      "    5     True\n",
      "    5     True\n",
      "cluster 6:\n",
      "    5     True\n",
      "    5     True\n",
      "    5     True\n",
      "cluster 7:\n",
      "    5     True\n",
      "    5     True\n",
      "    2     False\n"
     ]
    }
   ],
   "source": [
    "# To be implemented\n",
    "assigned_cluster = kmeans.transform(tr_train).argmin(axis=1)\n",
    "for i in range(kmeans.n_clusters):\n",
    "    cluster = np.arange(0, tr_train.shape[0])[assigned_cluster==i]\n",
    "    sample_review = np.random.choice(cluster, 3, replace=False)\n",
    "    print (\"cluster %d:\" % i)\n",
    "    for rating in sample_review:\n",
    "        print (\"    %s\" % df_top_restaurant.loc[rating]['stars'],\"    %s\" % df_top_restaurant.loc[rating]['favorable'])"
   ]
  },
  {
   "cell_type": "markdown",
   "metadata": {},
   "source": [
    "## 3. Use PCA to reduce dimensionality"
   ]
  },
  {
   "cell_type": "markdown",
   "metadata": {},
   "source": [
    "### Stardardize features\n",
    "Your X_train and X_test"
   ]
  },
  {
   "cell_type": "code",
   "execution_count": 109,
   "metadata": {
    "collapsed": true
   },
   "outputs": [],
   "source": [
    "from sklearn.preprocessing import StandardScaler\n",
    "\n",
    "scaler = StandardScaler()\n",
    "X_train = scaler.fit_transform(tr_train)\n",
    "X_test = scaler.fit_transform(tr_test)"
   ]
  },
  {
   "cell_type": "markdown",
   "metadata": {},
   "source": [
    "### Use PCA to transform data (train and test) and get princial components"
   ]
  },
  {
   "cell_type": "code",
   "execution_count": 167,
   "metadata": {
    "collapsed": true
   },
   "outputs": [],
   "source": [
    "from sklearn.decomposition import PCA\n",
    "\n",
    "# Let's pick a n_components\n",
    "n_components = 50\n",
    "\n",
    "pca = PCA(n_components)\n",
    "\n",
    "train_components = pca.fit_transform(X_train)# fit: get V, lambda; transform: X_train*V\n",
    "test_components = pca.transform(X_test)"
   ]
  },
  {
   "cell_type": "markdown",
   "metadata": {},
   "source": [
    "### See how much (and how much percentage of) variance the principal components explain"
   ]
  },
  {
   "cell_type": "code",
   "execution_count": 111,
   "metadata": {},
   "outputs": [
    {
     "name": "stdout",
     "output_type": "stream",
     "text": [
      "(50,)\n",
      "[ 8.03138542  6.08529625  5.45585175  5.27020178  5.24119713  5.00913959\n",
      "  4.88146342  4.86109843  4.75535709  4.67314275  4.6230613   4.60122696\n",
      "  4.4780189   4.34930948  4.32478944  4.31065697  4.29540243  4.20794497\n",
      "  4.18514095  4.13030916  4.09388351  4.08580979  4.05069867  4.02676031\n",
      "  3.98125891  3.96396067  3.92080005  3.90609374  3.879845    3.8667013\n",
      "  3.83219168  3.80785405  3.79723721  3.76157411  3.72800056  3.70639787\n",
      "  3.65376769  3.62887432  3.61231671  3.59732243  3.56779044  3.53344618\n",
      "  3.49439633  3.46589713  3.44556732  3.41372011  3.37753104  3.34989561\n",
      "  3.3353404   3.3257913 ]\n"
     ]
    }
   ],
   "source": [
    "# To be implemented\n",
    "print (pca.explained_variance_.shape)\n",
    "print (pca.explained_variance_)"
   ]
  },
  {
   "cell_type": "code",
   "execution_count": 112,
   "metadata": {},
   "outputs": [
    {
     "name": "stdout",
     "output_type": "stream",
     "text": [
      "(50, 1000)\n",
      "[[ 0.01607509 -0.00545404  0.00618033 ...,  0.00860396 -0.01111483\n",
      "   0.03765652]\n",
      " [-0.01063174  0.00389014  0.01205356 ..., -0.02422164 -0.02575185\n",
      "  -0.0211227 ]\n",
      " [-0.02057785  0.00292102 -0.0255083  ..., -0.00156757  0.00776976\n",
      "   0.00339975]\n",
      " ..., \n",
      " [ 0.03360857 -0.01884128 -0.0374976  ...,  0.02138236  0.001879\n",
      "  -0.02601916]\n",
      " [ 0.0267301   0.030169    0.02301188 ..., -0.01560879  0.04545141\n",
      "  -0.03107634]\n",
      " [ 0.03431148 -0.00241332  0.07219638 ...,  0.04262624  0.0004638\n",
      "   0.03587992]]\n"
     ]
    }
   ],
   "source": [
    "# To be implemented\n",
    "print (pca.components_.shape)\n",
    "print (pca.components_)"
   ]
  },
  {
   "cell_type": "code",
   "execution_count": 174,
   "metadata": {},
   "outputs": [
    {
     "data": {
      "text/plain": [
       "<matplotlib.text.Text at 0x1115352b0>"
      ]
     },
     "execution_count": 174,
     "metadata": {},
     "output_type": "execute_result"
    },
    {
     "data": {
      "image/png": "[encoded data removed]",
      "text/plain": [
       "<matplotlib.figure.Figure at 0x1143d3198>"
      ]
     },
     "metadata": {},
     "output_type": "display_data"
    }
   ],
   "source": [
    "pca_range = np.arange(n_components) + 1\n",
    "pca_names = ['PCA_%s' % i for i in pca_range]\n",
    "plt.bar(pca_range[:20], pca.explained_variance_[:20], align='center')\n",
    "xticks = plt.xticks(pca_range[:20], pca_names, rotation=90)\n",
    "plt.ylabel('Variance Explained')"
   ]
  },
  {
   "cell_type": "markdown",
   "metadata": {},
   "source": [
    "### Viz: plot proportion of variance explained with top principal components\n",
    "\n",
    "For clear display, you may start with plotting <=20 principal components"
   ]
  },
  {
   "cell_type": "code",
   "execution_count": 113,
   "metadata": {
    "collapsed": true
   },
   "outputs": [],
   "source": [
    "import matplotlib.pyplot as plt\n",
    "%matplotlib inline\n",
    "plt.style.use(\"ggplot\")"
   ]
  },
  {
   "cell_type": "code",
   "execution_count": 170,
   "metadata": {},
   "outputs": [
    {
     "data": {
      "text/plain": [
       "array([ 1,  2,  3,  4,  5,  6,  7,  8,  9, 10, 11, 12, 13, 14, 15, 16, 17,\n",
       "       18, 19, 20, 21, 22, 23, 24, 25, 26, 27, 28, 29, 30, 31, 32, 33, 34,\n",
       "       35, 36, 37, 38, 39, 40, 41, 42, 43, 44, 45, 46, 47, 48, 49, 50])"
      ]
     },
     "execution_count": 170,
     "metadata": {},
     "output_type": "execute_result"
    }
   ],
   "source": [
    "pca_range"
   ]
  },
  {
   "cell_type": "code",
   "execution_count": 173,
   "metadata": {},
   "outputs": [
    {
     "data": {
      "text/plain": [
       "<matplotlib.text.Text at 0x1186cd4e0>"
      ]
     },
     "execution_count": 173,
     "metadata": {},
     "output_type": "execute_result"
    },
    {
     "data": {
      "image/png": "[encoded data removed]",
      "text/plain": [
       "<matplotlib.figure.Figure at 0x118476128>"
      ]
     },
     "metadata": {},
     "output_type": "display_data"
    }
   ],
   "source": [
    "pca_range = np.arange(n_components) + 1\n",
    "pca_names = ['PCA_%s' % i for i in pca_range]\n",
    "plt.bar(pca_range[:20], pca.explained_variance_ratio_[:20], align='center')\n",
    "xticks = plt.xticks(pca_range[:20], pca_names, rotation=90)\n",
    "plt.ylabel('Proportion of Variance Explained')"
   ]
  },
  {
   "cell_type": "markdown",
   "metadata": {},
   "source": [
    "## Classifying positive/negative review with PCA preprocessing"
   ]
  },
  {
   "cell_type": "markdown",
   "metadata": {},
   "source": [
    "### Logistic Regression Classifier\n",
    "#### Use standardized tf-idf vectors as features"
   ]
  },
  {
   "cell_type": "code",
   "execution_count": 126,
   "metadata": {},
   "outputs": [
    {
     "data": {
      "text/plain": [
       "LogisticRegression(C=1.0, class_weight=None, dual=False, fit_intercept=True,\n",
       "          intercept_scaling=1, max_iter=100, multi_class='ovr', n_jobs=1,\n",
       "          penalty='l2', random_state=None, solver='liblinear', tol=0.0001,\n",
       "          verbose=0, warm_start=False)"
      ]
     },
     "execution_count": 126,
     "metadata": {},
     "output_type": "execute_result"
    }
   ],
   "source": [
    "# Build a Logistic Regression Classifier, train with standardized tf-idf vectors\n",
    "\n",
    "from sklearn.linear_model import LogisticRegression\n",
    "\n",
    "model = LogisticRegression()\n",
    "model.fit(tr_train, tr_target_train)"
   ]
  },
  {
   "cell_type": "code",
   "execution_count": 127,
   "metadata": {},
   "outputs": [
    {
     "data": {
      "text/plain": [
       "0.82267792521109773"
      ]
     },
     "execution_count": 127,
     "metadata": {},
     "output_type": "execute_result"
    }
   ],
   "source": [
    "# Get score for training set\n",
    "model.score(tr_train, tr_target_train)"
   ]
  },
  {
   "cell_type": "code",
   "execution_count": 128,
   "metadata": {
    "scrolled": true
   },
   "outputs": [
    {
     "data": {
      "text/plain": [
       "0.74948347107438018"
      ]
     },
     "execution_count": 128,
     "metadata": {},
     "output_type": "execute_result"
    }
   ],
   "source": [
    "# Get score for test set\n",
    "model.score(tr_test, tr_target_test)"
   ]
  },
  {
   "cell_type": "markdown",
   "metadata": {},
   "source": [
    "#### Use (Stardardized + PCA) tf-idf vectors as features"
   ]
  },
  {
   "cell_type": "code",
   "execution_count": 191,
   "metadata": {},
   "outputs": [
    {
     "data": {
      "text/plain": [
       "LogisticRegression(C=1.0, class_weight=None, dual=False, fit_intercept=True,\n",
       "          intercept_scaling=1, max_iter=100, multi_class='ovr', n_jobs=1,\n",
       "          penalty='l2', random_state=None, solver='liblinear', tol=0.0001,\n",
       "          verbose=0, warm_start=False)"
      ]
     },
     "execution_count": 191,
     "metadata": {},
     "output_type": "execute_result"
    }
   ],
   "source": [
    "# Build a Logistic Regression Classifier, train with PCA tranformed X\n",
    "from sklearn.linear_model import LogisticRegression\n",
    "model = LogisticRegression()\n",
    "model.fit(train_components, tr_target_train)"
   ]
  },
  {
   "cell_type": "code",
   "execution_count": 143,
   "metadata": {},
   "outputs": [
    {
     "data": {
      "text/plain": [
       "0.79613992762364294"
      ]
     },
     "execution_count": 143,
     "metadata": {},
     "output_type": "execute_result"
    }
   ],
   "source": [
    "# Get score for training set\n",
    "model.score(train_components, tr_target_train)"
   ]
  },
  {
   "cell_type": "code",
   "execution_count": 144,
   "metadata": {},
   "outputs": [
    {
     "data": {
      "text/plain": [
       "0.7649793388429752"
      ]
     },
     "execution_count": 144,
     "metadata": {},
     "output_type": "execute_result"
    }
   ],
   "source": [
    "# Get score for test set, REMEMBER to use PCA-transformed X!\n",
    "model.score(test_components, tr_target_test)"
   ]
  },
  {
   "cell_type": "markdown",
   "metadata": {},
   "source": [
    "#### Q: What do you see from the training score and the test score? How do you compare the results from PCA and non-PCA preprocessing?"
   ]
  },
  {
   "cell_type": "markdown",
   "metadata": {},
   "source": [
    "A: PCA results have better perfoemance on test results but worse results on training results. This is because PCA processing will do feature selections, and decrease the model interpretability, but also decrease the model variance. \n",
    "The coefficeints fluctuate a lot against PCA."
   ]
  },
  {
   "cell_type": "markdown",
   "metadata": {},
   "source": [
    "#### You can plot the coefficients against principal components\n"
   ]
  },
  {
   "cell_type": "code",
   "execution_count": 192,
   "metadata": {},
   "outputs": [
    {
     "data": {
      "text/plain": [
       "<matplotlib.legend.Legend at 0x1182e1ba8>"
      ]
     },
     "execution_count": 192,
     "metadata": {},
     "output_type": "execute_result"
    },
    {
     "data": {
      "image/png": "[encoded data removed]",
      "text/plain": [
       "<matplotlib.figure.Figure at 0x1182e1320>"
      ]
     },
     "metadata": {},
     "output_type": "display_data"
    }
   ],
   "source": [
    "# visualize the covariance of transformed feature matrix\n",
    "plt.plot(pca_range, model.coef_[0], marker='o', color='b', alpha=.5, label='coefficients')\n",
    "plt.ylabel('coefficients', fontsize=14)\n",
    "plt.xlabel('Principal Components Included in Model', fontsize=14)"
   ]
  },
  {
   "cell_type": "markdown",
   "metadata": {},
   "source": [
    "### Random Forest Classifier\n",
    "#### Use standardized tf-idf vectors as features"
   ]
  },
  {
   "cell_type": "code",
   "execution_count": 129,
   "metadata": {},
   "outputs": [
    {
     "data": {
      "text/plain": [
       "RandomForestClassifier(bootstrap=True, class_weight=None, criterion='gini',\n",
       "            max_depth=15, max_features='auto', max_leaf_nodes=None,\n",
       "            min_impurity_split=1e-07, min_samples_leaf=3,\n",
       "            min_samples_split=2, min_weight_fraction_leaf=0.0,\n",
       "            n_estimators=20, n_jobs=-1, oob_score=False, random_state=1,\n",
       "            verbose=0, warm_start=False)"
      ]
     },
     "execution_count": 129,
     "metadata": {},
     "output_type": "execute_result"
    }
   ],
   "source": [
    "# Build a Random Forest Classifier\n",
    "from sklearn.ensemble import RandomForestClassifier\n",
    "model = RandomForestClassifier(n_jobs=-1,n_estimators=20,max_depth=15,min_samples_leaf=3, random_state=1)\n",
    "model.fit(tr_train, tr_target_train)"
   ]
  },
  {
   "cell_type": "code",
   "execution_count": 130,
   "metadata": {},
   "outputs": [
    {
     "data": {
      "text/plain": [
       "0.80096501809408926"
      ]
     },
     "execution_count": 130,
     "metadata": {},
     "output_type": "execute_result"
    }
   ],
   "source": [
    "# Get score for training set\n",
    "model.score(tr_train, tr_target_train)"
   ]
  },
  {
   "cell_type": "code",
   "execution_count": 131,
   "metadata": {
    "scrolled": true
   },
   "outputs": [
    {
     "data": {
      "text/plain": [
       "0.74793388429752061"
      ]
     },
     "execution_count": 131,
     "metadata": {},
     "output_type": "execute_result"
    }
   ],
   "source": [
    "# Get score for test set\n",
    "model.score(tr_test, tr_target_test)"
   ]
  },
  {
   "cell_type": "markdown",
   "metadata": {},
   "source": [
    "#### Use (Stardardized + PCA) tf-idf vectors as features"
   ]
  },
  {
   "cell_type": "code",
   "execution_count": 193,
   "metadata": {},
   "outputs": [
    {
     "data": {
      "text/plain": [
       "RandomForestClassifier(bootstrap=True, class_weight=None, criterion='gini',\n",
       "            max_depth=15, max_features='auto', max_leaf_nodes=None,\n",
       "            min_impurity_split=1e-07, min_samples_leaf=3,\n",
       "            min_samples_split=2, min_weight_fraction_leaf=0.0,\n",
       "            n_estimators=20, n_jobs=-1, oob_score=False, random_state=1,\n",
       "            verbose=0, warm_start=False)"
      ]
     },
     "execution_count": 193,
     "metadata": {},
     "output_type": "execute_result"
    }
   ],
   "source": [
    "# Build a Random Forest Classifier\n",
    "from sklearn.ensemble import RandomForestClassifier\n",
    "model = RandomForestClassifier(n_jobs=-1,n_estimators=20,max_depth=15,min_samples_leaf=3, random_state=1)\n",
    "model.fit(train_components, tr_target_train)"
   ]
  },
  {
   "cell_type": "code",
   "execution_count": 195,
   "metadata": {},
   "outputs": [
    {
     "data": {
      "text/plain": [
       "0.96260554885404104"
      ]
     },
     "execution_count": 195,
     "metadata": {},
     "output_type": "execute_result"
    }
   ],
   "source": [
    "# Get score for training set\n",
    "model.score(train_components, tr_target_train)"
   ]
  },
  {
   "cell_type": "code",
   "execution_count": 196,
   "metadata": {},
   "outputs": [
    {
     "data": {
      "text/plain": [
       "0.74845041322314054"
      ]
     },
     "execution_count": 196,
     "metadata": {},
     "output_type": "execute_result"
    }
   ],
   "source": [
    "# Get score for test set, REMEMBER to use PCA-transformed X!\n",
    "model.score(test_components, tr_target_test)"
   ]
  },
  {
   "cell_type": "markdown",
   "metadata": {},
   "source": [
    "#### Q: What do you see from the training result and the test result?"
   ]
  },
  {
   "cell_type": "markdown",
   "metadata": {},
   "source": [
    "A: PCA processing has great effect on training set, and improve the performance a lot, but has minor effect on testing set. \n",
    "The feature importances fluctuate with PCA after the first one\n",
    "\n",
    "Random forest have too much noise\n",
    "testing results are not better"
   ]
  },
  {
   "cell_type": "markdown",
   "metadata": {},
   "source": [
    "#### You can plot the feature importances against principal components\n"
   ]
  },
  {
   "cell_type": "code",
   "execution_count": 194,
   "metadata": {},
   "outputs": [
    {
     "data": {
      "text/plain": [
       "<matplotlib.text.Text at 0x116d216d8>"
      ]
     },
     "execution_count": 194,
     "metadata": {},
     "output_type": "execute_result"
    },
    {
     "data": {
      "image/png": "[encoded data removed]",
      "text/plain": [
       "<matplotlib.figure.Figure at 0x115e77cf8>"
      ]
     },
     "metadata": {},
     "output_type": "display_data"
    }
   ],
   "source": [
    "plt.plot(pca_range, model.estimators_[0].feature_importances_, marker='o', color='b', alpha=.5, label='importance')\n",
    "plt.ylabel('importance', fontsize=14)\n",
    "plt.xlabel('Principal Components Included in Model', fontsize=14)"
   ]
  },
  {
   "cell_type": "markdown",
   "metadata": {},
   "source": [
    "## Extra Credit #1: Can you cluster restaurants from their category information?\n",
    "Hint: a business may have mutiple categories, e.g. a restaurant can have both \"Restaurants\" and \"Korean\""
   ]
  },
  {
   "cell_type": "code",
   "execution_count": 164,
   "metadata": {},
   "outputs": [
    {
     "name": "stdout",
     "output_type": "stream",
     "text": [
      "top features for each cluster with 50 max features:\n",
      "0: american, traditional, new, restaurants, breakfast\n",
      "1: food, restaurants, tea, specialty, coffee\n",
      "2: bars, nightlife, sushi, restaurants, american\n",
      "3: mexican, restaurants, food, seafood, american\n",
      "4: restaurants, sandwiches, italian, steakhouses, barbeque\n",
      "5: pizza, restaurants, italian, wings, chicken\n",
      "6: chinese, restaurants, asian, fusion, fast\n",
      "7: fast, food, burgers, restaurants, sandwiches\n"
     ]
    }
   ],
   "source": [
    "# Take the values of the column that contains review text data, save to a variable named \"documents\"\n",
    "df_selected_business = pd.read_csv('yelp_dataset_challenge_round10/selected_business.csv')\n",
    "documents_ca = df_selected_business['categories'].values\n",
    "vectorizer = TfidfVectorizer(stop_words='english', max_features=50)\n",
    "X = vectorizer.fit_transform(documents_ca)\n",
    "features = vectorizer.get_feature_names()\n",
    "kmeans = KMeans()\n",
    "kmeans.fit(X)\n",
    "top_centroids = kmeans.cluster_centers_.argsort()[:,-1:-6:-1]\n",
    "print (\"top features for each cluster with 50 max features:\")\n",
    "for num, centroid in enumerate(top_centroids):\n",
    "    print (\"%d: %s\" % (num, \", \".join(features[i] for i in centroid)))\n",
    "#df has different number of count for each business entities, need to use df_selected_business from business file"
   ]
  },
  {
   "cell_type": "markdown",
   "metadata": {},
   "source": [
    "## Extra Credit #2: Can you try different distance/similarity metrics for clusterings, e.g. Pearson correlation, Jaccard distance, etc. \n",
    "\n",
    "Hint: You can take a look at [scipy](http://docs.scipy.org/doc/scipy/reference/generated/scipy.spatial.distance.pdist.html#scipy.spatial.distance.pdist) documentations to use other distances\n",
    "\n",
    "#### Q: How do you compare with Cosine distance or Euclidean distance?"
   ]
  },
  {
   "cell_type": "code",
   "execution_count": 18,
   "metadata": {
    "collapsed": true
   },
   "outputs": [],
   "source": [
    "import random\n",
    "import numpy as np\n",
    "from scipy.spatial.distance import pdist\n",
    "from scipy.spatial.distance import euclidean\n",
    "from collections import defaultdict\n",
    "from sklearn import datasets\n",
    "import matplotlib.pyplot as plt\n",
    "from sklearn.metrics import silhouette_score\n",
    "from itertools import combinations\n",
    "% matplotlib inline\n",
    "\n",
    "def k_means(X, k=5, max_iter=1000):\n",
    "    \"\"\"Performs k means\n",
    "\n",
    "    Args:\n",
    "    - X - feature matrix\n",
    "    - k - number of clusters\n",
    "    - max_iter - maximum iteratations\n",
    "\n",
    "    Returns:\n",
    "    - clusters - dict mapping cluster centers to observations\n",
    "    \"\"\"\n",
    "    centers = [tuple(pt) for pt in random.sample(list(X), k)]\n",
    "    for i in range(max_iter):\n",
    "        clusters = defaultdict(list)\n",
    "\n",
    "        for datapoint in X:\n",
    "            distances = [pdist((datapoint, center), 'jaccard')for center in centers]\n",
    "            #distances = [euclidean(datapoint, center) for center in centers]\n",
    "            center = centers[np.argmin(distances)]\n",
    "            clusters[center].append(datapoint)\n",
    "\n",
    "        new_centers = []\n",
    "        for center, pts in clusters.items():\n",
    "            new_center = np.mean(pts, axis=0)\n",
    "            new_centers.append(tuple(new_center))\n",
    "\n",
    "        if set(new_centers) == set(centers):\n",
    "            break\n",
    "\n",
    "        centers = new_centers\n",
    "\n",
    "    return clusters\n",
    "\n",
    "\n",
    "def sse(clusters):\n",
    "    \"\"\"Sum squared euclidean distance of all points to their cluster center\"\"\"\n",
    "    sum_squared_residuals = 0\n",
    "    for center, pts in clusters.items():\n",
    "        for pt in pts:\n",
    "            sum_squared_residuals += euclidean(pt, center)**2\n",
    "    return sum_squared_residuals\n",
    "\n",
    "\n",
    "def plot_k_sse(X, min_k, max_k):\n",
    "    \"\"\"Plots sse for values of k between min_k and max_k\n",
    "\n",
    "    Args:\n",
    "    - X - feature matrix\n",
    "    - min_k, max_k - smallest and largest k to plot sse for\n",
    "    \"\"\"\n",
    "    k_values = range(min_k, max_k+1)\n",
    "    sse_values = []\n",
    "    for k in k_values:\n",
    "        clusters = k_means(X, k=k)\n",
    "        sse_values.append(sse(clusters))\n",
    "    plt.plot(k_values, sse_values)\n",
    "    plt.xlabel('k')\n",
    "    plt.ylabel('sum squared error')\n",
    "\n",
    "\n",
    "def turn_clusters_into_labels(clusters):\n",
    "    \"\"\"Converts clusters dict returned by k_means into X, y (labels)\n",
    "\n",
    "    Args:\n",
    "    - clusters - dict mapping cluster centers to observations\n",
    "    \"\"\"\n",
    "    labels = []\n",
    "    new_X = []\n",
    "    label = 0\n",
    "    for cluster, pts in clusters.items():\n",
    "        for pt in pts:\n",
    "            new_X.append(pt)\n",
    "            labels.append(label)\n",
    "        label += 1\n",
    "    return np.array(new_X), np.array(labels)\n",
    "\n",
    "\n",
    "def plot_k_silhouette(X, min_k, max_k):\n",
    "    \"\"\"Plots sse for values of k between min_k and max_k\n",
    "\n",
    "    Args:\n",
    "    - X - feature matrix\n",
    "    - min_k, max_k - smallest and largest k to plot sse for\n",
    "    \"\"\"\n",
    "    k_values = range(min_k, max_k+1)\n",
    "    silhouette_scores = []\n",
    "    for k in k_values:\n",
    "        clusters = k_means(X, k=k)\n",
    "        new_X, labels = turn_clusters_into_labels(clusters)\n",
    "        silhouette_scores.append(silhouette_score(new_X, labels))\n",
    "\n",
    "    plt.plot(k_values, silhouette_scores)\n",
    "    plt.xlabel('k')\n",
    "    plt.ylabel('silhouette score')\n",
    "\n",
    "\n",
    "def plot_all_2d(X, feature_names, k=3):\n",
    "    \"\"\"Generates all possible 2d plots of observations color coded by cluster ID\"\"\"\n",
    "    pairs = list(combinations(range(X.shape[1]), 2))\n",
    "    fig, axes = plt.subplots((len(pairs) // 2), 2)\n",
    "    flattened_axes = [ax for ls in axes for ax in ls]\n",
    "\n",
    "    for pair, ax in zip(pairs, flattened_axes):\n",
    "        pair = np.array(pair)\n",
    "        plot_data_2d(X[:, pair], feature_names[pair], ax, k=k)\n",
    "\n",
    "\n",
    "def plot_data_2d(X, plot_labels, ax, k=3):\n",
    "    \"\"\"Generates single 2d plot of observations color coded by cluster ID\"\"\"\n",
    "    clusters = k_means(X, k=k)\n",
    "    new_X, labels = turn_clusters_into_labels(clusters)\n",
    "    ax.scatter(new_X[:, 0], new_X[:, 1], c=labels)\n",
    "    ax.set_xlabel(plot_labels[0])\n",
    "    ax.set_ylabel(plot_labels[1])"
   ]
  },
  {
   "cell_type": "code",
   "execution_count": 26,
   "metadata": {
    "collapsed": true
   },
   "outputs": [],
   "source": [
    "clustered_X = k_means(tr_train, k=6, max_iter=1000)"
   ]
  },
  {
   "cell_type": "code",
   "execution_count": 27,
   "metadata": {},
   "outputs": [
    {
     "data": {
      "image/png": "[encoded data removed]",
      "text/plain": [
       "<matplotlib.figure.Figure at 0x10f882080>"
      ]
     },
     "metadata": {},
     "output_type": "display_data"
    }
   ],
   "source": [
    "plot_k_silhouette(tr_train, 2, 10)"
   ]
  },
  {
   "cell_type": "markdown",
   "metadata": {
    "collapsed": true
   },
   "source": [
    "from scipy.spatial.distance import pdist, squareform\n",
    "Y = pdist(X, 'jaccard')\n",
    "Y = pdist(X, 'euclidean')\n",
    "Y = pdist(X, 'cosine')\n",
    "\n",
    "Use the command above to change the kmeans function and compre with Cosine distance or Euclidean distance using Silhouette figure\n",
    "\n",
    "cosine distance is scaled"
   ]
  },
  {
   "cell_type": "markdown",
   "metadata": {},
   "source": [
    "## Extra Credit #3: Can you cluster categories from business entities? What does it mean by a cluster?\n",
    "Hint: Think the example where words can be clustered from the transposed tf-idf matrix."
   ]
  },
  {
   "cell_type": "code",
   "execution_count": 157,
   "metadata": {
    "collapsed": true
   },
   "outputs": [],
   "source": [
    "import json\n",
    "file_business, file_checkin, file_review, file_tip, file_user = [\n",
    "    'yelp_dataset_challenge_round10/business.json',\n",
    "    'yelp_dataset_challenge_round10/checkin.json',\n",
    "    'yelp_dataset_challenge_round10/review.json',\n",
    "    'yelp_dataset_challenge_round10/tip.json',\n",
    "    'yelp_dataset_challenge_round10/user.json'\n",
    "]\n",
    "with open(file_business) as f:\n",
    "    df_business = pd.DataFrame(json.loads(line) for line in f)"
   ]
  },
  {
   "cell_type": "code",
   "execution_count": 166,
   "metadata": {},
   "outputs": [
    {
     "name": "stdout",
     "output_type": "stream",
     "text": [
      "top features for each cluster with 1000 max features:\n",
      "0: shopping, automotive, services, auto, repair, fashion, life, active, pet, stores\n",
      "1: spas, beauty, salons, hair, nail, removal, barbers, skin, day, care\n",
      "2: medical, health, dentists, doctors, dentistry, general, massage, therapy, cosmetic, chiropractors\n",
      "3: home, services, real, estate, garden, shopping, apartments, contractors, stores, local\n",
      "4: food, fast, restaurants, grocery, bakeries, specialty, burgers, sandwiches, ice, yogurt\n",
      "5: event, hotels, planning, travel, services, caterers, spaces, venues, party, transportation\n",
      "6: restaurants, bars, american, nightlife, pizza, italian, chinese, traditional, mexican, new\n",
      "7: tea, coffee, food, cafes, restaurants, bakeries, brunch, breakfast, donuts, sandwiches\n"
     ]
    }
   ],
   "source": [
    "business_ca = df_business['categories'].apply(', '.join).values\n",
    "vectorizer = TfidfVectorizer(stop_words='english', max_features=1000)\n",
    "X = vectorizer.fit_transform(business_ca).toarray()\n",
    "features = vectorizer.get_feature_names()\n",
    "kmeans = KMeans()\n",
    "kmeans.fit(X)\n",
    "top_centroids = kmeans.cluster_centers_.argsort()[:,-1:-11:-1]\n",
    "print (\"top features for each cluster with 1000 max features:\")\n",
    "for num, centroid in enumerate(top_centroids):\n",
    "    print (\"%d: %s\" % (num, \", \".join(features[i] for i in centroid)))"
   ]
  },
  {
   "cell_type": "markdown",
   "metadata": {},
   "source": [
    "Each cluster means different kinds of business"
   ]
  },
  {
   "cell_type": "markdown",
   "metadata": {},
   "source": [
    "## Extra Credit #4: What are the characteristics of each of the clustered  ? For each cluster, which restaurant can best represent (\"define\") its cluster?\n",
    "Hint: how to interpret \"best\"? The closet data points to the centroids"
   ]
  },
  {
   "cell_type": "code",
   "execution_count": 198,
   "metadata": {
    "collapsed": true
   },
   "outputs": [],
   "source": [
    "#take the df as an example\n",
    "from sklearn.cluster import KMeans\n",
    "from sklearn.metrics import pairwise_distances_argmin_min\n",
    "X = vectorizer.transform(documents).toarray()\n",
    "km = KMeans(n_clusters=6).fit(X)\n",
    "closest, _ = pairwise_distances_argmin_min(km.cluster_centers_, X)"
   ]
  },
  {
   "cell_type": "code",
   "execution_count": 199,
   "metadata": {},
   "outputs": [
    {
     "data": {
      "text/plain": [
       "array([    12,  34562, 285570,    301,   3806,   4659])"
      ]
     },
     "execution_count": 199,
     "metadata": {},
     "output_type": "execute_result"
    }
   ],
   "source": [
    "closest"
   ]
  },
  {
   "cell_type": "code",
   "execution_count": 211,
   "metadata": {},
   "outputs": [
    {
     "name": "stdout",
     "output_type": "stream",
     "text": [
      "cluster 0:\n",
      "Delmonico Steakhouse\n",
      "cluster 1:\n",
      "Sofia's Pizza\n",
      "cluster 2:\n",
      "DW Bistro\n",
      "cluster 3:\n",
      "Michael Mina\n",
      "cluster 4:\n",
      "Le Thai\n",
      "cluster 5:\n",
      "Herringbone\n"
     ]
    }
   ],
   "source": [
    "# print the best restaurant in each cluster\n",
    "for i in range(kmeans.n_clusters-2):\n",
    "    print (\"cluster %d:\" % i)\n",
    "    print (df.loc[closest[i],\"name\"] )"
   ]
  },
  {
   "cell_type": "markdown",
   "metadata": {},
   "source": [
    "## Extra Credit #5: Can you think of other use cases that clustering can be used? \n",
    "Hint: of course you can make use of other yelp dataset. You can try anything you want as long as you can explain it.\n",
    "Use the attribute in business dataset. "
   ]
  },
  {
   "cell_type": "code",
   "execution_count": 212,
   "metadata": {},
   "outputs": [
    {
     "name": "stdout",
     "output_type": "stream",
     "text": [
      "top features for each cluster with 1000 max features:\n",
      "0: restaurantspricerange2, businessparking, businessacceptscreditcards, bikeparking, wheelchairaccessible, wifi, restaurantstakeout, caters, outdoorseating, dogsallowed\n",
      "1: byappointmentonly, businessacceptscreditcards, businessparking, bikeparking, restaurantspricerange2, wheelchairaccessible, goodforkids, hairspecializesin, dogsallowed, restaurantstakeout\n",
      "2: restaurantsattire, restaurantsreservations, restaurantsgoodforgroups, restaurantsdelivery, goodformeal, restaurantstakeout, restaurantstableservice, outdoorseating, goodforkids, hastv\n",
      "3: businessacceptsbitcoin, byappointmentonly, businessacceptscreditcards, wheelchairaccessible, bikeparking, businessparking, restaurantspricerange2, dogsallowed, hairspecializesin, acceptsinsurance\n",
      "4: goodforkids, businessparking, wifi, bikeparking, businessacceptscreditcards, dogsallowed, restaurantstakeout, restaurantsgoodforgroups, restaurantspricerange2, restaurantsdelivery\n",
      "5: goodfordancing, happyhour, music, coatcheck, smoking, bestnights, alcohol, restaurantsgoodforgroups, hastv, outdoorseating\n",
      "6: acceptsinsurance, byappointmentonly, businessacceptscreditcards, businessparking, bikeparking, wheelchairaccessible, restaurantspricerange2, goodforkids, dogsallowed, hairspecializesin\n",
      "7: businessacceptscreditcards, restaurantstakeout, restaurantsgoodforgroups, outdoorseating, bikeparking, wifi, alcohol, ambience, restaurantstableservice, goodforkids\n"
     ]
    }
   ],
   "source": [
    "business_at = df_business['attributes'].apply(', '.join).values\n",
    "vectorizer = TfidfVectorizer(stop_words='english', max_features=1000)\n",
    "X = vectorizer.fit_transform(business_at).toarray()\n",
    "features = vectorizer.get_feature_names()\n",
    "kmeans = KMeans()\n",
    "kmeans.fit(X)\n",
    "top_centroids = kmeans.cluster_centers_.argsort()[:,-1:-11:-1]\n",
    "print (\"top features for each cluster with 1000 max features:\")\n",
    "for num, centroid in enumerate(top_centroids):\n",
    "    print (\"%d: %s\" % (num, \", \".join(features[i] for i in centroid)))"
   ]
  }
 ],
 "metadata": {
  "anaconda-cloud": {},
  "kernelspec": {
   "display_name": "Python 3",
   "language": "python",
   "name": "python3"
  },
  "language_info": {
   "codemirror_mode": {
    "name": "ipython",
    "version": 3
   },
   "file_extension": ".py",
   "mimetype": "text/x-python",
   "name": "python",
   "nbconvert_exporter": "python",
   "pygments_lexer": "ipython3",
   "version": "3.6.1"
  }
 },
 "nbformat": 4,
 "nbformat_minor": 1
}
