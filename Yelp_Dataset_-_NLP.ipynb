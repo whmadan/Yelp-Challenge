{
 "cells": [
  {
   "cell_type": "markdown",
   "metadata": {},
   "source": [
    "# Yelp Data Challenge - NLP\n",
    "\n",
    "BitTiger DS501\n",
    "\n",
    "Jun 2017"
   ]
  },
  {
   "cell_type": "code",
   "execution_count": 2,
   "metadata": {
    "collapsed": true
   },
   "outputs": [],
   "source": [
    "import pandas as pd"
   ]
  },
  {
   "cell_type": "code",
   "execution_count": 3,
   "metadata": {
    "collapsed": true
   },
   "outputs": [],
   "source": [
    "df = pd.read_csv('yelp_dataset_challenge_round10/last_2_years_restaurant_reviews.csv')"
   ]
  },
  {
   "cell_type": "code",
   "execution_count": 3,
   "metadata": {},
   "outputs": [
    {
     "data": {
      "text/html": [
       "<div>\n",
       "<style>\n",
       "    .dataframe thead tr:only-child th {\n",
       "        text-align: right;\n",
       "    }\n",
       "\n",
       "    .dataframe thead th {\n",
       "        text-align: left;\n",
       "    }\n",
       "\n",
       "    .dataframe tbody tr th {\n",
       "        vertical-align: top;\n",
       "    }\n",
       "</style>\n",
       "<table border=\"1\" class=\"dataframe\">\n",
       "  <thead>\n",
       "    <tr style=\"text-align: right;\">\n",
       "      <th></th>\n",
       "      <th>business_id</th>\n",
       "      <th>name</th>\n",
       "      <th>categories</th>\n",
       "      <th>avg_stars</th>\n",
       "      <th>cool</th>\n",
       "      <th>date</th>\n",
       "      <th>funny</th>\n",
       "      <th>review_id</th>\n",
       "      <th>stars</th>\n",
       "      <th>text</th>\n",
       "      <th>useful</th>\n",
       "      <th>user_id</th>\n",
       "    </tr>\n",
       "  </thead>\n",
       "  <tbody>\n",
       "    <tr>\n",
       "      <th>0</th>\n",
       "      <td>--9e1ONYQuAa-CB_Rrw7Tw</td>\n",
       "      <td>Delmonico Steakhouse</td>\n",
       "      <td>['Steakhouses', 'Cajun/Creole', 'Restaurants']</td>\n",
       "      <td>4.0</td>\n",
       "      <td>1</td>\n",
       "      <td>2016-05-17</td>\n",
       "      <td>0</td>\n",
       "      <td>0Qc1THNHSapDL7cv-ZzW5g</td>\n",
       "      <td>5</td>\n",
       "      <td>What can I say.. Wowzers! Probably one of the ...</td>\n",
       "      <td>0</td>\n",
       "      <td>4LxKRRIikhr65GfPDW626w</td>\n",
       "    </tr>\n",
       "    <tr>\n",
       "      <th>1</th>\n",
       "      <td>--9e1ONYQuAa-CB_Rrw7Tw</td>\n",
       "      <td>Delmonico Steakhouse</td>\n",
       "      <td>['Steakhouses', 'Cajun/Creole', 'Restaurants']</td>\n",
       "      <td>4.0</td>\n",
       "      <td>0</td>\n",
       "      <td>2017-01-20</td>\n",
       "      <td>0</td>\n",
       "      <td>L8lo5SKXfZRlbn1bpPiC9w</td>\n",
       "      <td>5</td>\n",
       "      <td>Went here for guys weekend. Unbelievable. Ravi...</td>\n",
       "      <td>0</td>\n",
       "      <td>nT8zgjoc-PbdBoQsFEXFLw</td>\n",
       "    </tr>\n",
       "    <tr>\n",
       "      <th>2</th>\n",
       "      <td>--9e1ONYQuAa-CB_Rrw7Tw</td>\n",
       "      <td>Delmonico Steakhouse</td>\n",
       "      <td>['Steakhouses', 'Cajun/Creole', 'Restaurants']</td>\n",
       "      <td>4.0</td>\n",
       "      <td>52</td>\n",
       "      <td>2016-09-25</td>\n",
       "      <td>30</td>\n",
       "      <td>6eUT3IwwWPP3CZkAhxqOIw</td>\n",
       "      <td>5</td>\n",
       "      <td>One word my friends: tableside!!! Yes, tablesi...</td>\n",
       "      <td>56</td>\n",
       "      <td>7RlyCglsIzhBn081inwvcg</td>\n",
       "    </tr>\n",
       "    <tr>\n",
       "      <th>3</th>\n",
       "      <td>--9e1ONYQuAa-CB_Rrw7Tw</td>\n",
       "      <td>Delmonico Steakhouse</td>\n",
       "      <td>['Steakhouses', 'Cajun/Creole', 'Restaurants']</td>\n",
       "      <td>4.0</td>\n",
       "      <td>1</td>\n",
       "      <td>2017-02-12</td>\n",
       "      <td>0</td>\n",
       "      <td>3cnTdE45VrsS0o4cVhfGog</td>\n",
       "      <td>3</td>\n",
       "      <td>Located inside my favorite hotel Venetian, Del...</td>\n",
       "      <td>1</td>\n",
       "      <td>rOIrilMC7VFwFVBeQNiKMw</td>\n",
       "    </tr>\n",
       "    <tr>\n",
       "      <th>4</th>\n",
       "      <td>--9e1ONYQuAa-CB_Rrw7Tw</td>\n",
       "      <td>Delmonico Steakhouse</td>\n",
       "      <td>['Steakhouses', 'Cajun/Creole', 'Restaurants']</td>\n",
       "      <td>4.0</td>\n",
       "      <td>0</td>\n",
       "      <td>2016-10-30</td>\n",
       "      <td>0</td>\n",
       "      <td>tYrSbjX3QgZGBZuQ3n8g6w</td>\n",
       "      <td>5</td>\n",
       "      <td>After the most incredible service, delicious m...</td>\n",
       "      <td>2</td>\n",
       "      <td>PiWlV_UC_-SXqyxQM9fAtw</td>\n",
       "    </tr>\n",
       "  </tbody>\n",
       "</table>\n",
       "</div>"
      ],
      "text/plain": [
       "              business_id                  name  \\\n",
       "0  --9e1ONYQuAa-CB_Rrw7Tw  Delmonico Steakhouse   \n",
       "1  --9e1ONYQuAa-CB_Rrw7Tw  Delmonico Steakhouse   \n",
       "2  --9e1ONYQuAa-CB_Rrw7Tw  Delmonico Steakhouse   \n",
       "3  --9e1ONYQuAa-CB_Rrw7Tw  Delmonico Steakhouse   \n",
       "4  --9e1ONYQuAa-CB_Rrw7Tw  Delmonico Steakhouse   \n",
       "\n",
       "                                       categories  avg_stars  cool  \\\n",
       "0  ['Steakhouses', 'Cajun/Creole', 'Restaurants']        4.0     1   \n",
       "1  ['Steakhouses', 'Cajun/Creole', 'Restaurants']        4.0     0   \n",
       "2  ['Steakhouses', 'Cajun/Creole', 'Restaurants']        4.0    52   \n",
       "3  ['Steakhouses', 'Cajun/Creole', 'Restaurants']        4.0     1   \n",
       "4  ['Steakhouses', 'Cajun/Creole', 'Restaurants']        4.0     0   \n",
       "\n",
       "         date  funny               review_id  stars  \\\n",
       "0  2016-05-17      0  0Qc1THNHSapDL7cv-ZzW5g      5   \n",
       "1  2017-01-20      0  L8lo5SKXfZRlbn1bpPiC9w      5   \n",
       "2  2016-09-25     30  6eUT3IwwWPP3CZkAhxqOIw      5   \n",
       "3  2017-02-12      0  3cnTdE45VrsS0o4cVhfGog      3   \n",
       "4  2016-10-30      0  tYrSbjX3QgZGBZuQ3n8g6w      5   \n",
       "\n",
       "                                                text  useful  \\\n",
       "0  What can I say.. Wowzers! Probably one of the ...       0   \n",
       "1  Went here for guys weekend. Unbelievable. Ravi...       0   \n",
       "2  One word my friends: tableside!!! Yes, tablesi...      56   \n",
       "3  Located inside my favorite hotel Venetian, Del...       1   \n",
       "4  After the most incredible service, delicious m...       2   \n",
       "\n",
       "                  user_id  \n",
       "0  4LxKRRIikhr65GfPDW626w  \n",
       "1  nT8zgjoc-PbdBoQsFEXFLw  \n",
       "2  7RlyCglsIzhBn081inwvcg  \n",
       "3  rOIrilMC7VFwFVBeQNiKMw  \n",
       "4  PiWlV_UC_-SXqyxQM9fAtw  "
      ]
     },
     "execution_count": 3,
     "metadata": {},
     "output_type": "execute_result"
    }
   ],
   "source": [
    "df.head()"
   ]
  },
  {
   "cell_type": "markdown",
   "metadata": {},
   "source": [
    "### Define your feature variables, here is the text of the review"
   ]
  },
  {
   "cell_type": "code",
   "execution_count": 4,
   "metadata": {
    "collapsed": true
   },
   "outputs": [],
   "source": [
    "# Take the values of the column that contains review text data, save to a variable named \"documents\"\n",
    "documents = df['text'].values"
   ]
  },
  {
   "cell_type": "code",
   "execution_count": 15,
   "metadata": {},
   "outputs": [
    {
     "name": "stdout",
     "output_type": "stream",
     "text": [
      "325819\n",
      "[ \"What can I say.. Wowzers! Probably one of the best steak houses I've been too. Service was absolutely flawless and dinner was excellent . Ordered seafood tower, wedge, wagyu filet, chateaubriand, bacon grits and sautéed  mushrooms Will definitely be back!\"\n",
      " 'Went here for guys weekend. Unbelievable. Ravioli app was so good. The steak was very good too. When getting a good bottle of wine, make sure they decant it for you...had to ask.'\n",
      " \"One word my friends: tableside!!! Yes, tableside carving of your steak chateaubriand for two/Creekstone farm steaks never disappoints. One of the best dinners I had this year for sure.  I would recommend Delmonico restaurant in Vegas who ever goes to Vegas or lives there.  \\n\\nDelmonico is settled within the Venetian hotel and with a 5 pm dinner reservation , they were pretty busy by 6 pm. I'm assuming people want to eat good streak before different shows and other entertainment in Vegas. Service was impeccable with the server and assistant both working harmoniously together.  The restaurant is not overly pretentious or glamorous looking.  I liked the overall atmosphere with the white walls/crisp white tablecloths on the tables with dim lighting.  \\n\\nThe service starts with the complimentary brioche bread and butter which were decadently heavenly.  Then they entice and educate you about their wine list etc but I don't drink so I was ready to order some steak, steak, steak! I did the chateaubriand steak for two carved for us.  It was a 18oz steak but really my 9 oz share was big but so yummy so yes I was able to finish my portion.  The garlic smashed potatoes were delicious.  The creamed spinach was just ok, a bit of a let down.  \\nOther than that I enjoyed every minute of my dinner before my red eye flight back to Florida.\"]\n"
     ]
    }
   ],
   "source": [
    "# inspect your documents, e.g. check the size, take a peek at elements of the numpy array\n",
    "print(documents.size)\n",
    "print(documents[0:3])"
   ]
  },
  {
   "cell_type": "markdown",
   "metadata": {},
   "source": [
    "### Define your target variable (any categorical variable that may be meaningful)"
   ]
  },
  {
   "cell_type": "markdown",
   "metadata": {},
   "source": [
    "#### For example, I am interested in perfect (5 stars) and imperfect (1-4 stars) rating"
   ]
  },
  {
   "cell_type": "code",
   "execution_count": 5,
   "metadata": {
    "collapsed": true
   },
   "outputs": [],
   "source": [
    "# Make a column and take the values, save to a variable named \"target\"\n",
    "df['target'] = pd.cut(df['stars'], bins = [0,4,5] ,right = True, labels=[\"imperfect\", \"perfect\"])"
   ]
  },
  {
   "cell_type": "code",
   "execution_count": 24,
   "metadata": {},
   "outputs": [
    {
     "data": {
      "text/html": [
       "<div>\n",
       "<style>\n",
       "    .dataframe thead tr:only-child th {\n",
       "        text-align: right;\n",
       "    }\n",
       "\n",
       "    .dataframe thead th {\n",
       "        text-align: left;\n",
       "    }\n",
       "\n",
       "    .dataframe tbody tr th {\n",
       "        vertical-align: top;\n",
       "    }\n",
       "</style>\n",
       "<table border=\"1\" class=\"dataframe\">\n",
       "  <thead>\n",
       "    <tr style=\"text-align: right;\">\n",
       "      <th></th>\n",
       "      <th>business_id</th>\n",
       "      <th>name</th>\n",
       "      <th>categories</th>\n",
       "      <th>avg_stars</th>\n",
       "      <th>cool</th>\n",
       "      <th>date</th>\n",
       "      <th>funny</th>\n",
       "      <th>review_id</th>\n",
       "      <th>stars</th>\n",
       "      <th>text</th>\n",
       "      <th>useful</th>\n",
       "      <th>user_id</th>\n",
       "      <th>target</th>\n",
       "    </tr>\n",
       "  </thead>\n",
       "  <tbody>\n",
       "    <tr>\n",
       "      <th>0</th>\n",
       "      <td>--9e1ONYQuAa-CB_Rrw7Tw</td>\n",
       "      <td>Delmonico Steakhouse</td>\n",
       "      <td>['Steakhouses', 'Cajun/Creole', 'Restaurants']</td>\n",
       "      <td>4.0</td>\n",
       "      <td>1</td>\n",
       "      <td>2016-05-17</td>\n",
       "      <td>0</td>\n",
       "      <td>0Qc1THNHSapDL7cv-ZzW5g</td>\n",
       "      <td>5</td>\n",
       "      <td>What can I say.. Wowzers! Probably one of the ...</td>\n",
       "      <td>0</td>\n",
       "      <td>4LxKRRIikhr65GfPDW626w</td>\n",
       "      <td>perfect</td>\n",
       "    </tr>\n",
       "    <tr>\n",
       "      <th>1</th>\n",
       "      <td>--9e1ONYQuAa-CB_Rrw7Tw</td>\n",
       "      <td>Delmonico Steakhouse</td>\n",
       "      <td>['Steakhouses', 'Cajun/Creole', 'Restaurants']</td>\n",
       "      <td>4.0</td>\n",
       "      <td>0</td>\n",
       "      <td>2017-01-20</td>\n",
       "      <td>0</td>\n",
       "      <td>L8lo5SKXfZRlbn1bpPiC9w</td>\n",
       "      <td>5</td>\n",
       "      <td>Went here for guys weekend. Unbelievable. Ravi...</td>\n",
       "      <td>0</td>\n",
       "      <td>nT8zgjoc-PbdBoQsFEXFLw</td>\n",
       "      <td>perfect</td>\n",
       "    </tr>\n",
       "    <tr>\n",
       "      <th>2</th>\n",
       "      <td>--9e1ONYQuAa-CB_Rrw7Tw</td>\n",
       "      <td>Delmonico Steakhouse</td>\n",
       "      <td>['Steakhouses', 'Cajun/Creole', 'Restaurants']</td>\n",
       "      <td>4.0</td>\n",
       "      <td>52</td>\n",
       "      <td>2016-09-25</td>\n",
       "      <td>30</td>\n",
       "      <td>6eUT3IwwWPP3CZkAhxqOIw</td>\n",
       "      <td>5</td>\n",
       "      <td>One word my friends: tableside!!! Yes, tablesi...</td>\n",
       "      <td>56</td>\n",
       "      <td>7RlyCglsIzhBn081inwvcg</td>\n",
       "      <td>perfect</td>\n",
       "    </tr>\n",
       "    <tr>\n",
       "      <th>3</th>\n",
       "      <td>--9e1ONYQuAa-CB_Rrw7Tw</td>\n",
       "      <td>Delmonico Steakhouse</td>\n",
       "      <td>['Steakhouses', 'Cajun/Creole', 'Restaurants']</td>\n",
       "      <td>4.0</td>\n",
       "      <td>1</td>\n",
       "      <td>2017-02-12</td>\n",
       "      <td>0</td>\n",
       "      <td>3cnTdE45VrsS0o4cVhfGog</td>\n",
       "      <td>3</td>\n",
       "      <td>Located inside my favorite hotel Venetian, Del...</td>\n",
       "      <td>1</td>\n",
       "      <td>rOIrilMC7VFwFVBeQNiKMw</td>\n",
       "      <td>imperfect</td>\n",
       "    </tr>\n",
       "    <tr>\n",
       "      <th>4</th>\n",
       "      <td>--9e1ONYQuAa-CB_Rrw7Tw</td>\n",
       "      <td>Delmonico Steakhouse</td>\n",
       "      <td>['Steakhouses', 'Cajun/Creole', 'Restaurants']</td>\n",
       "      <td>4.0</td>\n",
       "      <td>0</td>\n",
       "      <td>2016-10-30</td>\n",
       "      <td>0</td>\n",
       "      <td>tYrSbjX3QgZGBZuQ3n8g6w</td>\n",
       "      <td>5</td>\n",
       "      <td>After the most incredible service, delicious m...</td>\n",
       "      <td>2</td>\n",
       "      <td>PiWlV_UC_-SXqyxQM9fAtw</td>\n",
       "      <td>perfect</td>\n",
       "    </tr>\n",
       "  </tbody>\n",
       "</table>\n",
       "</div>"
      ],
      "text/plain": [
       "              business_id                  name  \\\n",
       "0  --9e1ONYQuAa-CB_Rrw7Tw  Delmonico Steakhouse   \n",
       "1  --9e1ONYQuAa-CB_Rrw7Tw  Delmonico Steakhouse   \n",
       "2  --9e1ONYQuAa-CB_Rrw7Tw  Delmonico Steakhouse   \n",
       "3  --9e1ONYQuAa-CB_Rrw7Tw  Delmonico Steakhouse   \n",
       "4  --9e1ONYQuAa-CB_Rrw7Tw  Delmonico Steakhouse   \n",
       "\n",
       "                                       categories  avg_stars  cool  \\\n",
       "0  ['Steakhouses', 'Cajun/Creole', 'Restaurants']        4.0     1   \n",
       "1  ['Steakhouses', 'Cajun/Creole', 'Restaurants']        4.0     0   \n",
       "2  ['Steakhouses', 'Cajun/Creole', 'Restaurants']        4.0    52   \n",
       "3  ['Steakhouses', 'Cajun/Creole', 'Restaurants']        4.0     1   \n",
       "4  ['Steakhouses', 'Cajun/Creole', 'Restaurants']        4.0     0   \n",
       "\n",
       "         date  funny               review_id  stars  \\\n",
       "0  2016-05-17      0  0Qc1THNHSapDL7cv-ZzW5g      5   \n",
       "1  2017-01-20      0  L8lo5SKXfZRlbn1bpPiC9w      5   \n",
       "2  2016-09-25     30  6eUT3IwwWPP3CZkAhxqOIw      5   \n",
       "3  2017-02-12      0  3cnTdE45VrsS0o4cVhfGog      3   \n",
       "4  2016-10-30      0  tYrSbjX3QgZGBZuQ3n8g6w      5   \n",
       "\n",
       "                                                text  useful  \\\n",
       "0  What can I say.. Wowzers! Probably one of the ...       0   \n",
       "1  Went here for guys weekend. Unbelievable. Ravi...       0   \n",
       "2  One word my friends: tableside!!! Yes, tablesi...      56   \n",
       "3  Located inside my favorite hotel Venetian, Del...       1   \n",
       "4  After the most incredible service, delicious m...       2   \n",
       "\n",
       "                  user_id     target  \n",
       "0  4LxKRRIikhr65GfPDW626w    perfect  \n",
       "1  nT8zgjoc-PbdBoQsFEXFLw    perfect  \n",
       "2  7RlyCglsIzhBn081inwvcg    perfect  \n",
       "3  rOIrilMC7VFwFVBeQNiKMw  imperfect  \n",
       "4  PiWlV_UC_-SXqyxQM9fAtw    perfect  "
      ]
     },
     "execution_count": 24,
     "metadata": {},
     "output_type": "execute_result"
    }
   ],
   "source": [
    "df.head(5)"
   ]
  },
  {
   "cell_type": "markdown",
   "metadata": {},
   "source": [
    "#### You may want to look at the statistic of the target variable"
   ]
  },
  {
   "cell_type": "code",
   "execution_count": 8,
   "metadata": {},
   "outputs": [
    {
     "name": "stdout",
     "output_type": "stream",
     "text": [
      "imperfect    173259\n",
      "perfect      152560\n",
      "Name: target, dtype: int64\n"
     ]
    },
    {
     "data": {
      "text/plain": [
       "<matplotlib.axes._subplots.AxesSubplot at 0x11134cfd0>"
      ]
     },
     "execution_count": 8,
     "metadata": {},
     "output_type": "execute_result"
    },
    {
     "data": {
      "image/png": "[encoded data removed]",
      "text/plain": [
       "<matplotlib.figure.Figure at 0x11134c5f8>"
      ]
     },
     "metadata": {},
     "output_type": "display_data"
    }
   ],
   "source": [
    "# To be implemented\n",
    "import numpy as np\n",
    "import matplotlib.pyplot as plt\n",
    "\n",
    "# This statement allow to display plot without asking to\n",
    "%matplotlib inline\n",
    "# Always make it pretty.\n",
    "plt.style.use('ggplot')\n",
    "\n",
    "print(df['target'].value_counts())\n",
    "df['target'].value_counts().plot.bar()"
   ]
  },
  {
   "cell_type": "markdown",
   "metadata": {},
   "source": [
    "## Let's create training dataset and test dataset"
   ]
  },
  {
   "cell_type": "code",
   "execution_count": 6,
   "metadata": {},
   "outputs": [
    {
     "name": "stderr",
     "output_type": "stream",
     "text": [
      "/Users/Danielle/anaconda/lib/python3.6/site-packages/sklearn/cross_validation.py:44: DeprecationWarning: This module was deprecated in version 0.18 in favor of the model_selection module into which all the refactored classes and functions are moved. Also note that the interface of the new CV iterators are different from that of this module. This module will be removed in 0.20.\n",
      "  \"This module will be removed in 0.20.\", DeprecationWarning)\n"
     ]
    }
   ],
   "source": [
    "from sklearn.cross_validation import train_test_split"
   ]
  },
  {
   "cell_type": "code",
   "execution_count": 9,
   "metadata": {},
   "outputs": [],
   "source": [
    "# Documents is your X, target is your y\n",
    "X = documents\n",
    "y = np.array(df['target'].values)\n",
    "# Now split the data to training set and test set"
   ]
  },
  {
   "cell_type": "code",
   "execution_count": 10,
   "metadata": {
    "collapsed": true
   },
   "outputs": [],
   "source": [
    "# Split to documents_train, documents_test, target_train, target_test\n",
    "documents_train, documents_test, target_train, target_test = train_test_split(X, y, test_size=0.05, random_state=11)"
   ]
  },
  {
   "cell_type": "markdown",
   "metadata": {},
   "source": [
    "## Let's get NLP representation of the documents"
   ]
  },
  {
   "cell_type": "code",
   "execution_count": 11,
   "metadata": {
    "collapsed": true
   },
   "outputs": [],
   "source": [
    "from sklearn.feature_extraction.text import TfidfVectorizer"
   ]
  },
  {
   "cell_type": "code",
   "execution_count": 12,
   "metadata": {
    "collapsed": true
   },
   "outputs": [],
   "source": [
    "# Create TfidfVectorizer, and name it vectorizer\n",
    "vectorizer = TfidfVectorizer(stop_words='english', max_features=2000)\n",
    "vectors = vectorizer.fit_transform(documents).toarray()\n",
    "words = vectorizer.get_feature_names()"
   ]
  },
  {
   "cell_type": "code",
   "execution_count": 13,
   "metadata": {
    "collapsed": true
   },
   "outputs": [],
   "source": [
    "# Train the model with your training data\n",
    "X_train = vectorizer.transform(documents_train)"
   ]
  },
  {
   "cell_type": "code",
   "execution_count": 60,
   "metadata": {},
   "outputs": [
    {
     "name": "stdout",
     "output_type": "stream",
     "text": [
      "{'say': 1508, 'probably': 1356, 'best': 168, 'steak': 1681, 've': 1878, 'service': 1547, 'absolutely': 35, 'dinner': 505, 'excellent': 599, 'ordered': 1202, 'seafood': 1517, 'tower': 1823, 'wagyu': 1903, 'filet': 650, 'bacon': 124, 'grits': 766, 'mushrooms': 1122, 'definitely': 474, 'went': 1944, 'guys': 778, 'weekend': 1937, 'ravioli': 1396, 'app': 82, 'good': 743, 'getting': 719, 'bottle': 199, 'wine': 1955, 'make': 1025, 'sure': 1727, 'ask': 101, 'word': 1966, 'friends': 697, 'yes': 1993, 'steaks': 1683, 'year': 1988, 'recommend': 1413, 'restaurant': 1441, 'vegas': 1881, 'goes': 737, 'venetian': 1888, 'hotel': 849, 'pm': 1317, 'reservation': 1436, 'pretty': 1345, 'busy': 245, 'people': 1261, 'want': 1917, 'eat': 559, 'different': 497, 'shows': 1570, 'entertainment': 583, 'impeccable': 868, 'server': 1544, 'working': 1972, 'overly': 1214, 'looking': 998, 'liked': 970, 'overall': 1212, 'atmosphere': 107, 'white': 1949, 'walls': 1915, 'crisp': 435, 'tables': 1736, 'dim': 499, 'lighting': 967, 'starts': 1674, 'complimentary': 379, 'bread': 209, 'butter': 246, 'list': 978, 'don': 526, 'drink': 541, 'ready': 1400, 'order': 1201, 'did': 491, 'really': 1404, 'oz': 1223, 'share': 1557, 'big': 173, 'yummy': 1998, 'able': 33, 'finish': 658, 'portion': 1328, 'garlic': 710, 'potatoes': 1337, 'delicious': 476, 'spinach': 1649, 'just': 912, 'ok': 1179, 'bit': 180, 'let': 962, 'enjoyed': 580, 'minute': 1092, 'red': 1417, 'eye': 617, 'flight': 669, 'located': 990, 'inside': 884, 'favorite': 638, 'walk': 1911, 'decor': 470, 'makes': 1026, 'feel': 642, 'like': 969, 'following': 675, 'eggs': 570, 'creamy': 428, 'topped': 1812, 'king': 928, 'crab': 420, 'meat': 1055, 'plus': 1316, 'truffle': 1834, 'potato': 1336, 'chips': 322, 'appetizer': 86, 'new': 1143, 'style': 1707, 'shrimp': 1572, 'cajun': 253, 'dish': 516, 'ones': 1188, 'lobster': 987, 'bisque': 179, 'ribeye': 1450, 'came': 260, 'close': 349, 'medium': 1061, 'pink': 1292, 'sent': 1539, 'completely': 378, 'second': 1526, 'time': 1792, 'beef': 158, 'expected': 605, 'know': 931, 'cooking': 399, 'piece': 1288, 'multiple': 1120, 'times': 1794, 'course': 413, 'wasn': 1923, 'expecting': 606, 'juicy': 911, 'tender': 1768, 'properly': 1364, 'cooked': 396, 'super': 1722, 'tough': 1821, 'flavor': 664, 'taste': 1753, 'dry': 551, 'aged': 49, 'end': 575, 'took': 1811, 'nice': 1144, 'sides': 1574, 'corn': 402, 'salty': 1489, 'twice': 1846, 'baked': 128, 'half': 783, 'stars': 1670, 'incredible': 877, 'meal': 1050, 'surprise': 1728, 'birthday': 176, 'treat': 1828, 'rate': 1391, 'fabulous': 619, 'opted': 1197, 'celebrate': 284, 'decision': 469, 'las': 947, 'sucked': 1710, '40': 24, 'min': 1087, 'cosmopolitan': 406, 'crew': 434, 'serving': 1549, 'tonight': 1809, 'amazing': 65, 'folks': 673, 'great': 758, 'sense': 1538, 'honest': 837, 'recommendations': 1415, 'spices': 1647, 'add': 40, 'worth': 1977, 'penny': 1260, 'skip': 1591, 'unless': 1860, 'party': 1243, 'didn': 492, 'room': 1468, 'dessert': 489, 'treated': 1829, 'ice': 860, 'cream': 427, 'waffle': 1901, 'man': 1029, 'oh': 1176, 'yeah': 1987, 'shocked': 1562, '100': 2, 'bottles': 200, 'reasonably': 1407, 'priced': 1348, 'options': 1199, 'exceptional': 600, 'steakhouse': 1682, 'bone': 192, 'cut': 451, 'life': 965, 'heaven': 812, 'phenomenal': 1274, 'huge': 854, '15': 7, 'superb': 1723, 'loved': 1007, 'place': 1296, 'visiting': 1898, 'disappointed': 510, 'waiter': 1906, 'selection': 1533, 'provide': 1367, 'flavorless': 667, 'requested': 1435, 'broccoli': 219, 'glasses': 732, 'dirty': 508, 'caramel': 263, 'cake': 254, 'quite': 1383, 'food': 676, 'expect': 603, 'pay': 1256, 'ladies': 942, 'fat': 634, 'll': 985, 'thank': 1776, 'later': 950, 'rare': 1390, '10': 1, 'perfectly': 1267, 'generous': 716, 'split': 1650, 'said': 1481, 'sharing': 1559, 'pieces': 1289, 'marrow': 1041, 'yum': 1997, 'table': 1735, 'caesar': 250, 'maybe': 1047, 'fact': 621, 'fun': 703, 'simple': 1578, 'def': 473, 'pricey': 1350, 'salad': 1483, 'scallops': 1512, 'tasty': 1758, 'special': 1638, 'compared': 373, '20': 13, 'tiny': 1795, 'mignon': 1082, 'right': 1456, 'better': 169, 'kind': 925, 'servers': 1545, 'talking': 1747, 'immediately': 867, 'restaurants': 1442, 'city': 338, 'need': 1137, 'bathroom': 147, 'clean': 344, 'large': 945, 'night': 1146, 'read': 1398, 'reviews': 1448, 'dont': 527, 'husband': 858, 'ate': 106, 'eaten': 560, 'area': 92, 'unique': 1859, 'interior': 888, 'isn': 892, 'highly': 826, 'decorated': 471, 'look': 996, 'team': 1761, 'attentive': 109, 'water': 1928, 'constantly': 388, 'filled': 652, 'plates': 1304, 'moved': 1114, 'professional': 1361, 'soft': 1612, 'flavorful': 666, 'usual': 1870, 'taken': 1741, 'level': 964, 'sweet': 1732, 'egg': 568, 'perfection': 1266, 'flavors': 668, 'worked': 1969, 'hard': 796, 'traditional': 1825, 'disappoint': 509, 'turkey': 1841, 'moist': 1102, 'plate': 1303, 'mix': 1099, 'dark': 458, 'gravy': 755, 'small': 1599, 'green': 760, 'beans': 153, 'thing': 1780, 'mushy': 1123, 'glad': 730, 'covered': 418, 'cheese': 303, 'pie': 1287, 'served': 1543, 'tart': 1751, 'round': 1470, 'crust': 442, 'buttery': 247, 'usually': 1871, 'plenty': 1315, 'cheesecake': 305, 'pudding': 1370, 'fell': 645, 'flat': 663, 'certainly': 287, 'menu': 1072, 'wait': 1904, 'return': 1444, 'try': 1837, 'regular': 1426, 'items': 897, 'hubby': 853, 'experience': 608, 'notch': 1156, 'attention': 108, 'moment': 1104, 'walked': 1912, 'host': 846, 'greeted': 763, 'saying': 1509, 'happy': 795, 'started': 1672, 'asked': 102, 'attitude': 110, 'shared': 1558, 'portions': 1329, 'specialty': 1640, 'cocktails': 356, 'live': 982, 'strong': 1702, 'money': 1106, 'care': 265, 'stop': 1691, 'appreciate': 89, 'bbq': 150, 'won': 1962, 'average': 113, 'loud': 1004, 'free': 686, 'light': 966, 'chewy': 310, 'stuff': 1704, 'entire': 584, 'mouth': 1113, 'texture': 1774, 'size': 1585, 'salted': 1488, 'rich': 1453, 'kinds': 927, 'followed': 674, 'standard': 1665, 'banana': 133, 'famous': 627, 'high': 823, 'chunks': 335, 'fresh': 691, 'needed': 1138, 'key': 919, 'lime': 974, 'little': 981, 'chocolate': 323, 'tasted': 1754, 'reminded': 1431, 'box': 205, 'prefer': 1339, 'sorry': 1622, 'incredibly': 878, 'seasoned': 1519, 'sliced': 1594, 'pot': 1335, 'roast': 1461, 'fan': 628, 'weird': 1940, 'couldn': 408, 'help': 816, 'photo': 1278, 'experienced': 609, 'hospitality': 845, 'authentic': 111, 'personality': 1271, 'dining': 504, 'come': 365, 'lunch': 1017, 'showed': 1569, 'fluffy': 671, 'fried': 694, 'chicken': 312, 'grilled': 765, 'ricotta': 1454, 'basil': 144, 'sandwich': 1493, 'tomato': 1806, 'extra': 615, 'crispy': 436, 'appetizers': 87, 'wanted': 1918, 'mean': 1052, 'important': 869, 'house': 852, 'cuts': 453, 'bigger': 174, 'apps': 91, 'type': 1848, 'start': 1671, 'ambiance': 67, 'self': 1535, 'intimate': 889, 'setting': 1552, 'lights': 968, 'sat': 1497, 'brought': 222, 'wife': 1952, 'having': 801, 'glass': 731, 'croissant': 437, 'bring': 215, 'york': 1995, 'strip': 1700, 'far': 631, 'bite': 181, 'slightly': 1597, 'means': 1053, 'bad': 125, 'awesome': 118, 'barely': 136, 'price': 1347, 'point': 1319, 'similar': 1577, 'star': 1668, 'cocktail': 355, 'real': 1401, 'blue': 187, 'seasoning': 1520, 'creme': 431, 'omg': 1187, 'stuffed': 1705, 'wall': 1914, 'paper': 1232, 'color': 361, 'plain': 1299, 'lovely': 1008, 'shame': 1556, 'tried': 1830, 'forgot': 681, 'names': 1131, 'possibly': 1332, 'lol': 993, 'mind': 1088, 'okay': 1180, 'dressing': 539, 'presentation': 1343, 'enjoy': 578, 'note': 1157, 'sit': 1582, 'booth': 195, 'closer': 351, 'delish': 478, 'awhile': 120, 'date': 459, 'nights': 1147, 'old': 1181, 'forward': 683, 'friend': 695, 'things': 1781, 'expensive': 607, 'lacking': 941, 'prices': 1349, 'charge': 295, 'coming': 369, 'establishment': 591, 'going': 738, 'spent': 1645, 'decided': 468, 'christmas': 334, 'mom': 1103, 'sound': 1624, 'protein': 1366, 'visited': 1897, 'regardless': 1423, 'phone': 1277, 'open': 1192, 'late': 949, 'arrived': 96, 'promptly': 1363, 'seated': 1522, 'originally': 1207, 'got': 747, 'accommodate': 36, 'offered': 1171, 'mini': 1089, 'salmon': 1485, 'felt': 646, 'undercooked': 1855, 'kick': 920, 'check': 299, 'past': 1246, 'spot': 1654, 'asparagus': 104, 'impressed': 870, 'excited': 601, 'ambience': 68, 'art': 97, 'french': 688, 'onion': 1189, 'soup': 1627, 'entree': 586, 'rave': 1395, 'finally': 654, 'gotten': 749, 'black': 183, 'paid': 1226, '50': 26, 'weren': 1945, 'told': 1804, 'specials': 1639, 'saw': 1507, 'walking': 1913, 'door': 530, 'wonderful': 1964, 'places': 1298, 'spend': 1643, 'review': 1447, 'mediocre': 1059, 'bland': 184, 'memorable': 1069, 'non': 1149, 'value': 1874, 'choices': 325, 'environment': 588, 'town': 1824, 'staff': 1662, 'warm': 1921, 'friendly': 696, 'wow': 1979, 'comes': 366, 'think': 1782, 'truly': 1835, 'knows': 935, 'answer': 73, 'questions': 1379, 'offers': 1174, 'meals': 1051, 'skewers': 1588, 'fantastic': 630, 'gem': 713, 'japanese': 902, 'love': 1006, 'rib': 1449, 'fine': 656, 'chance': 292, 'leave': 953, 'mistake': 1098, 'looks': 999, 'couple': 411, 'ended': 576, 'minutes': 1093, 'stated': 1676, 'terrific': 1772, 'touch': 1820, 'possible': 1331, 'roll': 1464, 'decent': 466, 'actually': 39, 'finished': 659, 'person': 1268, 'oysters': 1222, 'country': 410, 'parmesan': 1239, 'duck': 552, 'foie': 672, 'gras': 754, 'simply': 1579, 'eating': 562, 'disappointment': 512, 'choose': 326, 'bar': 135, 'wish': 1959, 'casino': 277, 'floor': 670, 'classy': 343, 'beautiful': 155, 'romantic': 1467, 'reservations': 1437, 'ahead': 53, 'corner': 404, 'watching': 1927, 'easy': 558, 'rating': 1393, 'main': 1023, 'added': 41, 'music': 1124, 'item': 896, 'smooth': 1606, 'mashed': 1044, 'sauce': 1502, 'considering': 384, 'lemon': 960, 'received': 1410, 'bucks': 228, 'business': 244, 'does': 519, 'desert': 483, 'given': 727, 'day': 461, 'actual': 38, 'dressed': 538, 'satisfied': 1498, 'cause': 283, 'bomb': 191, 'bunch': 237, 'sister': 1581, 'doesn': 520, 'desserts': 490, 'prepared': 1342, 'shell': 1560, 'cheap': 297, 'typical': 1850, 'pricing': 1351, 'expectations': 604, 'sadly': 1479, 'extremely': 616, 'gave': 711, 'drinks': 543, 'god': 736, 'juice': 909, 'summer': 1718, 'chose': 331, 'vanilla': 1875, 'alright': 64, 'ingredients': 883, 'sad': 1478, 'honestly': 838, 'ass': 105, 'watched': 1926, 'suppose': 1725, 'goodness': 744, 'signature': 1576, 'idea': 863, 'enter': 582, 'shouldn': 1568, 'personal': 1270, 'question': 1378, 'girls': 726, 'job': 903, 'proceeded': 1359, 'standards': 1666, 'way': 1931, 'hell': 814, 'talk': 1745, 'works': 1973, 'family': 626, 'woman': 1960, 'ruined': 1473, 'tip': 1796, 'tell': 1763, 'based': 141, 'thanks': 1777, 'years': 1989, 'brother': 221, 'perfect': 1265, 'needs': 1140, 'melted': 1066, 'outstanding': 1210, 'welcoming': 1943, 'enjoying': 581, 'broth': 220, 'outside': 1209, 'lamb': 944, 'disappointing': 511, 'problems': 1358, 'hardly': 797, 'mention': 1070, 'send': 1537, 'gf': 720, 'paying': 1257, 'par': 1233, 'manager': 1032, 'agreed': 52, 'fatty': 635, 'allowed': 62, 'ny': 1163, 'beautifully': 156, 'lacked': 940, 'despite': 488, 'sub': 1708, 'chef': 307, 'types': 1849, 'drive': 544, 'customers': 450, 'cuisine': 444, 'book': 194, 'massive': 1045, 'single': 1580, 'seen': 1532, '12': 4, 'world': 1974, 'shit': 1561, 'spicy': 1648, 'crunchy': 441, 'cook': 395, 'knowledgeable': 933, 'appreciated': 90, 'low': 1012, 'dine': 500, 'forever': 679, 'locals': 989, 'pleasant': 1310, 'sea': 1516, 'bass': 146, 'home': 835, 'bother': 198, 'center': 285, 'chairs': 290, 'cold': 360, 'dined': 501, 'pleased': 1312, 'including': 876, 'location': 991, 'dishes': 517, 'fair': 622, 'pork': 1327, 'belly': 166, 'candy': 261, 'salads': 1484, 'courses': 414, 'week': 1936, 'venue': 1889, 'scallop': 1511, 'mushroom': 1121, 'double': 532, 'chop': 327, 'supposed': 1726, 'prepare': 1341, 'al': 58, 'rice': 1452, 'entrees': 587, 'certain': 286, 'reason': 1405, 'missed': 1096, 'mark': 1039, 'head': 804, '60': 27, 'seconds': 1527, 'looked': 997, 'hot': 848, 'making': 1027, 'opinion': 1195, 'cover': 417, 'lot': 1002, 'tasting': 1757, 'returning': 1446, 'mixed': 1100, 'included': 874, 'olives': 1184, 'odd': 1169, 'number': 1160, 'picky': 1284, 'tenders': 1769, 'pre': 1338, 'suggest': 1713, 'knowing': 932, 'coconut': 357, 'obviously': 1165, 'rest': 1440, 'feeling': 643, 'sugar': 1712, 'run': 1474, 'horrible': 844, 'early': 555, 'thursday': 1790, 'eventually': 594, 'trying': 1838, 'waiters': 1907, 'taking': 1744, 'spending': 1644, 'rooms': 1469, 'pleasantly': 1311, 'easily': 556, 'hear': 807, 'informed': 882, 'fee': 640, 'reasonable': 1406, '30': 20, 'quality': 1375, 'visit': 1896, 'away': 117, 'kids': 922, 'inviting': 890, 'impressive': 872, 'courteous': 416, 'mgm': 1078, 'grand': 753, 'hopefully': 842, 'enjoyable': 579, 'hope': 841, 'seared': 1518, 'ahi': 54, 'tuna': 1840, 'unfortunately': 1857, 'called': 258, 'school': 1513, 'valley': 1873, 'trip': 1831, 'wrong': 1985, 'extensive': 614, 'willing': 1953, 'rush': 1476, 'earlier': 554, 'especially': 590, 'begin': 161, 'crazy': 426, 'sounds': 1626, 'believe': 163, 'consider': 383, 'quiet': 1382, 'parents': 1234, 'hours': 851, 'instead': 885, 'legs': 959, 'roasted': 1462, 'tomatoes': 1807, 'girl': 724, 'mango': 1033, 'ago': 50, 'lucky': 1016, 'packed': 1224, 'helpful': 818, 'quickly': 1381, 'paired': 1227, 'recommendation': 1414, 'hungry': 856, 'clear': 347, 'damn': 456, 'oyster': 1221, 'palace': 1228, 'chili': 315, 'balance': 130, 'throw': 1788, 'section': 1529, 'san': 1492, 'gorgeous': 746, 'mins': 1090, 'anniversary': 70, 'wynn': 1986, 'yelp': 1992, 'month': 1107, 'online': 1191, 'occasion': 1166, 'efficient': 566, 'recommended': 1416, 'buds': 229, 'long': 994, 'local': 988, 'store': 1693, 'hit': 829, 'temperature': 1766, 'gone': 741, 'brings': 217, 'hands': 789, 'mediterranean': 1060, 'mood': 1109, 'evening': 592, 'complaint': 375, 'modern': 1101, 'wet': 1947, 'haven': 800, 'legit': 958, 'platter': 1305, 'lots': 1003, 'leftovers': 957, 'seriously': 1541, 'crowded': 439, 'group': 769, 'sort': 1623, 'hash': 798, 'played': 1307, 'fish': 660, 'lover': 1009, 'miss': 1095, 'totally': 1818, 'heavy': 813, 'flavored': 665, 'solid': 1615, 'complaints': 376, 'serve': 1542, 'biggest': 175, 'kept': 917, 'refilled': 1419, 'addition': 43, 'absolute': 34, 'boyfriend': 207, 'stopped': 1692, 'stay': 1678, 'game': 707, 'tv': 1844, 'playing': 1308, 'deep': 472, 'compare': 372, 'equally': 589, 'gentleman': 717, 'seats': 1524, 'delightful': 477, 'ran': 1387, 'machine': 1021, 'helped': 817, 'conversation': 394, 'recently': 1412, 'craving': 424, 'personable': 1269, 'accommodating': 37, 'relaxing': 1428, 'highlight': 825, 'dipping': 507, 'sauces': 1503, 'marinara': 1037, 'waste': 1924, 'complain': 374, 'hate': 799, 'rock': 1463, 'thought': 1786, 'girlfriend': 725, 'hand': 786, 'pasta': 1247, 'work': 1968, 'office': 1175, 'lv': 1018, 'prior': 1354, '11': 3, 'menus': 1073, 'noticed': 1159, 'available': 112, 'la': 938, 'pop': 1325, 'plentiful': 1314, 'doing': 523, 'scoop': 1514, 'regret': 1425, 'overwhelming': 1216, 'personally': 1272, 'general': 714, 'buffet': 231, 'sandwiches': 1494, 'customer': 449, 'stick': 1686, 'ordering': 1203, 'carte': 273, 'giving': 729, 'surprised': 1729, 'keeping': 916, 'short': 1566, 'arrive': 95, 'meh': 1063, 'slow': 1598, 'save': 1505, 'american': 69, 'express': 613, 'lived': 983, 'exactly': 597, 'carpaccio': 268, 'negative': 1141, 'choice': 324, 'problem': 1357, 'process': 1360, 'waitress': 1909, 'missing': 1097, 'tom': 1805, 'craft': 421, 'joints': 907, 'staying': 1680, 'occasions': 1167, 'management': 1031, 'rushed': 1477, 'beginning': 162, 'request': 1434, 'left': 956, 'true': 1833, 'classic': 342, 'greasy': 757, 'oil': 1177, 'nicely': 1145, 'mother': 1111, 'bowl': 203, 'repeat': 1433, 'option': 1198, 'happens': 794, 'remember': 1429, 'forget': 680, '1st': 12, 'middle': 1080, 'drunk': 550, 'literally': 980, 'near': 1134, 'smaller': 1600, 'credit': 430, 'toast': 1800, 'aware': 116, 'salt': 1487, 'baby': 122, 'lack': 939, 'realized': 1403, 'quick': 1380, 'bartender': 138, 'spice': 1646, 'rolls': 1466, 'buns': 238, 'heat': 811, 'normal': 1153, 'gonna': 742, 'knew': 930, 'kitchen': 929, 'opened': 1193, 'nearly': 1136, 'days': 462, 'space': 1633, 'lost': 1001, 'fast': 633, 'ball': 131, 'soon': 1618, 'notice': 1158, 'checking': 301, 'hostess': 847, 'seat': 1521, 'total': 1817, 'delivered': 480, 'spring': 1657, 'presented': 1344, 'daily': 455, 'fare': 632, 'whipped': 1948, 'starting': 1673, 'pesto': 1273, 'hearty': 810, 'poached': 1318, 'bright': 214, 'orange': 1200, 'visits': 1899, 'beer': 159, 'pickled': 1282, 'watermelon': 1929, 'pastry': 1251, 'sweetness': 1733, 'wrapped': 1981, 'savory': 1506, 'favor': 637, 'ribs': 1451, 'pig': 1290, 'sounded': 1625, 'waffles': 1902, 'used': 1868, 'skin': 1590, 'listed': 979, 'version': 1890, 'diners': 503, 'decide': 467, 'prime': 1353, 'weeks': 1939, 'timely': 1793, 'higher': 824, 'range': 1389, 'pass': 1244, '00': 0, 'seating': 1523, 'prompt': 1362, 'pull': 1371, 'fancy': 629, 'unlimited': 1862, 'design': 486, 'waters': 1930, 'wouldn': 1978, 'loaded': 986, 'recent': 1411, 'safe': 1480, 'favorites': 639, 'include': 873, 'lovers': 1010, 'beverages': 171, 'use': 1867, 'stumbled': 1706, '16': 8, 'overpriced': 1215, 'receive': 1409, 'vodka': 1900, '14': 6, 'ridiculous': 1455, 'guess': 774, 'alcohol': 59, 'fairly': 623, 'bf': 172, 'peppers': 1264, 'crunch': 440, 'steamed': 1684, 'soooo': 1620, 'orders': 1204, 'basket': 145, 'waiting': 1908, 'cookie': 397, 'deal': 464, 'organic': 1205, 'asking': 103, 'difference': 496, 'gets': 718, 'normally': 1154, 'beat': 154, 'octopus': 1168, 'checked': 300, 'closing': 352, 'sooooo': 1621, 'eyes': 618, 'interesting': 887, 'till': 1791, 'change': 293, '2nd': 19, 'older': 1182, 'class': 341, 'grabbed': 752, 'boy': 206, 'juices': 910, 'bites': 182, 'wanting': 1919, 'caught': 281, 'waited': 1905, 'write': 1983, 'member': 1067, 'meet': 1062, 'thinking': 1783, 'issues': 894, 'depending': 482, 'milk': 1085, 'mild': 1083, 'honey': 839, 'experiences': 610, 'provided': 1368, 'hadn': 780, 'greens': 761, 'overcooked': 1213, 'leaving': 955, 'sign': 1575, 'remembered': 1430, 'seeing': 1531, 'separate': 1540, 'speak': 1637, 'apologized': 80, 'meant': 1054, 'situation': 1584, 'offering': 1172, 'poor': 1324, 'fries': 698, 'melt': 1065, 'sausage': 1504, 'particular': 1240, 'hour': 850, 'strawberry': 1698, 'sitting': 1583, 'downside': 535, 'feels': 644, 'children': 313, 'vegetables': 1883, 'awful': 119, 'frozen': 699, 'disgusting': 515, 'cheesy': 306, 'realize': 1402, 'parties': 1242, 'appeared': 84, 'pleasure': 1313, 'event': 593, 'mountain': 1112, 'iced': 861, 'tea': 1760, 'sized': 1586, 'onions': 1190, 'shot': 1567, 'monday': 1105, 'known': 934, 'kinda': 926, 'anyways': 77, 'deserves': 485, 'zero': 1999, 'upset': 1865, 'tastes': 1756, 'spoke': 1651, 'fault': 636, 'blown': 186, 'mac': 1019, 'positive': 1330, 'hair': 782, 'returned': 1445, 'wedding': 1934, 'lounge': 1005, 'spectacular': 1642, 'welcome': 1941, 'mentioned': 1071, 'son': 1617, 'fall': 625, 'guests': 776, 'holy': 834, 'guacamole': 773, 'strips': 1701, 'coffee': 358, 'passed': 1245, 'future': 706, 'risotto': 1459, 'entrance': 585, 'air': 56, 'aren': 93, 'pepper': 1262, 'slice': 1593, 'avocado': 114, 'twist': 1847, 'tad': 1739, 'oily': 1178, 'generally': 715, 'chefs': 308, 'fork': 682, 'chops': 329, 'deserve': 484, 'offer': 1170, 'eater': 561, 'grill': 764, 'line': 976, '90': 30, 'balls': 132, 'figured': 649, 'edible': 565, 'cleaning': 346, 'station': 1677, 'hoping': 843, 'south': 1630, 'suggestion': 1715, 'picked': 1281, 'rude': 1472, 'wide': 1951, 'im': 865, 'los': 1000, 'texas': 1773, 'cost': 407, 'raw': 1397, 'explained': 612, 'correct': 405, 'apparently': 83, 'stayed': 1679, 'drinking': 542, 'contact': 389, 'example': 598, 'pricy': 1352, 'imagine': 866, 'complete': 377, 'face': 620, 'pick': 1280, 'industry': 880, 'effort': 567, 'tartare': 1752, 'saturday': 1501, 'resort': 1438, 'cool': 401, 'dozen': 537, 'hawaii': 802, '17': 9, 'heard': 808, 'confused': 381, 'turned': 1843, 'daughter': 460, 'smile': 1603, 'stand': 1664, 'surprisingly': 1730, 'apology': 81, 'private': 1355, 'view': 1893, 'mint': 1091, 'leaves': 954, 'consistent': 386, 'gold': 739, 'issue': 893, 'boring': 197, 'stale': 1663, 'burger': 239, 'burgers': 240, 'sliders': 1596, 'cup': 445, 'post': 1333, 'apple': 88, 'annoying': 72, 'set': 1551, 'china': 317, 'interested': 886, 'fit': 661, 'pan': 1229, 'loves': 1011, 'larger': 946, 'groups': 771, 'mall': 1028, 'holiday': 832, 'doubt': 533, 'variety': 1876, 'guest': 775, 'upscale': 1864, 'drop': 547, 'apart': 78, 'owner': 1218, 'serves': 1546, 'tourist': 1822, 'dough': 534, 'feed': 641, 'difficult': 498, 'nyc': 1164, 'reading': 1399, 'happened': 793, 'charged': 296, 'tax': 1759, 'clearly': 348, 'suggestions': 1716, 'putting': 1374, 'case': 274, 'aside': 100, 'meats': 1058, 'cart': 272, 'row': 1471, 'lady': 943, 'answered': 74, 'comfortable': 368, 'soy': 1632, 'peanut': 1259, 'uncomfortable': 1854, 'smell': 1601, 'sick': 1573, 'brown': 223, 'martini': 1042, 'bringing': 216, 'lettuce': 963, 'homemade': 836, 'smoked': 1605, 'tail': 1740, 'hey': 821, 'healthy': 806, 'freshly': 692, 'dollar': 524, 'original': 1206, 'plan': 1300, 'bellagio': 165, 'friday': 693, 'amazingly': 66, 'cheeseburger': 304, 'sesame': 1550, 'bun': 236, 'slices': 1595, 'ketchup': 918, 'mayo': 1048, 'receipt': 1408, 'sticks': 1687, 'owned': 1217, 'bonus': 193, 'creative': 429, 'crowd': 438, 'sour': 1629, 'lower': 1013, 'market': 1040, 'named': 1130, 'words': 1967, 'wanna': 1916, 'joke': 908, 'placed': 1297, 'guy': 777, 'casual': 278, 'hidden': 822, 'picture': 1285, 'fiancé': 647, 'chain': 289, 'die': 494, 'company': 371, 'watch': 1925, 'spread': 1656, 'popular': 1326, 'italian': 895, 'longer': 995, 'com': 362, 'polite': 1322, 'foodie': 677, 'worst': 1976, 'step': 1685, 'anytime': 76, 'thumbs': 1789, 'veggies': 1886, 'veggie': 1885, 'wise': 1958, 'using': 1869, 'hint': 827, 'finding': 655, 'liking': 973, 'vegetable': 1882, 'selections': 1534, 'sell': 1536, 'fruit': 700, 'north': 1155, 'street': 1699, 'dollars': 525, 'crap': 422, 'biscuit': 177, 'biscuits': 178, 'writing': 1984, 'morning': 1110, 'soggy': 1613, 'gross': 767, 'restroom': 1443, 'satisfying': 1500, 'consistently': 387, 'champagne': 291, 'breast': 212, 'tasteless': 1755, 'patrons': 1254, 'bartenders': 139, 'moving': 1116, '18': 10, 'joint': 906, '2016': 14, 'sooo': 1619, 'fully': 702, 'fix': 662, 'workers': 1971, 'apologize': 79, 'muffin': 1119, 'worse': 1975, 'terrible': 1771, 'olive': 1183, 'vinegar': 1895, 'gluten': 733, 'refill': 1418, '75': 28, 'living': 984, '35': 22, 'basically': 143, 'filling': 653, 'ton': 1808, 'bed': 157, 'chip': 320, 'cookies': 398, 'theme': 1779, 'particularly': 1241, 'card': 264, 'pancake': 1230, 'batter': 148, '80': 29, 'luck': 1014, '22': 16, 'closed': 350, 'window': 1954, 'pool': 1323, 'sold': 1614, 'explain': 611, 'miso': 1094, 'desk': 487, 'combo': 364, 'straight': 1695, 'wonder': 1963, 'road': 1460, 'cute': 452, 'garden': 709, 'asian': 99, 'ignored': 864, 'rio': 1458, 'spoon': 1652, 'appetite': 85, 'continue': 391, 'matter': 1046, 'veal': 1879, 'crave': 423, 'turn': 1842, 'oven': 1211, 'gives': 728, 'gotta': 748, 'sampler': 1491, 'diet': 495, '30pm': 21, 'pictures': 1286, 'says': 1510, 'frequent': 689, 'telling': 1764, 'offerings': 1173, 'lazy': 952, 'giant': 721, 'cheaper': 298, 'fingers': 657, 'managed': 1030, 'buy': 248, 'greet': 762, 'combination': 363, 'stood': 1690, 'fusion': 705, 'tofu': 1803, 'base': 140, 'standing': 1667, 'discount': 513, '99': 32, 'vegetarian': 1884, 'affordable': 47, 'takes': 1743, 'sample': 1490, 'carrot': 269, 'vegan': 1880, 'today': 1802, 'nacho': 1128, 'dad': 454, 'mussels': 1125, 'suggested': 1714, 'tap': 1748, 'handed': 787, 'dropped': 548, 'comment': 370, 'concept': 380, '21': 15, 'major': 1024, 'mess': 1074, 'points': 1320, '25': 18, 'brand': 208, 'deliver': 479, 'refreshing': 1421, 'hype': 859, 'golden': 740, 'typically': 1851, 'young': 1996, 'hip': 828, 'agree': 51, 'stuck': 1703, 'tots': 1819, '24': 17, 'diner': 502, 'somewhat': 1616, 'thats': 1778, 'id': 862, 'beverage': 170, 'squid': 1660, 'understand': 1856, 'months': 1108, 'figure': 648, 'foods': 678, 'hold': 830, 'afternoon': 48, 'heart': 809, 'chinese': 319, 'dried': 540, 'allow': 61, 'sunday': 1721, 'deli': 475, 'bag': 126, 'cakes': 255, 'smelled': 1602, 'kobe': 936, 'dance': 457, 'sizes': 1587, 'west': 1946, '45': 25, 'margarita': 1035, 'paris': 1235, 'peach': 1258, 'goat': 735, 'curry': 447, 'tempura': 1767, 'strawberries': 1697, 'update': 1863, 'met': 1076, 'helping': 819, 'yellowtail': 1991, 'noodles': 1151, 'club': 353, 'cucumber': 443, 'stomach': 1689, 'wicked': 1950, 'seaweed': 1525, 'poke': 1321, 'specifically': 1641, 'dip': 506, 'running': 1475, 'pad': 1225, 'thai': 1775, 'wonton': 1965, 'soda': 1611, 'teriyaki': 1770, 'delivery': 481, 'cashier': 276, 'discovered': 514, 'break': 210, 'dumplings': 553, 'happen': 792, 'driving': 546, 'yellow': 1990, 'spots': 1655, 'handle': 788, 'chow': 332, 'mein': 1064, 'anymore': 75, 'worker': 1970, 'wings': 1957, 'likes': 972, 'convenient': 393, 'teas': 1762, 'threw': 1787, 'sticky': 1688, 'breakfast': 211, 'container': 390, 'buffets': 232, 'pizza': 1294, 'tho': 1784, 'omelet': 1185, 'car': 262, 'park': 1236, 'parking': 1237, 'brunch': 225, 'security': 1530, 'play': 1306, 'sushi': 1731, 'benedict': 167, 'limited': 975, 'coupon': 412, 'basic': 142, 'corned': 403, 'scrambled': 1515, 'donuts': 529, 'pancakes': 1231, 'cinnamon': 337, 'omelette': 1186, 'relatively': 1427, 'tuesday': 1839, 'tips': 1797, 'toppings': 1814, 'ham': 784, 'donut': 528, 'bottomless': 201, 'health': 805, 'truck': 1832, 'brisket': 218, 'bought': 202, 'coke': 359, 'sports': 1653, '19': 11, 'downtown': 536, 'hummus': 855, 'rated': 1392, 'gourmet': 750, 'everytime': 596, 'cups': 446, 'didnt': 493, 'posted': 1334, 'cheddar': 302, 'jack': 899, 'mexican': 1077, 'needless': 1139, 'starving': 1675, 'rolled': 1465, 'likely': 971, 'tons': 1810, 'owners': 1219, 'support': 1724, 'lasagna': 948, 'napkins': 1132, 'tells': 1765, 'sucks': 1711, 'drove': 549, 'pickles': 1283, 'chipotle': 321, 'patty': 1255, 'eats': 563, 'nearby': 1135, 'bean': 152, 'shake': 1554, 'yesterday': 1994, 'patio': 1253, 'pulled': 1372, 'response': 1439, 'includes': 875, 'register': 1424, 'adding': 42, 'ranch': 1388, 'carrots': 270, 'shakes': 1555, 'grab': 751, 'tired': 1799, 'fry': 701, 'website': 1933, 'ground': 768, 'booths': 196, 'opening': 1194, 'manner': 1034, 'ive': 898, 'building': 234, 'dog': 521, 'mustard': 1126, '3rd': 23, 'kid': 921, 'locations': 992, 'secret': 1528, 'shop': 1563, 'counter': 409, 'hamburger': 785, 'employees': 573, 'inexpensive': 881, 'calling': 259, 'board': 189, 'continued': 392, 'east': 557, 'coast': 354, 'sake': 1482, 'messed': 1075, 'employee': 572, 'california': 257, 'airport': 57, 'funny': 704, 'chopped': 328, 'toasted': 1801, 'lines': 977, 'everyday': 595, 'burnt': 241, 'story': 1694, 'fountain': 684, 'refills': 1420, 'hole': 831, 'neighborhood': 1142, 'waitresses': 1910, 'various': 1877, 'plaza': 1309, 'cash': 275, 'frequently': 690, 'cabbage': 249, 'indian': 879, 'brew': 213, 'consistency': 385, 'carry': 271, 'wrap': 1980, 'english': 577, 'bay': 149, 'women': 1961, 'thoroughly': 1785, 'uber': 1852, 'movie': 1115, 'welcomed': 1942, 'chill': 316, 'unlike': 1861, 'wants': 1920, 'mile': 1084, 'previous': 1346, 'adults': 46, 'beers': 160, 'comfort': 367, 'crepe': 432, 'court': 415, 'gordon': 745, 'talked': 1746, 'avoid': 115, '95': 31, 'caesars': 251, 'pub': 1369, 'mcdonald': 1049, 'satisfy': 1499, 'trash': 1827, 'purchase': 1373, 'starbucks': 1669, 'patient': 1252, 'hurry': 857, 'shopping': 1564, '13': 5, 'annoyed': 71, 'excuse': 602, 'training': 1826, 'changed': 294, 'snack': 1609, 'gift': 722, 'strange': 1696, 'cleaned': 345, 'shops': 1565, 'cooks': 400, 'refund': 1422, 'korean': 937, 'pho': 1276, 'summerlin': 1719, 'wasabi': 1922, 'cilantro': 336, 'slaw': 1592, 'aioli': 55, 'ginger': 723, 'bowls': 204, 'kimchi': 924, 'preferred': 1340, 'reminds': 1432, 'dead': 463, 'haha': 781, 'opportunity': 1196, 'doors': 531, 'jalapeño': 900, 'southern': 1631, 'weekends': 1938, 'takeout': 1742, 'kale': 914, 'chorizo': 330, 'filipino': 651, 'hawaiian': 803, 'grease': 756, 'trust': 1836, 'impression': 871, 'topping': 1813, 'cozy': 419, 'eggplant': 569, 'vibe': 1891, 'quantity': 1376, 'kalbi': 913, 'cauliflower': 282, 'buffalo': 230, 'smoke': 1604, 'rainbow': 1384, 'naan': 1127, 'noodle': 1150, 'marinated': 1038, 'vacation': 1872, 'jam': 901, 'crepes': 433, 'plastic': 1302, 'salsa': 1486, 'wednesday': 1935, 'hang': 790, 'burrito': 242, 'cafe': 252, 'burritos': 243, 'carnitas': 267, 'ramen': 1385, 'soups': 1628, 'vietnamese': 1892, 'edamame': 564, 'sprouts': 1658, 'ratio': 1394, 'weather': 1932, 'chinatown': 318, 'sum': 1717, 'udon': 1853, 'joe': 904, 'luckily': 1015, 'shredded': 1571, 'bars': 137, 'custard': 448, 'spanish': 1636, 'tortilla': 1815, 'tacos': 1738, 'el': 571, 'bc': 151, 'hello': 815, 'meatball': 1056, 'square': 1659, 'mr': 1118, 'mi': 1079, 'spacious': 1634, 'services': 1548, 'additional': 44, 'wraps': 1982, 'nasty': 1133, 'meatballs': 1057, 'admit': 45, 'taco': 1737, 'katsu': 915, 'hanging': 791, 'lemonade': 961, 'killer': 923, 'pineapple': 1291, 'cherry': 309, 'groupon': 770, 'pita': 1293, 'btw': 227, 'hookah': 840, 'bell': 164, 'oxtail': 1220, 'aria': 94, 'gelato': 712, 'members': 1068, 'ayce': 121, 'island': 891, 'enchiladas': 574, 'crawfish': 425, 'deals': 465, 'sun': 1720, 'pastries': 1250, 'browns': 224, 'upstairs': 1866, 'stack': 1661, 'clam': 339, 'chowder': 333, 'catfish': 280, 'snow': 1610, 'pros': 1365, 'outdoor': 1208, 'machines': 1022, 'games': 708, 'philly': 1275, 'tvs': 1845, 'mozzarella': 1117, 'rings': 1457, 'carne': 266, 'pepperoni': 1263, 'nope': 1152, 'spaghetti': 1635, 'pastrami': 1249, 'fremont': 687, 'henderson': 820, 'nut': 1161, 'planet': 1301, 'blueberry': 188, 'greek': 759, 'syrup': 1734, 'clams': 340, 'photos': 1279, 'driver': 545, 'catch': 279, 'sashimi': 1496, 'band': 134, 'cons': 382, 'taro': 1750, 'build': 233, 'dogs': 522, 'tortillas': 1816, 'sangria': 1495, 'nachos': 1129, 'subway': 1709, 'chicago': 311, 'uni': 1858, 'nigiri': 1148, 'tapas': 1749, 'midnight': 1081, 'ceviche': 288, 'mimosas': 1086, 'gyro': 779, 'asada': 98, 'smoothies': 1608, 'hollywood': 833, 'fajitas': 624, 'bacchanal': 123, 'bloody': 185, 'mary': 1043, 'almond': 63, 'brussel': 226, 'macaroni': 1020, 'calamari': 256, 'bagel': 127, 'guac': 772, 'bakery': 129, 'john': 905, 'skillet': 1589, 'alfredo': 60, 'quesadilla': 1377, 'tiramisu': 1798, 'velvet': 1887, 'pizzas': 1295, 'ramsay': 1386, 'wing': 1956, 'fountains': 685, 'views': 1894, 'shack': 1553, 'chile': 314, 'margaritas': 1036, 'parm': 1238, 'dj': 518, 'nutella': 1162, 'smoothie': 1607, 'latte': 951, 'bulgogi': 235, 'boba': 190, 'gnocchi': 734, 'pastor': 1248}\n"
     ]
    }
   ],
   "source": [
    "# Get the vocab of your tfidf\n",
    "vocab = vectorizer.vocabulary_\n",
    "print(vocab)"
   ]
  },
  {
   "cell_type": "code",
   "execution_count": 14,
   "metadata": {
    "collapsed": true
   },
   "outputs": [],
   "source": [
    "# Use the trained model to transform your test data\n",
    "y_test = target_test\n",
    "X_test = vectorizer.transform(documents_test)"
   ]
  },
  {
   "cell_type": "markdown",
   "metadata": {},
   "source": [
    "## Similar review search engine"
   ]
  },
  {
   "cell_type": "code",
   "execution_count": 15,
   "metadata": {
    "collapsed": true
   },
   "outputs": [],
   "source": [
    "import numpy as np\n",
    "\n",
    "# We will need these helper methods pretty soon\n",
    "\n",
    "def get_top_values(lst, n, labels):\n",
    "    '''\n",
    "    INPUT: LIST, INTEGER, LIST\n",
    "    OUTPUT: LIST\n",
    "\n",
    "    Given a list of values, find the indices with the highest n values.\n",
    "    Return the labels for each of these indices.\n",
    "\n",
    "    e.g.\n",
    "    lst = [7, 3, 2, 4, 1]\n",
    "    n = 2\n",
    "    labels = [\"cat\", \"dog\", \"mouse\", \"pig\", \"rabbit\"]\n",
    "    output: [\"cat\", \"pig\"]\n",
    "    '''\n",
    "    return [labels[i] for i in np.argsort(lst)[::-1][:n]]  # np.argsort by default sorts values in ascending order\n",
    "\n",
    "def get_bottom_values(lst, n, labels):\n",
    "    '''\n",
    "    INPUT: LIST, INTEGER, LIST\n",
    "    OUTPUT: LIST\n",
    "\n",
    "    Given a list of values, find the indices with the lowest n values.\n",
    "    Return the labels for each of these indices.\n",
    "\n",
    "    e.g.\n",
    "    lst = [7, 3, 2, 4, 1]\n",
    "    n = 2\n",
    "    labels = [\"cat\", \"dog\", \"mouse\", \"pig\", \"rabbit\"]\n",
    "    output: [\"mouse\", \"rabbit\"]\n",
    "    '''\n",
    "    return [labels[i] for i in np.argsort(lst)[::1][:n]]\n"
   ]
  },
  {
   "cell_type": "code",
   "execution_count": 68,
   "metadata": {
    "collapsed": true
   },
   "outputs": [],
   "source": [
    "# Let's use cosine similarity\n",
    "from sklearn.metrics.pairwise import cosine_similarity"
   ]
  },
  {
   "cell_type": "code",
   "execution_count": 97,
   "metadata": {},
   "outputs": [
    {
     "name": "stdout",
     "output_type": "stream",
     "text": [
      "WOW!!!  Stopped in on two occassions when I stayed at the Bellagio.  Their iced coffee was amazing!  The pastries were to die for!!!  We tried the chocolate covered strawberries, creme brulee & tirmitsu.  Excellently crafted.  I felt the prices were reasonable and expected them to be higher.  Definately stop in!\n"
     ]
    }
   ],
   "source": [
    "# Draw an arbitrary review from test (unseen in training) documents\n",
    "arbitrary_review = documents_train[np.random.randint(documents_train.size-1)]\n",
    "print(arbitrary_review)"
   ]
  },
  {
   "cell_type": "code",
   "execution_count": 101,
   "metadata": {},
   "outputs": [
    {
     "name": "stdout",
     "output_type": "stream",
     "text": [
      "Vectorized query: [[ 0.  0.  0. ...,  0.  0.  0.]]\n"
     ]
    }
   ],
   "source": [
    "# Create TfidfVectorizer, and name it vectorizer\n",
    "vectorizer = TfidfVectorizer(stop_words='english', max_features=2000)\n",
    "vectors = vectorizer.fit_transform(documents).toarray()\n",
    "words = vectorizer.get_feature_names()\n",
    "# Transform the drawn review(s) to vector(s)\n",
    "vector_query = vectorizer.transform([arbitrary_review]).todense()\n",
    "print (\"Vectorized query:\", vector_query)"
   ]
  },
  {
   "cell_type": "code",
   "execution_count": 117,
   "metadata": {},
   "outputs": [
    {
     "data": {
      "text/plain": [
       "matrix([[ 0.       ,  0.       ,  0.0830747, ...,  0.       ,  0.       ,\n",
       "          0.       ]])"
      ]
     },
     "execution_count": 117,
     "metadata": {},
     "output_type": "execute_result"
    }
   ],
   "source": [
    "X_train[-2].todense()"
   ]
  },
  {
   "cell_type": "code",
   "execution_count": 118,
   "metadata": {
    "collapsed": true
   },
   "outputs": [],
   "source": [
    "# Calculate the similarity score(s) between vector(s) and training vectors\n",
    "score = []\n",
    "for i in range(documents_train.size-1):\n",
    "    score.append(cosine_similarity(vector_query.reshape(1, -1), X_train[i].todense().reshape(1, -1)))"
   ]
  },
  {
   "cell_type": "code",
   "execution_count": 94,
   "metadata": {
    "collapsed": true
   },
   "outputs": [],
   "source": [
    "# Let's find top 5 similar reviews\n",
    "n = 5\n",
    "pass"
   ]
  },
  {
   "cell_type": "code",
   "execution_count": 104,
   "metadata": {},
   "outputs": [
    {
     "name": "stdout",
     "output_type": "stream",
     "text": [
      "Our search query:\n",
      "WOW!!!  Stopped in on two occassions when I stayed at the Bellagio.  Their iced coffee was amazing!  The pastries were to die for!!!  We tried the chocolate covered strawberries, creme brulee & tirmitsu.  Excellently crafted.  I felt the prices were reasonable and expected them to be higher.  Definately stop in!\n"
     ]
    }
   ],
   "source": [
    "print ('Our search query:')\n",
    "print (arbitrary_review)"
   ]
  },
  {
   "cell_type": "code",
   "execution_count": 122,
   "metadata": {},
   "outputs": [
    {
     "name": "stdout",
     "output_type": "stream",
     "text": [
      "Most 5 similar reviews:\n",
      "[array([[ 'We came on a Sat morning for breakfast, it was 2/3 full in the restaurants, the line was short thou.  \\n\\nMom ordered the hen house and she really loved it!  Hubby had the rueben sandwich with side salad instead of fries, it was delicious! I had the huevo ranchos and elvis, huevo ranchos was not impressed and it looked kinda sloppy.  The french toast was good so it kinda make up for it, it was stuffed with banana, bacon, and peanut butter. Nothing can beat sweet and savory! \\n\\nThe food came out so slow, even slower than a regular restaurant.  Not sure why! However the servers there were awesome! Very friendly and welcoming.']], dtype=object), array([[ 'We came on a Sat morning for breakfast, it was 2/3 full in the restaurants, the line was short thou.  \\n\\nMom ordered the hen house and she really loved it!  Hubby had the rueben sandwich with side salad instead of fries, it was delicious! I had the huevo ranchos and elvis, huevo ranchos was not impressed and it looked kinda sloppy.  The french toast was good so it kinda make up for it, it was stuffed with banana, bacon, and peanut butter. Nothing can beat sweet and savory! \\n\\nThe food came out so slow, even slower than a regular restaurant.  Not sure why! However the servers there were awesome! Very friendly and welcoming.']], dtype=object), array([[ 'We came on a Sat morning for breakfast, it was 2/3 full in the restaurants, the line was short thou.  \\n\\nMom ordered the hen house and she really loved it!  Hubby had the rueben sandwich with side salad instead of fries, it was delicious! I had the huevo ranchos and elvis, huevo ranchos was not impressed and it looked kinda sloppy.  The french toast was good so it kinda make up for it, it was stuffed with banana, bacon, and peanut butter. Nothing can beat sweet and savory! \\n\\nThe food came out so slow, even slower than a regular restaurant.  Not sure why! However the servers there were awesome! Very friendly and welcoming.']], dtype=object), array([[ 'We came on a Sat morning for breakfast, it was 2/3 full in the restaurants, the line was short thou.  \\n\\nMom ordered the hen house and she really loved it!  Hubby had the rueben sandwich with side salad instead of fries, it was delicious! I had the huevo ranchos and elvis, huevo ranchos was not impressed and it looked kinda sloppy.  The french toast was good so it kinda make up for it, it was stuffed with banana, bacon, and peanut butter. Nothing can beat sweet and savory! \\n\\nThe food came out so slow, even slower than a regular restaurant.  Not sure why! However the servers there were awesome! Very friendly and welcoming.']], dtype=object), array([[ 'We came on a Sat morning for breakfast, it was 2/3 full in the restaurants, the line was short thou.  \\n\\nMom ordered the hen house and she really loved it!  Hubby had the rueben sandwich with side salad instead of fries, it was delicious! I had the huevo ranchos and elvis, huevo ranchos was not impressed and it looked kinda sloppy.  The french toast was good so it kinda make up for it, it was stuffed with banana, bacon, and peanut butter. Nothing can beat sweet and savory! \\n\\nThe food came out so slow, even slower than a regular restaurant.  Not sure why! However the servers there were awesome! Very friendly and welcoming.']], dtype=object)]\n"
     ]
    }
   ],
   "source": [
    "print ('Most %s similar reviews:' % n)\n",
    "print (get_top_values(score, n, documents_train))"
   ]
  },
  {
   "cell_type": "markdown",
   "metadata": {},
   "source": [
    "#### Q: Does the result make sense to you?"
   ]
  },
  {
   "cell_type": "markdown",
   "metadata": {},
   "source": [
    "A: The results does not make any sense to me. I suspect there are too many features and the scores are relatively low. We need to decrease the number of features and decrease variancce to have better results. "
   ]
  },
  {
   "cell_type": "markdown",
   "metadata": {},
   "source": [
    "## Classifying positive/negative review"
   ]
  },
  {
   "cell_type": "markdown",
   "metadata": {},
   "source": [
    "#### Naive-Bayes Classifier"
   ]
  },
  {
   "cell_type": "code",
   "execution_count": 124,
   "metadata": {},
   "outputs": [
    {
     "data": {
      "text/plain": [
       "MultinomialNB(alpha=1.0, class_prior=None, fit_prior=True)"
      ]
     },
     "execution_count": 124,
     "metadata": {},
     "output_type": "execute_result"
    }
   ],
   "source": [
    "# Build a Naive-Bayes Classifier\n",
    "\n",
    "from sklearn.naive_bayes import MultinomialNB\n",
    "\n",
    "model = MultinomialNB()\n",
    "model.fit(X_train, target_train)"
   ]
  },
  {
   "cell_type": "code",
   "execution_count": 125,
   "metadata": {},
   "outputs": [
    {
     "data": {
      "text/plain": [
       "0.80401773022149858"
      ]
     },
     "execution_count": 125,
     "metadata": {},
     "output_type": "execute_result"
    }
   ],
   "source": [
    "# Get score for training set\n",
    "model.score(X_train, target_train)"
   ]
  },
  {
   "cell_type": "code",
   "execution_count": 126,
   "metadata": {},
   "outputs": [
    {
     "data": {
      "text/plain": [
       "0.80062611257749683"
      ]
     },
     "execution_count": 126,
     "metadata": {},
     "output_type": "execute_result"
    }
   ],
   "source": [
    "# Get score for test set\n",
    "model.score(X_test, y_test)"
   ]
  },
  {
   "cell_type": "markdown",
   "metadata": {},
   "source": [
    "#### Logistic Regression Classifier"
   ]
  },
  {
   "cell_type": "code",
   "execution_count": 127,
   "metadata": {},
   "outputs": [
    {
     "data": {
      "text/plain": [
       "LogisticRegression(C=1.0, class_weight=None, dual=False, fit_intercept=True,\n",
       "          intercept_scaling=1, max_iter=100, multi_class='ovr', n_jobs=1,\n",
       "          penalty='l2', random_state=None, solver='liblinear', tol=0.0001,\n",
       "          verbose=0, warm_start=False)"
      ]
     },
     "execution_count": 127,
     "metadata": {},
     "output_type": "execute_result"
    }
   ],
   "source": [
    "# Build a Logistic Regression Classifier\n",
    "\n",
    "from sklearn.linear_model import LogisticRegression\n",
    "\n",
    "model = LogisticRegression()\n",
    "model.fit(X_train, target_train)"
   ]
  },
  {
   "cell_type": "code",
   "execution_count": 128,
   "metadata": {},
   "outputs": [
    {
     "data": {
      "text/plain": [
       "0.83180520017575144"
      ]
     },
     "execution_count": 128,
     "metadata": {},
     "output_type": "execute_result"
    }
   ],
   "source": [
    "# Get score for training set\n",
    "model.score(X_train, target_train)"
   ]
  },
  {
   "cell_type": "code",
   "execution_count": 129,
   "metadata": {
    "scrolled": true
   },
   "outputs": [
    {
     "data": {
      "text/plain": [
       "0.82702105457000796"
      ]
     },
     "execution_count": 129,
     "metadata": {},
     "output_type": "execute_result"
    }
   ],
   "source": [
    "# Get score for test set\n",
    "model.score(X_test, y_test)"
   ]
  },
  {
   "cell_type": "markdown",
   "metadata": {},
   "source": [
    "#### Q: What are the key features(words) that make the positive prediction?"
   ]
  },
  {
   "cell_type": "code",
   "execution_count": 131,
   "metadata": {},
   "outputs": [
    {
     "name": "stdout",
     "output_type": "stream",
     "text": [
      "Most 20 key features(words) that make the positive prediction:\n",
      "['amazing', 'best', 'awesome', 'incredible', 'phenomenal', 'thank', 'perfect', 'heaven', 'delicious', 'fantastic', 'perfection', 'excellent', 'gem', 'highly', 'great', 'favorite', 'outstanding', 'notch', 'perfectly', 'impeccable']\n"
     ]
    }
   ],
   "source": [
    "# Let's find it out by ranking\n",
    "n = 20\n",
    "num_category = 0\n",
    "print ('Most %s key features(words) that make the positive prediction:' % n)\n",
    "print (get_top_values(model.coef_[num_category], n, words))"
   ]
  },
  {
   "cell_type": "markdown",
   "metadata": {},
   "source": [
    "A: most of them are good words, I think this make sense to me."
   ]
  },
  {
   "cell_type": "markdown",
   "metadata": {},
   "source": [
    "#### Q: What are the key features(words) that make the negative prediction?"
   ]
  },
  {
   "cell_type": "code",
   "execution_count": 132,
   "metadata": {},
   "outputs": [
    {
     "name": "stdout",
     "output_type": "stream",
     "text": [
      "Most 20 key features(words) that make the positive prediction:\n",
      "['worst', 'horrible', 'disappointing', 'terrible', 'bland', 'rude', 'mediocre', 'ok', 'lacked', 'okay', 'slow', 'lacking', 'poor', 'disgusting', 'awful', 'meh', 'worse', 'average', 'tasteless', 'overpriced']\n"
     ]
    }
   ],
   "source": [
    "# Let's find it out by ranking\n",
    "n = 20\n",
    "num_category = 0\n",
    "print ('Most %s key features(words) that make the positive prediction:' % n)\n",
    "print (get_bottom_values(model.coef_[num_category], n, words))"
   ]
  },
  {
   "cell_type": "markdown",
   "metadata": {},
   "source": [
    "A: most of them are bad words, I think this make sense to me."
   ]
  },
  {
   "cell_type": "markdown",
   "metadata": {},
   "source": [
    "#### Random Forest Classifier"
   ]
  },
  {
   "cell_type": "code",
   "execution_count": 41,
   "metadata": {},
   "outputs": [
    {
     "data": {
      "text/plain": [
       "OneVsRestClassifier(estimator=RandomForestClassifier(bootstrap=True, class_weight=None, criterion='gini',\n",
       "            max_depth=50, max_features='auto', max_leaf_nodes=None,\n",
       "            min_impurity_split=1e-07, min_samples_leaf=3,\n",
       "            min_samples_split=2, min_weight_fraction_leaf=0.0,\n",
       "            n_estimators=50, n_jobs=1, oob_score=False, random_state=1,\n",
       "            verbose=0, warm_start=False),\n",
       "          n_jobs=-1)"
      ]
     },
     "execution_count": 41,
     "metadata": {},
     "output_type": "execute_result"
    }
   ],
   "source": [
    "# use one vs rest classifier for multi-class classification\n",
    "from sklearn.multiclass import OneVsRestClassifier\n",
    "# Build a Random Forest Classifier\n",
    "from sklearn.ensemble import RandomForestClassifier\n",
    "\n",
    "estimator = RandomForestClassifier(n_estimators=50,max_depth=50,min_samples_leaf=3, random_state=1)\n",
    "model = OneVsRestClassifier(estimator,n_jobs=-1)\n",
    "\n",
    "model.fit(X_train, target_train)"
   ]
  },
  {
   "cell_type": "code",
   "execution_count": 42,
   "metadata": {},
   "outputs": [
    {
     "data": {
      "text/plain": [
       "0.87674136104003519"
      ]
     },
     "execution_count": 42,
     "metadata": {},
     "output_type": "execute_result"
    }
   ],
   "source": [
    "# Get score for training set\n",
    "model.score(X_train, target_train)"
   ]
  },
  {
   "cell_type": "code",
   "execution_count": 43,
   "metadata": {},
   "outputs": [
    {
     "data": {
      "text/plain": [
       "0.79866183782456568"
      ]
     },
     "execution_count": 43,
     "metadata": {},
     "output_type": "execute_result"
    }
   ],
   "source": [
    "# Get score for test set\n",
    "model.score(X_test, y_test)"
   ]
  },
  {
   "cell_type": "markdown",
   "metadata": {},
   "source": [
    "#### Q: What do you see from the training score and the test score?"
   ]
  },
  {
   "cell_type": "markdown",
   "metadata": {},
   "source": [
    "A: comparing with other models, random forest seems to have much higher score for training data than testing data. I would assume the random forest model is overfitting or have higher variance. To gain better results, we may need bagging or boosting methods."
   ]
  },
  {
   "cell_type": "markdown",
   "metadata": {},
   "source": [
    "#### Q: Can you tell what features (words) are important by inspecting the RFC model?"
   ]
  },
  {
   "cell_type": "code",
   "execution_count": 26,
   "metadata": {},
   "outputs": [
    {
     "data": {
      "text/plain": [
       "array([  1.27669631e-04,   7.27600530e-04,   6.11799388e-05, ...,\n",
       "         5.03842301e-04,   1.35339761e-03,   1.78480286e-04])"
      ]
     },
     "execution_count": 26,
     "metadata": {},
     "output_type": "execute_result"
    }
   ],
   "source": [
    "#OneVsRestClassifier has an attribute estimators_ : list of n_classes estimators.\n",
    "#So to get the feature importance of the ith(first/only) RandomForest\n",
    "model.estimators_[0].feature_importances_"
   ]
  },
  {
   "cell_type": "code",
   "execution_count": 28,
   "metadata": {},
   "outputs": [
    {
     "name": "stdout",
     "output_type": "stream",
     "text": [
      "Most 20 key features(words) that are important by inspecting the RFC model:\n",
      "['amazing', 'best', 'great', 'delicious', 'love', 'awesome', 'ok', 'vegas', 'bad', 'didn', 'definitely', 'worst', 'good', 'wasn', 'favorite', 'highly', 'horrible', 'excellent', 'minutes', 'perfect']\n"
     ]
    }
   ],
   "source": [
    "n = 20\n",
    "num_category_RFC = 0\n",
    "print ('Most %s key features(words) that are important by inspecting the RFC model:' % n)\n",
    "print (get_top_values(model.estimators_[0].feature_importances_, n, words))"
   ]
  },
  {
   "cell_type": "markdown",
   "metadata": {},
   "source": [
    "## Extra Credit #1: Use cross validation to evaluate your classifiers\n",
    "\n",
    "[sklearn cross validation](http://scikit-learn.org/stable/modules/cross_validation.html)"
   ]
  },
  {
   "cell_type": "code",
   "execution_count": 30,
   "metadata": {},
   "outputs": [
    {
     "name": "stdout",
     "output_type": "stream",
     "text": [
      "Naive-Bayes Classifier Accuracy: 0.80 (+/- 0.02)\n"
     ]
    }
   ],
   "source": [
    "from sklearn.model_selection import cross_val_score\n",
    "X_data = vectorizer.transform(documents)\n",
    "\n",
    "#Naive-Bayes Classifier\n",
    "from sklearn.naive_bayes import MultinomialNB\n",
    "model_NB = MultinomialNB()\n",
    "scores = cross_val_score(model_NB, X_data, y, cv=20)\n",
    "print(\"Naive-Bayes Classifier Accuracy: %0.2f (+/- %0.2f)\" % (scores.mean(), scores.std() * 2))"
   ]
  },
  {
   "cell_type": "code",
   "execution_count": 31,
   "metadata": {},
   "outputs": [
    {
     "name": "stdout",
     "output_type": "stream",
     "text": [
      "Logistic Regression Classifier Accuracy: 0.83 (+/- 0.01)\n"
     ]
    }
   ],
   "source": [
    "#Logistic Regression Classifier\n",
    "from sklearn.linear_model import LogisticRegression\n",
    "model_LR = LogisticRegression()\n",
    "scores = cross_val_score(model_LR, X_data, y, cv=20)\n",
    "print(\"Logistic Regression Classifier Accuracy: %0.2f (+/- %0.2f)\" % (scores.mean(), scores.std() * 2))"
   ]
  },
  {
   "cell_type": "code",
   "execution_count": 44,
   "metadata": {},
   "outputs": [
    {
     "name": "stdout",
     "output_type": "stream",
     "text": [
      "Random Forest Classifier Accuracy: 0.80 (+/- 0.01)\n"
     ]
    }
   ],
   "source": [
    "#Random Forest Classifier\n",
    "# use one vs rest classifier for multi-class classification\n",
    "from sklearn.multiclass import OneVsRestClassifier\n",
    "# Build a Random Forest Classifier\n",
    "from sklearn.ensemble import RandomForestClassifier\n",
    "estimator = RandomForestClassifier(n_estimators=50,max_depth=50,min_samples_leaf=3, random_state=1)\n",
    "model_RF = OneVsRestClassifier(estimator,n_jobs=-1)\n",
    "scores = cross_val_score(model_RF, X_data, y, cv=20)\n",
    "print(\"Random Forest Classifier Accuracy: %0.2f (+/- %0.2f)\" % (scores.mean(), scores.std() * 2))"
   ]
  },
  {
   "cell_type": "markdown",
   "metadata": {},
   "source": [
    "Logistic Regression Classifier seems to have the best result among all."
   ]
  },
  {
   "cell_type": "markdown",
   "metadata": {},
   "source": [
    "## Extra Credit #2: Use grid search to find best predictable classifier\n",
    "\n",
    "\n",
    "[sklearn grid search tutorial (with cross validation)](http://scikit-learn.org/stable/modules/grid_search.html#grid-search)\n",
    "\n",
    "[sklearn grid search documentation (with cross validation)](http://scikit-learn.org/stable/modules/generated/sklearn.model_selection.GridSearchCV.html#sklearn.model_selection.GridSearchCV)"
   ]
  },
  {
   "cell_type": "markdown",
   "metadata": {},
   "source": [
    "There isn't a hyper-parameter to tune on Naive-Bayes Classifier, so we have nothing to grid search over."
   ]
  },
  {
   "cell_type": "code",
   "execution_count": 57,
   "metadata": {},
   "outputs": [
    {
     "name": "stdout",
     "output_type": "stream",
     "text": [
      "GridSearchCV took 739.98 seconds for 7 candidate parameter settings.\n",
      "Model with rank: 1\n",
      "Mean validation score: 0.826 (std: 0.007)\n",
      "Parameters: {'C': 1}\n",
      "\n",
      "Model with rank: 2\n",
      "Mean validation score: 0.826 (std: 0.007)\n",
      "Parameters: {'C': 10}\n",
      "\n",
      "Model with rank: 3\n",
      "Mean validation score: 0.826 (std: 0.008)\n",
      "Parameters: {'C': 100}\n",
      "\n",
      "Model with rank: 3\n",
      "Mean validation score: 0.826 (std: 0.008)\n",
      "Parameters: {'C': 1000}\n",
      "\n"
     ]
    }
   ],
   "source": [
    "# Utility function to report best scores\n",
    "def report(results, n_top=3):\n",
    "    for i in range(1, n_top + 1):\n",
    "        candidates = np.flatnonzero(results['rank_test_score'] == i)\n",
    "        for candidate in candidates:\n",
    "            print(\"Model with rank: {0}\".format(i))\n",
    "            print(\"Mean validation score: {0:.3f} (std: {1:.3f})\".format(\n",
    "                  results['mean_test_score'][candidate],\n",
    "                  results['std_test_score'][candidate]))\n",
    "            print(\"Parameters: {0}\".format(results['params'][candidate]))\n",
    "            print(\"\")\n",
    "            \n",
    "#Logistic Regression Classifier\n",
    "from sklearn.linear_model import LogisticRegression\n",
    "model_LR = LogisticRegression()\n",
    "param_grid = {'C': [0.001, 0.01, 0.1, 1, 10, 100, 1000] }\n",
    "grid_search = GridSearchCV(model_LR, param_grid, cv= 20)\n",
    "start = time()\n",
    "grid_search.fit(X_data, y)\n",
    "print(\"GridSearchCV took %.2f seconds for %d candidate parameter settings.\"\n",
    "      % (time() - start, len(grid_search.cv_results_['params'])))\n",
    "report(grid_search.cv_results_)"
   ]
  },
  {
   "cell_type": "markdown",
   "metadata": {},
   "source": [
    "The best C value (Inverse of regularization strength) is 1.0, which is the default value for logistic regression"
   ]
  },
  {
   "cell_type": "code",
   "execution_count": 56,
   "metadata": {},
   "outputs": [
    {
     "name": "stdout",
     "output_type": "stream",
     "text": [
      "GridSearchCV took 5416.56 seconds for 9 candidate parameter settings.\n",
      "Model with rank: 1\n",
      "Mean validation score: 0.799 (std: 0.001)\n",
      "Parameters: {'max_depth': 50, 'min_samples_leaf': 5}\n",
      "\n",
      "Model with rank: 2\n",
      "Mean validation score: 0.799 (std: 0.001)\n",
      "Parameters: {'max_depth': 50, 'min_samples_leaf': 3}\n",
      "\n",
      "Model with rank: 3\n",
      "Mean validation score: 0.797 (std: 0.001)\n",
      "Parameters: {'max_depth': 50, 'min_samples_leaf': 10}\n",
      "\n"
     ]
    }
   ],
   "source": [
    "from time import time\n",
    "# Build a Random Forest Classifier\n",
    "from sklearn.ensemble import RandomForestClassifier\n",
    "from sklearn.model_selection import GridSearchCV\n",
    "# use a full grid over all parameters\n",
    "param_grid = {\"max_depth\": [15, 35, 50],\n",
    "              \"min_samples_leaf\": [3, 5, 10]}\n",
    "# run grid search\n",
    "estimator = RandomForestClassifier(n_jobs=-1,n_estimators=50)\n",
    "grid_search = GridSearchCV(estimator, param_grid=param_grid)\n",
    "start = time()\n",
    "grid_search.fit(X_data, y)\n",
    "\n",
    "print(\"GridSearchCV took %.2f seconds for %d candidate parameter settings.\"\n",
    "      % (time() - start, len(grid_search.cv_results_['params'])))\n",
    "report(grid_search.cv_results_)"
   ]
  },
  {
   "cell_type": "markdown",
   "metadata": {
    "collapsed": true
   },
   "source": [
    "The best 'max_depth': 50, 'min_samples_leaf': 5.0, but the randomforest still got worse performance \n",
    "than logistic regression. I will choose the logistic regression.\n",
    "Note, the random forest here did not use grid search with cross validation, because we have done cross validation\n",
    "before, and due to limit similation time. "
   ]
  }
 ],
 "metadata": {
  "anaconda-cloud": {},
  "kernelspec": {
   "display_name": "Python 3",
   "language": "python",
   "name": "python3"
  },
  "language_info": {
   "codemirror_mode": {
    "name": "ipython",
    "version": 3
   },
   "file_extension": ".py",
   "mimetype": "text/x-python",
   "name": "python",
   "nbconvert_exporter": "python",
   "pygments_lexer": "ipython3",
   "version": "3.6.1"
  }
 },
 "nbformat": 4,
 "nbformat_minor": 1
}
