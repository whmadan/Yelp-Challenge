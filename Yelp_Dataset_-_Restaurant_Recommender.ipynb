{
 "cells": [
  {
   "cell_type": "markdown",
   "metadata": {},
   "source": [
    "# Yelp Data Challenge - Restaurant Recommender\n",
    "\n",
    "BitTiger DS501\n",
    "\n",
    "Nov 2017"
   ]
  },
  {
   "cell_type": "code",
   "execution_count": 64,
   "metadata": {
    "collapsed": true
   },
   "outputs": [],
   "source": [
    "import pandas as pd\n",
    "import numpy as np\n",
    "import matplotlib.pyplot as plt\n",
    "% matplotlib inline\n",
    "plt.style.use(\"ggplot\")"
   ]
  },
  {
   "cell_type": "code",
   "execution_count": 65,
   "metadata": {
    "collapsed": true
   },
   "outputs": [],
   "source": [
    "df = pd.read_csv('yelp_dataset_challenge_round10/last_2_years_restaurant_reviews.csv')"
   ]
  },
  {
   "cell_type": "code",
   "execution_count": 66,
   "metadata": {
    "collapsed": false
   },
   "outputs": [
    {
     "data": {
      "text/html": [
       "<div>\n",
       "<table border=\"1\" class=\"dataframe\">\n",
       "  <thead>\n",
       "    <tr style=\"text-align: right;\">\n",
       "      <th></th>\n",
       "      <th>business_id</th>\n",
       "      <th>name</th>\n",
       "      <th>categories</th>\n",
       "      <th>avg_stars</th>\n",
       "      <th>cool</th>\n",
       "      <th>date</th>\n",
       "      <th>funny</th>\n",
       "      <th>review_id</th>\n",
       "      <th>stars</th>\n",
       "      <th>text</th>\n",
       "      <th>useful</th>\n",
       "      <th>user_id</th>\n",
       "    </tr>\n",
       "  </thead>\n",
       "  <tbody>\n",
       "    <tr>\n",
       "      <th>0</th>\n",
       "      <td>--9e1ONYQuAa-CB_Rrw7Tw</td>\n",
       "      <td>Delmonico Steakhouse</td>\n",
       "      <td>['Steakhouses', 'Cajun/Creole', 'Restaurants']</td>\n",
       "      <td>4.0</td>\n",
       "      <td>1</td>\n",
       "      <td>2016-05-17</td>\n",
       "      <td>0</td>\n",
       "      <td>0Qc1THNHSapDL7cv-ZzW5g</td>\n",
       "      <td>5</td>\n",
       "      <td>What can I say.. Wowzers! Probably one of the ...</td>\n",
       "      <td>0</td>\n",
       "      <td>4LxKRRIikhr65GfPDW626w</td>\n",
       "    </tr>\n",
       "    <tr>\n",
       "      <th>1</th>\n",
       "      <td>--9e1ONYQuAa-CB_Rrw7Tw</td>\n",
       "      <td>Delmonico Steakhouse</td>\n",
       "      <td>['Steakhouses', 'Cajun/Creole', 'Restaurants']</td>\n",
       "      <td>4.0</td>\n",
       "      <td>0</td>\n",
       "      <td>2017-01-20</td>\n",
       "      <td>0</td>\n",
       "      <td>L8lo5SKXfZRlbn1bpPiC9w</td>\n",
       "      <td>5</td>\n",
       "      <td>Went here for guys weekend. Unbelievable. Ravi...</td>\n",
       "      <td>0</td>\n",
       "      <td>nT8zgjoc-PbdBoQsFEXFLw</td>\n",
       "    </tr>\n",
       "    <tr>\n",
       "      <th>2</th>\n",
       "      <td>--9e1ONYQuAa-CB_Rrw7Tw</td>\n",
       "      <td>Delmonico Steakhouse</td>\n",
       "      <td>['Steakhouses', 'Cajun/Creole', 'Restaurants']</td>\n",
       "      <td>4.0</td>\n",
       "      <td>52</td>\n",
       "      <td>2016-09-25</td>\n",
       "      <td>30</td>\n",
       "      <td>6eUT3IwwWPP3CZkAhxqOIw</td>\n",
       "      <td>5</td>\n",
       "      <td>One word my friends: tableside!!! Yes, tablesi...</td>\n",
       "      <td>56</td>\n",
       "      <td>7RlyCglsIzhBn081inwvcg</td>\n",
       "    </tr>\n",
       "    <tr>\n",
       "      <th>3</th>\n",
       "      <td>--9e1ONYQuAa-CB_Rrw7Tw</td>\n",
       "      <td>Delmonico Steakhouse</td>\n",
       "      <td>['Steakhouses', 'Cajun/Creole', 'Restaurants']</td>\n",
       "      <td>4.0</td>\n",
       "      <td>1</td>\n",
       "      <td>2017-02-12</td>\n",
       "      <td>0</td>\n",
       "      <td>3cnTdE45VrsS0o4cVhfGog</td>\n",
       "      <td>3</td>\n",
       "      <td>Located inside my favorite hotel Venetian, Del...</td>\n",
       "      <td>1</td>\n",
       "      <td>rOIrilMC7VFwFVBeQNiKMw</td>\n",
       "    </tr>\n",
       "    <tr>\n",
       "      <th>4</th>\n",
       "      <td>--9e1ONYQuAa-CB_Rrw7Tw</td>\n",
       "      <td>Delmonico Steakhouse</td>\n",
       "      <td>['Steakhouses', 'Cajun/Creole', 'Restaurants']</td>\n",
       "      <td>4.0</td>\n",
       "      <td>0</td>\n",
       "      <td>2016-10-30</td>\n",
       "      <td>0</td>\n",
       "      <td>tYrSbjX3QgZGBZuQ3n8g6w</td>\n",
       "      <td>5</td>\n",
       "      <td>After the most incredible service, delicious m...</td>\n",
       "      <td>2</td>\n",
       "      <td>PiWlV_UC_-SXqyxQM9fAtw</td>\n",
       "    </tr>\n",
       "  </tbody>\n",
       "</table>\n",
       "</div>"
      ],
      "text/plain": [
       "              business_id                  name  \\\n",
       "0  --9e1ONYQuAa-CB_Rrw7Tw  Delmonico Steakhouse   \n",
       "1  --9e1ONYQuAa-CB_Rrw7Tw  Delmonico Steakhouse   \n",
       "2  --9e1ONYQuAa-CB_Rrw7Tw  Delmonico Steakhouse   \n",
       "3  --9e1ONYQuAa-CB_Rrw7Tw  Delmonico Steakhouse   \n",
       "4  --9e1ONYQuAa-CB_Rrw7Tw  Delmonico Steakhouse   \n",
       "\n",
       "                                       categories  avg_stars  cool  \\\n",
       "0  ['Steakhouses', 'Cajun/Creole', 'Restaurants']        4.0     1   \n",
       "1  ['Steakhouses', 'Cajun/Creole', 'Restaurants']        4.0     0   \n",
       "2  ['Steakhouses', 'Cajun/Creole', 'Restaurants']        4.0    52   \n",
       "3  ['Steakhouses', 'Cajun/Creole', 'Restaurants']        4.0     1   \n",
       "4  ['Steakhouses', 'Cajun/Creole', 'Restaurants']        4.0     0   \n",
       "\n",
       "         date  funny               review_id  stars  \\\n",
       "0  2016-05-17      0  0Qc1THNHSapDL7cv-ZzW5g      5   \n",
       "1  2017-01-20      0  L8lo5SKXfZRlbn1bpPiC9w      5   \n",
       "2  2016-09-25     30  6eUT3IwwWPP3CZkAhxqOIw      5   \n",
       "3  2017-02-12      0  3cnTdE45VrsS0o4cVhfGog      3   \n",
       "4  2016-10-30      0  tYrSbjX3QgZGBZuQ3n8g6w      5   \n",
       "\n",
       "                                                text  useful  \\\n",
       "0  What can I say.. Wowzers! Probably one of the ...       0   \n",
       "1  Went here for guys weekend. Unbelievable. Ravi...       0   \n",
       "2  One word my friends: tableside!!! Yes, tablesi...      56   \n",
       "3  Located inside my favorite hotel Venetian, Del...       1   \n",
       "4  After the most incredible service, delicious m...       2   \n",
       "\n",
       "                  user_id  \n",
       "0  4LxKRRIikhr65GfPDW626w  \n",
       "1  nT8zgjoc-PbdBoQsFEXFLw  \n",
       "2  7RlyCglsIzhBn081inwvcg  \n",
       "3  rOIrilMC7VFwFVBeQNiKMw  \n",
       "4  PiWlV_UC_-SXqyxQM9fAtw  "
      ]
     },
     "execution_count": 66,
     "metadata": {},
     "output_type": "execute_result"
    }
   ],
   "source": [
    "df.head()"
   ]
  },
  {
   "cell_type": "markdown",
   "metadata": {},
   "source": [
    "## 1. Clean data and get rating data "
   ]
  },
  {
   "cell_type": "markdown",
   "metadata": {},
   "source": [
    "#### Select relevant columns in the original dataframe"
   ]
  },
  {
   "cell_type": "code",
   "execution_count": 59,
   "metadata": {
    "collapsed": true
   },
   "outputs": [],
   "source": [
    "# Get business_id, user_id, stars for recommender\n",
    "selected_features = [u'business_id', u'user_id', u'stars']\n",
    "df_recommender = df[selected_features]"
   ]
  },
  {
   "cell_type": "code",
   "execution_count": 60,
   "metadata": {
    "collapsed": false
   },
   "outputs": [
    {
     "name": "stdout",
     "output_type": "stream",
     "text": [
      "<class 'pandas.core.frame.DataFrame'>\n",
      "RangeIndex: 325819 entries, 0 to 325818\n",
      "Data columns (total 3 columns):\n",
      "business_id    325819 non-null object\n",
      "user_id        325819 non-null object\n",
      "stars          325819 non-null int64\n",
      "dtypes: int64(1), object(2)\n",
      "memory usage: 7.5+ MB\n"
     ]
    }
   ],
   "source": [
    "df_recommender.info()"
   ]
  },
  {
   "cell_type": "markdown",
   "metadata": {},
   "source": [
    "#### There are many users that haven't given many reviews, exclude these users from the item-item similarity recommender\n",
    "\n",
    "**Q**: How do we recommend to these users anyways?\n",
    "**A**: content based / Popularity-based recommend"
   ]
  },
  {
   "cell_type": "code",
   "execution_count": 61,
   "metadata": {
    "collapsed": false
   },
   "outputs": [
    {
     "data": {
      "text/plain": [
       "business_id    0\n",
       "user_id        0\n",
       "stars          0\n",
       "dtype: int64"
      ]
     },
     "execution_count": 61,
     "metadata": {},
     "output_type": "execute_result"
    }
   ],
   "source": [
    "# To be implemented\n",
    "df_recommender.isnull().sum()"
   ]
  },
  {
   "cell_type": "markdown",
   "metadata": {},
   "source": [
    "#### Create utility matrix from records"
   ]
  },
  {
   "cell_type": "code",
   "execution_count": 67,
   "metadata": {
    "collapsed": false
   },
   "outputs": [],
   "source": [
    "df_utility = pd.pivot_table(data=df_recommender,\n",
    "                            values='stars', \n",
    "                            index='user_id', \n",
    "                            columns='business_id', \n",
    "                            fill_value=0)"
   ]
  },
  {
   "cell_type": "code",
   "execution_count": 13,
   "metadata": {
    "collapsed": false
   },
   "outputs": [
    {
     "data": {
      "text/html": [
       "<div>\n",
       "<style>\n",
       "    .dataframe thead tr:only-child th {\n",
       "        text-align: right;\n",
       "    }\n",
       "\n",
       "    .dataframe thead th {\n",
       "        text-align: left;\n",
       "    }\n",
       "\n",
       "    .dataframe tbody tr th {\n",
       "        vertical-align: top;\n",
       "    }\n",
       "</style>\n",
       "<table border=\"1\" class=\"dataframe\">\n",
       "  <thead>\n",
       "    <tr style=\"text-align: right;\">\n",
       "      <th>business_id</th>\n",
       "      <th>--9e1ONYQuAa-CB_Rrw7Tw</th>\n",
       "      <th>-3zffZUHoY8bQjGfPSoBKQ</th>\n",
       "      <th>-8R_-EkGpUhBk55K9Dd4mg</th>\n",
       "      <th>-9YyInW1wapzdNZrhQJ9dg</th>\n",
       "      <th>-AD5PiuJHgdUcAK-Vxao2A</th>\n",
       "      <th>-Bf8BQ3yMk8U2f45r2DRKw</th>\n",
       "      <th>-BmqghX1sv7sgsxOIS2yAg</th>\n",
       "      <th>-Bv-HHUs8aHzDrdWcZHn8w</th>\n",
       "      <th>-C8sSrFqaCxp51pyo-fQLQ</th>\n",
       "      <th>-CQokjildrY7UZezXCdEBw</th>\n",
       "      <th>...</th>\n",
       "      <th>zkhBU5qW_zCy0q4OEtIrsA</th>\n",
       "      <th>zmltWmTpoBt5sCU-5Kzj-Q</th>\n",
       "      <th>znWHLW1pt19HzW1VY6KfCA</th>\n",
       "      <th>zp-K5s3pGTWuuaVBWo6WZA</th>\n",
       "      <th>zpoZ6WyQUYff18-z4ZU1mA</th>\n",
       "      <th>zsQk990PubOHjr1YcLkQFw</th>\n",
       "      <th>zt9RLUIU32fZYOBh2L0NNQ</th>\n",
       "      <th>zttcrQP4MxNS5X5itzStXg</th>\n",
       "      <th>zuwba6QEBIDZT0tJZmNhdQ</th>\n",
       "      <th>zwNC-Ow4eIMan2__bS9-rg</th>\n",
       "    </tr>\n",
       "    <tr>\n",
       "      <th>user_id</th>\n",
       "      <th></th>\n",
       "      <th></th>\n",
       "      <th></th>\n",
       "      <th></th>\n",
       "      <th></th>\n",
       "      <th></th>\n",
       "      <th></th>\n",
       "      <th></th>\n",
       "      <th></th>\n",
       "      <th></th>\n",
       "      <th></th>\n",
       "      <th></th>\n",
       "      <th></th>\n",
       "      <th></th>\n",
       "      <th></th>\n",
       "      <th></th>\n",
       "      <th></th>\n",
       "      <th></th>\n",
       "      <th></th>\n",
       "      <th></th>\n",
       "      <th></th>\n",
       "    </tr>\n",
       "  </thead>\n",
       "  <tbody>\n",
       "    <tr>\n",
       "      <th>---1lKK3aKOuomHnwAkAow</th>\n",
       "      <td>0</td>\n",
       "      <td>0</td>\n",
       "      <td>0</td>\n",
       "      <td>0</td>\n",
       "      <td>0</td>\n",
       "      <td>0</td>\n",
       "      <td>0</td>\n",
       "      <td>0</td>\n",
       "      <td>0</td>\n",
       "      <td>0</td>\n",
       "      <td>...</td>\n",
       "      <td>0</td>\n",
       "      <td>0</td>\n",
       "      <td>0</td>\n",
       "      <td>0</td>\n",
       "      <td>0</td>\n",
       "      <td>0</td>\n",
       "      <td>0</td>\n",
       "      <td>0</td>\n",
       "      <td>0</td>\n",
       "      <td>0</td>\n",
       "    </tr>\n",
       "    <tr>\n",
       "      <th>---udAKDsn0yQXmzbWQNSw</th>\n",
       "      <td>0</td>\n",
       "      <td>0</td>\n",
       "      <td>0</td>\n",
       "      <td>0</td>\n",
       "      <td>0</td>\n",
       "      <td>0</td>\n",
       "      <td>0</td>\n",
       "      <td>0</td>\n",
       "      <td>0</td>\n",
       "      <td>0</td>\n",
       "      <td>...</td>\n",
       "      <td>0</td>\n",
       "      <td>0</td>\n",
       "      <td>0</td>\n",
       "      <td>0</td>\n",
       "      <td>0</td>\n",
       "      <td>0</td>\n",
       "      <td>0</td>\n",
       "      <td>0</td>\n",
       "      <td>0</td>\n",
       "      <td>0</td>\n",
       "    </tr>\n",
       "    <tr>\n",
       "      <th>--0sXNBv6IizZXuV-nl0Aw</th>\n",
       "      <td>0</td>\n",
       "      <td>0</td>\n",
       "      <td>0</td>\n",
       "      <td>0</td>\n",
       "      <td>0</td>\n",
       "      <td>0</td>\n",
       "      <td>0</td>\n",
       "      <td>0</td>\n",
       "      <td>0</td>\n",
       "      <td>0</td>\n",
       "      <td>...</td>\n",
       "      <td>0</td>\n",
       "      <td>0</td>\n",
       "      <td>0</td>\n",
       "      <td>0</td>\n",
       "      <td>0</td>\n",
       "      <td>0</td>\n",
       "      <td>0</td>\n",
       "      <td>0</td>\n",
       "      <td>0</td>\n",
       "      <td>0</td>\n",
       "    </tr>\n",
       "    <tr>\n",
       "      <th>--2bpE5vyR-2hAP7sZZ4lA</th>\n",
       "      <td>0</td>\n",
       "      <td>0</td>\n",
       "      <td>0</td>\n",
       "      <td>0</td>\n",
       "      <td>0</td>\n",
       "      <td>0</td>\n",
       "      <td>0</td>\n",
       "      <td>0</td>\n",
       "      <td>0</td>\n",
       "      <td>0</td>\n",
       "      <td>...</td>\n",
       "      <td>0</td>\n",
       "      <td>0</td>\n",
       "      <td>0</td>\n",
       "      <td>0</td>\n",
       "      <td>0</td>\n",
       "      <td>0</td>\n",
       "      <td>0</td>\n",
       "      <td>0</td>\n",
       "      <td>0</td>\n",
       "      <td>0</td>\n",
       "    </tr>\n",
       "    <tr>\n",
       "      <th>--2vR0DIsmQ6WfcSzKWigw</th>\n",
       "      <td>0</td>\n",
       "      <td>0</td>\n",
       "      <td>0</td>\n",
       "      <td>0</td>\n",
       "      <td>0</td>\n",
       "      <td>0</td>\n",
       "      <td>0</td>\n",
       "      <td>0</td>\n",
       "      <td>0</td>\n",
       "      <td>0</td>\n",
       "      <td>...</td>\n",
       "      <td>0</td>\n",
       "      <td>0</td>\n",
       "      <td>0</td>\n",
       "      <td>0</td>\n",
       "      <td>0</td>\n",
       "      <td>0</td>\n",
       "      <td>0</td>\n",
       "      <td>0</td>\n",
       "      <td>0</td>\n",
       "      <td>0</td>\n",
       "    </tr>\n",
       "  </tbody>\n",
       "</table>\n",
       "<p>5 rows × 4383 columns</p>\n",
       "</div>"
      ],
      "text/plain": [
       "business_id             --9e1ONYQuAa-CB_Rrw7Tw  -3zffZUHoY8bQjGfPSoBKQ  \\\n",
       "user_id                                                                  \n",
       "---1lKK3aKOuomHnwAkAow                       0                       0   \n",
       "---udAKDsn0yQXmzbWQNSw                       0                       0   \n",
       "--0sXNBv6IizZXuV-nl0Aw                       0                       0   \n",
       "--2bpE5vyR-2hAP7sZZ4lA                       0                       0   \n",
       "--2vR0DIsmQ6WfcSzKWigw                       0                       0   \n",
       "\n",
       "business_id             -8R_-EkGpUhBk55K9Dd4mg  -9YyInW1wapzdNZrhQJ9dg  \\\n",
       "user_id                                                                  \n",
       "---1lKK3aKOuomHnwAkAow                       0                       0   \n",
       "---udAKDsn0yQXmzbWQNSw                       0                       0   \n",
       "--0sXNBv6IizZXuV-nl0Aw                       0                       0   \n",
       "--2bpE5vyR-2hAP7sZZ4lA                       0                       0   \n",
       "--2vR0DIsmQ6WfcSzKWigw                       0                       0   \n",
       "\n",
       "business_id             -AD5PiuJHgdUcAK-Vxao2A  -Bf8BQ3yMk8U2f45r2DRKw  \\\n",
       "user_id                                                                  \n",
       "---1lKK3aKOuomHnwAkAow                       0                       0   \n",
       "---udAKDsn0yQXmzbWQNSw                       0                       0   \n",
       "--0sXNBv6IizZXuV-nl0Aw                       0                       0   \n",
       "--2bpE5vyR-2hAP7sZZ4lA                       0                       0   \n",
       "--2vR0DIsmQ6WfcSzKWigw                       0                       0   \n",
       "\n",
       "business_id             -BmqghX1sv7sgsxOIS2yAg  -Bv-HHUs8aHzDrdWcZHn8w  \\\n",
       "user_id                                                                  \n",
       "---1lKK3aKOuomHnwAkAow                       0                       0   \n",
       "---udAKDsn0yQXmzbWQNSw                       0                       0   \n",
       "--0sXNBv6IizZXuV-nl0Aw                       0                       0   \n",
       "--2bpE5vyR-2hAP7sZZ4lA                       0                       0   \n",
       "--2vR0DIsmQ6WfcSzKWigw                       0                       0   \n",
       "\n",
       "business_id             -C8sSrFqaCxp51pyo-fQLQ  -CQokjildrY7UZezXCdEBw  \\\n",
       "user_id                                                                  \n",
       "---1lKK3aKOuomHnwAkAow                       0                       0   \n",
       "---udAKDsn0yQXmzbWQNSw                       0                       0   \n",
       "--0sXNBv6IizZXuV-nl0Aw                       0                       0   \n",
       "--2bpE5vyR-2hAP7sZZ4lA                       0                       0   \n",
       "--2vR0DIsmQ6WfcSzKWigw                       0                       0   \n",
       "\n",
       "business_id                      ...            zkhBU5qW_zCy0q4OEtIrsA  \\\n",
       "user_id                          ...                                     \n",
       "---1lKK3aKOuomHnwAkAow           ...                                 0   \n",
       "---udAKDsn0yQXmzbWQNSw           ...                                 0   \n",
       "--0sXNBv6IizZXuV-nl0Aw           ...                                 0   \n",
       "--2bpE5vyR-2hAP7sZZ4lA           ...                                 0   \n",
       "--2vR0DIsmQ6WfcSzKWigw           ...                                 0   \n",
       "\n",
       "business_id             zmltWmTpoBt5sCU-5Kzj-Q  znWHLW1pt19HzW1VY6KfCA  \\\n",
       "user_id                                                                  \n",
       "---1lKK3aKOuomHnwAkAow                       0                       0   \n",
       "---udAKDsn0yQXmzbWQNSw                       0                       0   \n",
       "--0sXNBv6IizZXuV-nl0Aw                       0                       0   \n",
       "--2bpE5vyR-2hAP7sZZ4lA                       0                       0   \n",
       "--2vR0DIsmQ6WfcSzKWigw                       0                       0   \n",
       "\n",
       "business_id             zp-K5s3pGTWuuaVBWo6WZA  zpoZ6WyQUYff18-z4ZU1mA  \\\n",
       "user_id                                                                  \n",
       "---1lKK3aKOuomHnwAkAow                       0                       0   \n",
       "---udAKDsn0yQXmzbWQNSw                       0                       0   \n",
       "--0sXNBv6IizZXuV-nl0Aw                       0                       0   \n",
       "--2bpE5vyR-2hAP7sZZ4lA                       0                       0   \n",
       "--2vR0DIsmQ6WfcSzKWigw                       0                       0   \n",
       "\n",
       "business_id             zsQk990PubOHjr1YcLkQFw  zt9RLUIU32fZYOBh2L0NNQ  \\\n",
       "user_id                                                                  \n",
       "---1lKK3aKOuomHnwAkAow                       0                       0   \n",
       "---udAKDsn0yQXmzbWQNSw                       0                       0   \n",
       "--0sXNBv6IizZXuV-nl0Aw                       0                       0   \n",
       "--2bpE5vyR-2hAP7sZZ4lA                       0                       0   \n",
       "--2vR0DIsmQ6WfcSzKWigw                       0                       0   \n",
       "\n",
       "business_id             zttcrQP4MxNS5X5itzStXg  zuwba6QEBIDZT0tJZmNhdQ  \\\n",
       "user_id                                                                  \n",
       "---1lKK3aKOuomHnwAkAow                       0                       0   \n",
       "---udAKDsn0yQXmzbWQNSw                       0                       0   \n",
       "--0sXNBv6IizZXuV-nl0Aw                       0                       0   \n",
       "--2bpE5vyR-2hAP7sZZ4lA                       0                       0   \n",
       "--2vR0DIsmQ6WfcSzKWigw                       0                       0   \n",
       "\n",
       "business_id             zwNC-Ow4eIMan2__bS9-rg  \n",
       "user_id                                         \n",
       "---1lKK3aKOuomHnwAkAow                       0  \n",
       "---udAKDsn0yQXmzbWQNSw                       0  \n",
       "--0sXNBv6IizZXuV-nl0Aw                       0  \n",
       "--2bpE5vyR-2hAP7sZZ4lA                       0  \n",
       "--2vR0DIsmQ6WfcSzKWigw                       0  \n",
       "\n",
       "[5 rows x 4383 columns]"
      ]
     },
     "execution_count": 13,
     "metadata": {},
     "output_type": "execute_result"
    }
   ],
   "source": [
    "df_utility.head()"
   ]
  },
  {
   "cell_type": "code",
   "execution_count": 19,
   "metadata": {
    "collapsed": false
   },
   "outputs": [
    {
     "data": {
      "text/plain": [
       "(155937, 4383)"
      ]
     },
     "execution_count": 19,
     "metadata": {},
     "output_type": "execute_result"
    }
   ],
   "source": [
    "df_utility.shape"
   ]
  },
  {
   "cell_type": "code",
   "execution_count": 17,
   "metadata": {
    "collapsed": false
   },
   "outputs": [
    {
     "data": {
      "text/plain": [
       "(155937, 4383)"
      ]
     },
     "execution_count": 17,
     "metadata": {},
     "output_type": "execute_result"
    }
   ],
   "source": [
    "# There are many users that haven't given many reviews, exclude these users from the item-item similarity recommender\n",
    "df_utility.loc[~(df_utility==0).all(axis=1)]\n",
    "df_utility.shape"
   ]
  },
  {
   "cell_type": "markdown",
   "metadata": {},
   "source": [
    "## 2. Item-Item similarity recommender"
   ]
  },
  {
   "cell_type": "markdown",
   "metadata": {},
   "source": [
    "### Let's reuse the ItemItemRecommender class derived from previous exercise\n",
    "\n",
    "Hint: we need to make modification to accommodate the dense numpy array"
   ]
  },
  {
   "cell_type": "code",
   "execution_count": 36,
   "metadata": {
    "collapsed": true
   },
   "outputs": [],
   "source": [
    "import scipy\n",
    "from scipy.sparse import csr_matrix\n",
    "utility_mat = scipy.sparse.csr_matrix(df_utility.values)"
   ]
  },
  {
   "cell_type": "code",
   "execution_count": 37,
   "metadata": {
    "collapsed": true
   },
   "outputs": [],
   "source": [
    "from sklearn.metrics.pairwise import cosine_similarity\n",
    "# Item-Item Similarity Matrix\n",
    "item_sim_mat = cosine_similarity(utility_mat.T)"
   ]
  },
  {
   "cell_type": "code",
   "execution_count": 38,
   "metadata": {
    "collapsed": true
   },
   "outputs": [],
   "source": [
    "least_to_most_sim_indexes = np.argsort(item_sim_mat, axis=1)\n",
    "\n",
    "# Neighborhoods\n",
    "neighborhood_size = 75\n",
    "neighborhoods = least_to_most_sim_indexes[:, -neighborhood_size:]"
   ]
  },
  {
   "cell_type": "code",
   "execution_count": 39,
   "metadata": {
    "collapsed": true
   },
   "outputs": [],
   "source": [
    "# Let's pick a lucky user\n",
    "user_id = 111"
   ]
  },
  {
   "cell_type": "code",
   "execution_count": 41,
   "metadata": {
    "collapsed": false
   },
   "outputs": [
    {
     "name": "stderr",
     "output_type": "stream",
     "text": [
      "/Users/Danielle/anaconda/lib/python3.6/site-packages/ipykernel_launcher.py:13: RuntimeWarning: invalid value encountered in true_divide\n",
      "  del sys.path[0]\n"
     ]
    },
    {
     "name": "stdout",
     "output_type": "stream",
     "text": [
      "[ 0.  0.  0. ...,  0.  0.  0.]\n",
      "Execution time: 16.450273 seconds\n"
     ]
    }
   ],
   "source": [
    "from time import time\n",
    "n_users = utility_mat.shape[0]\n",
    "n_items = utility_mat.shape[1]\n",
    "\n",
    "start_time = time()\n",
    "items_rated_by_this_user = utility_mat[user_id].nonzero()[1]\n",
    "# Just initializing so we have somewhere to put rating preds\n",
    "out = np.zeros(n_items)\n",
    "for item_to_rate in range(n_items):\n",
    "    relevant_items = np.intersect1d(neighborhoods[item_to_rate],\n",
    "                                    items_rated_by_this_user,\n",
    "                                    assume_unique=True)  # assume_unique speeds up intersection op\n",
    "    out[item_to_rate] = utility_mat[user_id, relevant_items] * \\\n",
    "        item_sim_mat[item_to_rate, relevant_items] / \\\n",
    "        item_sim_mat[item_to_rate, relevant_items].sum()\n",
    "\n",
    "\n",
    "pred_ratings = np.nan_to_num(out)\n",
    "print (pred_ratings)\n",
    "print (\"Execution time: %f seconds\" % (time()-start_time))"
   ]
  },
  {
   "cell_type": "code",
   "execution_count": 42,
   "metadata": {
    "collapsed": false
   },
   "outputs": [
    {
     "data": {
      "text/plain": [
       "[800, 2218, 2308, 1298, 2566, 3959, 219, 3583, 72, 2854]"
      ]
     },
     "execution_count": 42,
     "metadata": {},
     "output_type": "execute_result"
    }
   ],
   "source": [
    "# Recommend n restaurants\n",
    "n = 10\n",
    "\n",
    "# Get item indexes sorted by predicted rating\n",
    "item_index_sorted_by_pred_rating = list(np.argsort(pred_ratings))\n",
    "\n",
    "# Find items that have been rated by user\n",
    "items_rated_by_this_user = utility_mat[user_id].nonzero()[1]\n",
    "\n",
    "# We want to exclude the items that have been rated by user\n",
    "unrated_items_by_pred_rating = [item for item in item_index_sorted_by_pred_rating\n",
    "                                if item not in items_rated_by_this_user]\n",
    "\n",
    "unrated_items_by_pred_rating[-n:]"
   ]
  },
  {
   "cell_type": "code",
   "execution_count": 57,
   "metadata": {
    "collapsed": false
   },
   "outputs": [
    {
     "data": {
      "text/plain": [
       "['AtD6B83S4Mbmq0t7iDnUVA',\n",
       " 'VP10-f6y0I94fUh1xY2Ruw',\n",
       " 'WasMhp4Me2pjbWMoKIWDpw',\n",
       " 'I22wQGTkLFGn6jTOhwoecQ',\n",
       " 'ZyOLevFrV7Vxi0OOS3lf-w',\n",
       " 'taaYWCkUulZL56qZmS1VzQ',\n",
       " '2IvrdAb6zdxr3ZqplqJHbg',\n",
       " 'nt2-Zk4FmGY2SYSDBI0gHw',\n",
       " '06MlxbtB4ZYeg_ri02RIAQ',\n",
       " 'dYpnpMZowfGsCisHhABPZg']"
      ]
     },
     "execution_count": 57,
     "metadata": {},
     "output_type": "execute_result"
    }
   ],
   "source": [
    "from numpy import array\n",
    "index = []\n",
    "for item in unrated_items_by_pred_rating[-n:]:\n",
    "    index.append(list(df_utility)[item])\n",
    "index"
   ]
  },
  {
   "cell_type": "code",
   "execution_count": 64,
   "metadata": {
    "collapsed": false
   },
   "outputs": [
    {
     "data": {
      "text/plain": [
       "['Veggie House',\n",
       " 'Tropical Smoothie Cafe',\n",
       " 'Tokyo Grill Express',\n",
       " \"Pepe's Tacos\",\n",
       " 'Fork & Burger',\n",
       " 'Jack In The Box',\n",
       " 'Jose Cuervo Tequileria',\n",
       " 'Durango Taco Shop',\n",
       " 'El Pollo Loco',\n",
       " \"Samurai Sam's\"]"
      ]
     },
     "execution_count": 64,
     "metadata": {},
     "output_type": "execute_result"
    }
   ],
   "source": [
    "business_name = []\n",
    "for x in index:\n",
    "    business_name.append(df.loc[df['business_id']==x,'name'].iloc[0])\n",
    "business_name"
   ]
  },
  {
   "cell_type": "markdown",
   "metadata": {},
   "source": [
    "## 3. Matrix Factorization recommender\n",
    "\n",
    "Take a look at Graphlab Create examples"
   ]
  },
  {
   "cell_type": "markdown",
   "metadata": {},
   "source": [
    "## 1) Load your data in Dato's SFrame type."
   ]
  },
  {
   "cell_type": "code",
   "execution_count": 3,
   "metadata": {
    "collapsed": true
   },
   "outputs": [],
   "source": [
    "import numpy as np\n",
    "import graphlab;\n",
    "import pandas as pd\n",
    "import matplotlib.pyplot as plt"
   ]
  },
  {
   "cell_type": "code",
   "execution_count": 71,
   "metadata": {
    "collapsed": false
   },
   "outputs": [],
   "source": [
    "sf = graphlab.SFrame(df_recommender[['business_id', 'user_id', 'stars']])"
   ]
  },
  {
   "cell_type": "markdown",
   "metadata": {},
   "source": [
    "## 2) Create a matrix factorization model."
   ]
  },
  {
   "cell_type": "code",
   "execution_count": 72,
   "metadata": {
    "collapsed": false
   },
   "outputs": [
    {
     "data": {
      "text/html": [
       "<pre>Recsys training: model = factorization_recommender</pre>"
      ],
      "text/plain": [
       "Recsys training: model = factorization_recommender"
      ]
     },
     "metadata": {},
     "output_type": "display_data"
    },
    {
     "data": {
      "text/html": [
       "<pre>Preparing data set.</pre>"
      ],
      "text/plain": [
       "Preparing data set."
      ]
     },
     "metadata": {},
     "output_type": "display_data"
    },
    {
     "data": {
      "text/html": [
       "<pre>    Data has 325819 observations with 155937 users and 4383 items.</pre>"
      ],
      "text/plain": [
       "    Data has 325819 observations with 155937 users and 4383 items."
      ]
     },
     "metadata": {},
     "output_type": "display_data"
    },
    {
     "data": {
      "text/html": [
       "<pre>    Data prepared in: 0.615255s</pre>"
      ],
      "text/plain": [
       "    Data prepared in: 0.615255s"
      ]
     },
     "metadata": {},
     "output_type": "display_data"
    },
    {
     "data": {
      "text/html": [
       "<pre>Training factorization_recommender for recommendations.</pre>"
      ],
      "text/plain": [
       "Training factorization_recommender for recommendations."
      ]
     },
     "metadata": {},
     "output_type": "display_data"
    },
    {
     "data": {
      "text/html": [
       "<pre>+------------------------------+--------------------------------------------------+----------+</pre>"
      ],
      "text/plain": [
       "+------------------------------+--------------------------------------------------+----------+"
      ]
     },
     "metadata": {},
     "output_type": "display_data"
    },
    {
     "data": {
      "text/html": [
       "<pre>| Parameter                    | Description                                      | Value    |</pre>"
      ],
      "text/plain": [
       "| Parameter                    | Description                                      | Value    |"
      ]
     },
     "metadata": {},
     "output_type": "display_data"
    },
    {
     "data": {
      "text/html": [
       "<pre>+------------------------------+--------------------------------------------------+----------+</pre>"
      ],
      "text/plain": [
       "+------------------------------+--------------------------------------------------+----------+"
      ]
     },
     "metadata": {},
     "output_type": "display_data"
    },
    {
     "data": {
      "text/html": [
       "<pre>| num_factors                  | Factor Dimension                                 | 8        |</pre>"
      ],
      "text/plain": [
       "| num_factors                  | Factor Dimension                                 | 8        |"
      ]
     },
     "metadata": {},
     "output_type": "display_data"
    },
    {
     "data": {
      "text/html": [
       "<pre>| regularization               | L2 Regularization on Factors                     | 1e-08    |</pre>"
      ],
      "text/plain": [
       "| regularization               | L2 Regularization on Factors                     | 1e-08    |"
      ]
     },
     "metadata": {},
     "output_type": "display_data"
    },
    {
     "data": {
      "text/html": [
       "<pre>| max_iterations               | Maximum Number of Iterations                     | 50       |</pre>"
      ],
      "text/plain": [
       "| max_iterations               | Maximum Number of Iterations                     | 50       |"
      ]
     },
     "metadata": {},
     "output_type": "display_data"
    },
    {
     "data": {
      "text/html": [
       "<pre>| solver                       | Solver used for training                         | als      |</pre>"
      ],
      "text/plain": [
       "| solver                       | Solver used for training                         | als      |"
      ]
     },
     "metadata": {},
     "output_type": "display_data"
    },
    {
     "data": {
      "text/html": [
       "<pre>+------------------------------+--------------------------------------------------+----------+</pre>"
      ],
      "text/plain": [
       "+------------------------------+--------------------------------------------------+----------+"
      ]
     },
     "metadata": {},
     "output_type": "display_data"
    },
    {
     "data": {
      "text/html": [
       "<pre>+---------+--------------+------------------------+</pre>"
      ],
      "text/plain": [
       "+---------+--------------+------------------------+"
      ]
     },
     "metadata": {},
     "output_type": "display_data"
    },
    {
     "data": {
      "text/html": [
       "<pre>| Iter.   | Elapsed time | RMSE                   |</pre>"
      ],
      "text/plain": [
       "| Iter.   | Elapsed time | RMSE                   |"
      ]
     },
     "metadata": {},
     "output_type": "display_data"
    },
    {
     "data": {
      "text/html": [
       "<pre>+---------+--------------+------------------------+</pre>"
      ],
      "text/plain": [
       "+---------+--------------+------------------------+"
      ]
     },
     "metadata": {},
     "output_type": "display_data"
    },
    {
     "data": {
      "text/html": [
       "<pre>| Initial | 93us         | NA                     |</pre>"
      ],
      "text/plain": [
       "| Initial | 93us         | NA                     |"
      ]
     },
     "metadata": {},
     "output_type": "display_data"
    },
    {
     "data": {
      "text/html": [
       "<pre>+---------+--------------+------------------------+</pre>"
      ],
      "text/plain": [
       "+---------+--------------+------------------------+"
      ]
     },
     "metadata": {},
     "output_type": "display_data"
    },
    {
     "data": {
      "text/html": [
       "<pre>| 0       | 388.242ms    | 0.804795               |</pre>"
      ],
      "text/plain": [
       "| 0       | 388.242ms    | 0.804795               |"
      ]
     },
     "metadata": {},
     "output_type": "display_data"
    },
    {
     "data": {
      "text/html": [
       "<pre>| 1       | 778.064ms    | 0.337609               |</pre>"
      ],
      "text/plain": [
       "| 1       | 778.064ms    | 0.337609               |"
      ]
     },
     "metadata": {},
     "output_type": "display_data"
    },
    {
     "data": {
      "text/html": [
       "<pre>| 2       | 1.13s        | 0.318621               |</pre>"
      ],
      "text/plain": [
       "| 2       | 1.13s        | 0.318621               |"
      ]
     },
     "metadata": {},
     "output_type": "display_data"
    },
    {
     "data": {
      "text/html": [
       "<pre>| 3       | 1.55s        | 0.306114               |</pre>"
      ],
      "text/plain": [
       "| 3       | 1.55s        | 0.306114               |"
      ]
     },
     "metadata": {},
     "output_type": "display_data"
    },
    {
     "data": {
      "text/html": [
       "<pre>| 4       | 1.86s        | 0.296782               |</pre>"
      ],
      "text/plain": [
       "| 4       | 1.86s        | 0.296782               |"
      ]
     },
     "metadata": {},
     "output_type": "display_data"
    },
    {
     "data": {
      "text/html": [
       "<pre>| 5       | 2.17s        | 0.289344               |</pre>"
      ],
      "text/plain": [
       "| 5       | 2.17s        | 0.289344               |"
      ]
     },
     "metadata": {},
     "output_type": "display_data"
    },
    {
     "data": {
      "text/html": [
       "<pre>| 6       | 2.50s        | 0.283135               |</pre>"
      ],
      "text/plain": [
       "| 6       | 2.50s        | 0.283135               |"
      ]
     },
     "metadata": {},
     "output_type": "display_data"
    },
    {
     "data": {
      "text/html": [
       "<pre>| 7       | 2.80s        | 0.277819               |</pre>"
      ],
      "text/plain": [
       "| 7       | 2.80s        | 0.277819               |"
      ]
     },
     "metadata": {},
     "output_type": "display_data"
    },
    {
     "data": {
      "text/html": [
       "<pre>| 8       | 3.08s        | 0.273201               |</pre>"
      ],
      "text/plain": [
       "| 8       | 3.08s        | 0.273201               |"
      ]
     },
     "metadata": {},
     "output_type": "display_data"
    },
    {
     "data": {
      "text/html": [
       "<pre>| 9       | 3.37s        | 0.269124               |</pre>"
      ],
      "text/plain": [
       "| 9       | 3.37s        | 0.269124               |"
      ]
     },
     "metadata": {},
     "output_type": "display_data"
    },
    {
     "data": {
      "text/html": [
       "<pre>| 10      | 3.67s        | 0.26547                |</pre>"
      ],
      "text/plain": [
       "| 10      | 3.67s        | 0.26547                |"
      ]
     },
     "metadata": {},
     "output_type": "display_data"
    },
    {
     "data": {
      "text/html": [
       "<pre>| 11      | 3.98s        | 0.262168               |</pre>"
      ],
      "text/plain": [
       "| 11      | 3.98s        | 0.262168               |"
      ]
     },
     "metadata": {},
     "output_type": "display_data"
    },
    {
     "data": {
      "text/html": [
       "<pre>| 12      | 4.28s        | 0.259137               |</pre>"
      ],
      "text/plain": [
       "| 12      | 4.28s        | 0.259137               |"
      ]
     },
     "metadata": {},
     "output_type": "display_data"
    },
    {
     "data": {
      "text/html": [
       "<pre>| 13      | 4.58s        | 0.256371               |</pre>"
      ],
      "text/plain": [
       "| 13      | 4.58s        | 0.256371               |"
      ]
     },
     "metadata": {},
     "output_type": "display_data"
    },
    {
     "data": {
      "text/html": [
       "<pre>| 14      | 4.97s        | 0.253823               |</pre>"
      ],
      "text/plain": [
       "| 14      | 4.97s        | 0.253823               |"
      ]
     },
     "metadata": {},
     "output_type": "display_data"
    },
    {
     "data": {
      "text/html": [
       "<pre>| 15      | 5.39s        | 0.251494               |</pre>"
      ],
      "text/plain": [
       "| 15      | 5.39s        | 0.251494               |"
      ]
     },
     "metadata": {},
     "output_type": "display_data"
    },
    {
     "data": {
      "text/html": [
       "<pre>| 16      | 5.76s        | 0.249375               |</pre>"
      ],
      "text/plain": [
       "| 16      | 5.76s        | 0.249375               |"
      ]
     },
     "metadata": {},
     "output_type": "display_data"
    },
    {
     "data": {
      "text/html": [
       "<pre>| 17      | 6.14s        | 0.24742                |</pre>"
      ],
      "text/plain": [
       "| 17      | 6.14s        | 0.24742                |"
      ]
     },
     "metadata": {},
     "output_type": "display_data"
    },
    {
     "data": {
      "text/html": [
       "<pre>| 18      | 6.49s        | 0.245608               |</pre>"
      ],
      "text/plain": [
       "| 18      | 6.49s        | 0.245608               |"
      ]
     },
     "metadata": {},
     "output_type": "display_data"
    },
    {
     "data": {
      "text/html": [
       "<pre>| 19      | 6.84s        | 0.243919               |</pre>"
      ],
      "text/plain": [
       "| 19      | 6.84s        | 0.243919               |"
      ]
     },
     "metadata": {},
     "output_type": "display_data"
    },
    {
     "data": {
      "text/html": [
       "<pre>| 20      | 7.17s        | 0.242334               |</pre>"
      ],
      "text/plain": [
       "| 20      | 7.17s        | 0.242334               |"
      ]
     },
     "metadata": {},
     "output_type": "display_data"
    },
    {
     "data": {
      "text/html": [
       "<pre>| 21      | 7.47s        | 0.240836               |</pre>"
      ],
      "text/plain": [
       "| 21      | 7.47s        | 0.240836               |"
      ]
     },
     "metadata": {},
     "output_type": "display_data"
    },
    {
     "data": {
      "text/html": [
       "<pre>| 22      | 7.80s        | 0.239416               |</pre>"
      ],
      "text/plain": [
       "| 22      | 7.80s        | 0.239416               |"
      ]
     },
     "metadata": {},
     "output_type": "display_data"
    },
    {
     "data": {
      "text/html": [
       "<pre>| 23      | 8.09s        | 0.238072               |</pre>"
      ],
      "text/plain": [
       "| 23      | 8.09s        | 0.238072               |"
      ]
     },
     "metadata": {},
     "output_type": "display_data"
    },
    {
     "data": {
      "text/html": [
       "<pre>| 24      | 8.53s        | 0.236793               |</pre>"
      ],
      "text/plain": [
       "| 24      | 8.53s        | 0.236793               |"
      ]
     },
     "metadata": {},
     "output_type": "display_data"
    },
    {
     "data": {
      "text/html": [
       "<pre>| 25      | 8.84s        | 0.235576               |</pre>"
      ],
      "text/plain": [
       "| 25      | 8.84s        | 0.235576               |"
      ]
     },
     "metadata": {},
     "output_type": "display_data"
    },
    {
     "data": {
      "text/html": [
       "<pre>| 26      | 9.13s        | 0.23441                |</pre>"
      ],
      "text/plain": [
       "| 26      | 9.13s        | 0.23441                |"
      ]
     },
     "metadata": {},
     "output_type": "display_data"
    },
    {
     "data": {
      "text/html": [
       "<pre>| 27      | 9.49s        | 0.233292               |</pre>"
      ],
      "text/plain": [
       "| 27      | 9.49s        | 0.233292               |"
      ]
     },
     "metadata": {},
     "output_type": "display_data"
    },
    {
     "data": {
      "text/html": [
       "<pre>| 28      | 9.78s        | 0.232218               |</pre>"
      ],
      "text/plain": [
       "| 28      | 9.78s        | 0.232218               |"
      ]
     },
     "metadata": {},
     "output_type": "display_data"
    },
    {
     "data": {
      "text/html": [
       "<pre>| 29      | 10.07s       | 0.231188               |</pre>"
      ],
      "text/plain": [
       "| 29      | 10.07s       | 0.231188               |"
      ]
     },
     "metadata": {},
     "output_type": "display_data"
    },
    {
     "data": {
      "text/html": [
       "<pre>| 30      | 10.42s       | 0.230198               |</pre>"
      ],
      "text/plain": [
       "| 30      | 10.42s       | 0.230198               |"
      ]
     },
     "metadata": {},
     "output_type": "display_data"
    },
    {
     "data": {
      "text/html": [
       "<pre>| 31      | 10.71s       | 0.229244               |</pre>"
      ],
      "text/plain": [
       "| 31      | 10.71s       | 0.229244               |"
      ]
     },
     "metadata": {},
     "output_type": "display_data"
    },
    {
     "data": {
      "text/html": [
       "<pre>| 32      | 11.04s       | 0.228322               |</pre>"
      ],
      "text/plain": [
       "| 32      | 11.04s       | 0.228322               |"
      ]
     },
     "metadata": {},
     "output_type": "display_data"
    },
    {
     "data": {
      "text/html": [
       "<pre>| 33      | 11.33s       | 0.227426               |</pre>"
      ],
      "text/plain": [
       "| 33      | 11.33s       | 0.227426               |"
      ]
     },
     "metadata": {},
     "output_type": "display_data"
    },
    {
     "data": {
      "text/html": [
       "<pre>| 34      | 11.62s       | 0.22656                |</pre>"
      ],
      "text/plain": [
       "| 34      | 11.62s       | 0.22656                |"
      ]
     },
     "metadata": {},
     "output_type": "display_data"
    },
    {
     "data": {
      "text/html": [
       "<pre>| 35      | 12.03s       | 0.225722               |</pre>"
      ],
      "text/plain": [
       "| 35      | 12.03s       | 0.225722               |"
      ]
     },
     "metadata": {},
     "output_type": "display_data"
    },
    {
     "data": {
      "text/html": [
       "<pre>| 36      | 12.57s       | 0.224908               |</pre>"
      ],
      "text/plain": [
       "| 36      | 12.57s       | 0.224908               |"
      ]
     },
     "metadata": {},
     "output_type": "display_data"
    },
    {
     "data": {
      "text/html": [
       "<pre>| 37      | 12.91s       | 0.224119               |</pre>"
      ],
      "text/plain": [
       "| 37      | 12.91s       | 0.224119               |"
      ]
     },
     "metadata": {},
     "output_type": "display_data"
    },
    {
     "data": {
      "text/html": [
       "<pre>| 38      | 13.22s       | 0.223352               |</pre>"
      ],
      "text/plain": [
       "| 38      | 13.22s       | 0.223352               |"
      ]
     },
     "metadata": {},
     "output_type": "display_data"
    },
    {
     "data": {
      "text/html": [
       "<pre>| 39      | 13.63s       | 0.22261                |</pre>"
      ],
      "text/plain": [
       "| 39      | 13.63s       | 0.22261                |"
      ]
     },
     "metadata": {},
     "output_type": "display_data"
    },
    {
     "data": {
      "text/html": [
       "<pre>| 40      | 13.92s       | 0.221892               |</pre>"
      ],
      "text/plain": [
       "| 40      | 13.92s       | 0.221892               |"
      ]
     },
     "metadata": {},
     "output_type": "display_data"
    },
    {
     "data": {
      "text/html": [
       "<pre>| 41      | 14.34s       | 0.221198               |</pre>"
      ],
      "text/plain": [
       "| 41      | 14.34s       | 0.221198               |"
      ]
     },
     "metadata": {},
     "output_type": "display_data"
    },
    {
     "data": {
      "text/html": [
       "<pre>| 42      | 14.65s       | 0.220526               |</pre>"
      ],
      "text/plain": [
       "| 42      | 14.65s       | 0.220526               |"
      ]
     },
     "metadata": {},
     "output_type": "display_data"
    },
    {
     "data": {
      "text/html": [
       "<pre>| 43      | 14.93s       | 0.219874               |</pre>"
      ],
      "text/plain": [
       "| 43      | 14.93s       | 0.219874               |"
      ]
     },
     "metadata": {},
     "output_type": "display_data"
    },
    {
     "data": {
      "text/html": [
       "<pre>| 44      | 15.35s       | 0.219243               |</pre>"
      ],
      "text/plain": [
       "| 44      | 15.35s       | 0.219243               |"
      ]
     },
     "metadata": {},
     "output_type": "display_data"
    },
    {
     "data": {
      "text/html": [
       "<pre>| 45      | 15.65s       | 0.21863                |</pre>"
      ],
      "text/plain": [
       "| 45      | 15.65s       | 0.21863                |"
      ]
     },
     "metadata": {},
     "output_type": "display_data"
    },
    {
     "data": {
      "text/html": [
       "<pre>| 46      | 15.98s       | 0.218035               |</pre>"
      ],
      "text/plain": [
       "| 46      | 15.98s       | 0.218035               |"
      ]
     },
     "metadata": {},
     "output_type": "display_data"
    },
    {
     "data": {
      "text/html": [
       "<pre>| 47      | 16.29s       | 0.217459               |</pre>"
      ],
      "text/plain": [
       "| 47      | 16.29s       | 0.217459               |"
      ]
     },
     "metadata": {},
     "output_type": "display_data"
    },
    {
     "data": {
      "text/html": [
       "<pre>| 48      | 16.61s       | 0.2169                 |</pre>"
      ],
      "text/plain": [
       "| 48      | 16.61s       | 0.2169                 |"
      ]
     },
     "metadata": {},
     "output_type": "display_data"
    },
    {
     "data": {
      "text/html": [
       "<pre>| 49      | 16.93s       | 0.21636                |</pre>"
      ],
      "text/plain": [
       "| 49      | 16.93s       | 0.21636                |"
      ]
     },
     "metadata": {},
     "output_type": "display_data"
    },
    {
     "data": {
      "text/html": [
       "<pre>| FINAL   | 16.93s       | 0.21636                |</pre>"
      ],
      "text/plain": [
       "| FINAL   | 16.93s       | 0.21636                |"
      ]
     },
     "metadata": {},
     "output_type": "display_data"
    },
    {
     "data": {
      "text/html": [
       "<pre>+---------+--------------+------------------------+</pre>"
      ],
      "text/plain": [
       "+---------+--------------+------------------------+"
      ]
     },
     "metadata": {},
     "output_type": "display_data"
    },
    {
     "data": {
      "text/html": [
       "<pre>Optimization Complete: Iteration limit reached.</pre>"
      ],
      "text/plain": [
       "Optimization Complete: Iteration limit reached."
      ]
     },
     "metadata": {},
     "output_type": "display_data"
    }
   ],
   "source": [
    "rec = graphlab.recommender.factorization_recommender.create(\n",
    "            sf,\n",
    "            user_id='user_id',\n",
    "            item_id='business_id',\n",
    "            target='stars',\n",
    "            solver='als',\n",
    "            side_data_factorization=False)"
   ]
  },
  {
   "cell_type": "markdown",
   "metadata": {},
   "source": [
    "## 3) Call the `predict` method on your input data to get the predicted rating for user 1st of business 100th."
   ]
  },
  {
   "cell_type": "code",
   "execution_count": 80,
   "metadata": {
    "collapsed": false
   },
   "outputs": [
    {
     "data": {
      "text/plain": [
       "'--9e1ONYQuAa-CB_Rrw7Tw'"
      ]
     },
     "execution_count": 80,
     "metadata": {},
     "output_type": "execute_result"
    }
   ],
   "source": [
    "sf[99]['business_id']"
   ]
  },
  {
   "cell_type": "code",
   "execution_count": 82,
   "metadata": {
    "collapsed": false
   },
   "outputs": [
    {
     "data": {
      "text/plain": [
       "'4LxKRRIikhr65GfPDW626w'"
      ]
     },
     "execution_count": 82,
     "metadata": {},
     "output_type": "execute_result"
    }
   ],
   "source": [
    "sf[0]['user_id']"
   ]
  },
  {
   "cell_type": "code",
   "execution_count": 83,
   "metadata": {
    "collapsed": false
   },
   "outputs": [],
   "source": [
    "one_datapoint_sf = graphlab.SFrame({'user_id': [sf[0]['user_id']], 'business_id': [sf[99]['business_id']]})"
   ]
  },
  {
   "cell_type": "code",
   "execution_count": 84,
   "metadata": {
    "collapsed": false
   },
   "outputs": [
    {
     "data": {
      "text/html": [
       "<div style=\"max-height:1000px;max-width:1500px;overflow:auto;\"><table frame=\"box\" rules=\"cols\">\n",
       "    <tr>\n",
       "        <th style=\"padding-left: 1em; padding-right: 1em; text-align: center\">business_id</th>\n",
       "        <th style=\"padding-left: 1em; padding-right: 1em; text-align: center\">user_id</th>\n",
       "    </tr>\n",
       "    <tr>\n",
       "        <td style=\"padding-left: 1em; padding-right: 1em; text-align: center; vertical-align: top\">--9e1ONYQuAa-CB_Rrw7Tw</td>\n",
       "        <td style=\"padding-left: 1em; padding-right: 1em; text-align: center; vertical-align: top\">4LxKRRIikhr65GfPDW626w</td>\n",
       "    </tr>\n",
       "</table>\n",
       "[1 rows x 2 columns]<br/>\n",
       "</div>"
      ],
      "text/plain": [
       "Columns:\n",
       "\tbusiness_id\tstr\n",
       "\tuser_id\tstr\n",
       "\n",
       "Rows: 1\n",
       "\n",
       "Data:\n",
       "+------------------------+------------------------+\n",
       "|      business_id       |        user_id         |\n",
       "+------------------------+------------------------+\n",
       "| --9e1ONYQuAa-CB_Rrw7Tw | 4LxKRRIikhr65GfPDW626w |\n",
       "+------------------------+------------------------+\n",
       "[1 rows x 2 columns]"
      ]
     },
     "execution_count": 84,
     "metadata": {},
     "output_type": "execute_result"
    }
   ],
   "source": [
    "one_datapoint_sf"
   ]
  },
  {
   "cell_type": "code",
   "execution_count": 85,
   "metadata": {
    "collapsed": false
   },
   "outputs": [
    {
     "name": "stdout",
     "output_type": "stream",
     "text": [
      "rating: 4.97739696826\n"
     ]
    }
   ],
   "source": [
    "print \"rating:\", rec.predict(one_datapoint_sf)[0]"
   ]
  },
  {
   "cell_type": "markdown",
   "metadata": {},
   "source": [
    "## 4) On the returned model object, call the list_fields method to see what kind of data is stored for your model"
   ]
  },
  {
   "cell_type": "code",
   "execution_count": 15,
   "metadata": {
    "collapsed": false
   },
   "outputs": [
    {
     "data": {
      "text/plain": [
       "['adagrad_momentum_weighting',\n",
       " 'additional_iterations_if_unhealthy',\n",
       " 'binary_target',\n",
       " 'coefficients',\n",
       " 'data_load_time',\n",
       " 'init_random_sigma',\n",
       " 'item_id',\n",
       " 'item_side_data_column_names',\n",
       " 'item_side_data_column_types',\n",
       " 'linear_regularization',\n",
       " 'max_iterations',\n",
       " 'model_name',\n",
       " 'nmf',\n",
       " 'num_factors',\n",
       " 'num_features',\n",
       " 'num_item_side_features',\n",
       " 'num_items',\n",
       " 'num_observations',\n",
       " 'num_tempering_iterations',\n",
       " 'num_user_side_features',\n",
       " 'num_users',\n",
       " 'observation_data_column_names',\n",
       " 'random_seed',\n",
       " 'regularization',\n",
       " 'regularization_type',\n",
       " 'sgd_convergence_interval',\n",
       " 'sgd_convergence_threshold',\n",
       " 'sgd_max_trial_iterations',\n",
       " 'sgd_sampling_block_size',\n",
       " 'sgd_step_adjustment_interval',\n",
       " 'sgd_step_size',\n",
       " 'sgd_trial_sample_minimum_size',\n",
       " 'sgd_trial_sample_proportion',\n",
       " 'side_data_factorization',\n",
       " 'solver',\n",
       " 'step_size_decrease_rate',\n",
       " 'target',\n",
       " 'tempering_regularization_start_value',\n",
       " 'track_exact_loss',\n",
       " 'training_rmse',\n",
       " 'training_stats',\n",
       " 'training_time',\n",
       " 'user_id',\n",
       " 'user_side_data_column_names',\n",
       " 'user_side_data_column_types']"
      ]
     },
     "execution_count": 15,
     "metadata": {},
     "output_type": "execute_result"
    }
   ],
   "source": [
    "rec.list_fields()"
   ]
  },
  {
   "cell_type": "markdown",
   "metadata": {},
   "source": [
    "## 5) Inspect the output of `get('coefficients')` to see what information your model uses."
   ]
  },
  {
   "cell_type": "code",
   "execution_count": 16,
   "metadata": {
    "collapsed": false
   },
   "outputs": [
    {
     "data": {
      "text/plain": [
       "{'business_id': Columns:\n",
       " \tbusiness_id\tstr\n",
       " \tlinear_terms\tfloat\n",
       " \tfactors\tarray\n",
       " \n",
       " Rows: 4383\n",
       " \n",
       " Data:\n",
       " +------------------------+--------------+-------------------------------+\n",
       " |      business_id       | linear_terms |            factors            |\n",
       " +------------------------+--------------+-------------------------------+\n",
       " | --9e1ONYQuAa-CB_Rrw7Tw |     0.0      | [0.00316447019577, 0.20009... |\n",
       " | -3zffZUHoY8bQjGfPSoBKQ |     0.0      | [-0.451097548008, -0.40617... |\n",
       " | -8R_-EkGpUhBk55K9Dd4mg |     0.0      | [0.785061597824, 1.1239950... |\n",
       " | -9YyInW1wapzdNZrhQJ9dg |     0.0      | [0.385428905487, 0.7031893... |\n",
       " | -AD5PiuJHgdUcAK-Vxao2A |     0.0      | [0.835258662701, -0.677945... |\n",
       " | -Bf8BQ3yMk8U2f45r2DRKw |     0.0      | [-0.914222419262, -0.20376... |\n",
       " | -BmqghX1sv7sgsxOIS2yAg |     0.0      | [-0.343733400106, 0.421559... |\n",
       " | -Bv-HHUs8aHzDrdWcZHn8w |     0.0      | [0.237223729491, 0.3331679... |\n",
       " | -C8sSrFqaCxp51pyo-fQLQ |     0.0      | [-0.599766373634, -0.23369... |\n",
       " | -CQokjildrY7UZezXCdEBw |     0.0      | [-0.989085316658, 1.475844... |\n",
       " +------------------------+--------------+-------------------------------+\n",
       " [4383 rows x 3 columns]\n",
       " Note: Only the head of the SFrame is printed.\n",
       " You can use print_rows(num_rows=m, num_columns=n) to print more rows and columns.,\n",
       " 'intercept': 3.8038358720639307,\n",
       " 'user_id': Columns:\n",
       " \tuser_id\tstr\n",
       " \tlinear_terms\tfloat\n",
       " \tfactors\tarray\n",
       " \n",
       " Rows: 155937\n",
       " \n",
       " Data:\n",
       " +------------------------+--------------+-------------------------------+\n",
       " |        user_id         | linear_terms |            factors            |\n",
       " +------------------------+--------------+-------------------------------+\n",
       " | 4LxKRRIikhr65GfPDW626w |     0.0      | [2.04415130615, 0.24075768... |\n",
       " | nT8zgjoc-PbdBoQsFEXFLw |     0.0      | [-0.341518551111, 0.465430... |\n",
       " | 7RlyCglsIzhBn081inwvcg |     0.0      | [-0.258364766836, 0.151621... |\n",
       " | rOIrilMC7VFwFVBeQNiKMw |     0.0      | [1.102835536, 0.2494302690... |\n",
       " | PiWlV_UC_-SXqyxQM9fAtw |     0.0      | [0.00669536180794, 0.11515... |\n",
       " | TU5j2S_Ub__ojLOpD_UepQ |     0.0      | [-0.427796661854, 0.170619... |\n",
       " | 4pbbNuzxlZ9E52wsVhgGig |     0.0      | [-0.0156938713044, -0.2699... |\n",
       " | ez3GBw83OIgzzgvc0R4jzw |     0.0      | [0.00109805364627, 0.01888... |\n",
       " | wFUAuusR5n2E6T-C0IvYug |     0.0      | [0.033020183444, 0.0131970... |\n",
       " | wWShzj-oiR3cEKKod3Z3pw |     0.0      | [-0.00449939770624, -0.077... |\n",
       " +------------------------+--------------+-------------------------------+\n",
       " [155937 rows x 3 columns]\n",
       " Note: Only the head of the SFrame is printed.\n",
       " You can use print_rows(num_rows=m, num_columns=n) to print more rows and columns.}"
      ]
     },
     "execution_count": 16,
     "metadata": {},
     "output_type": "execute_result"
    }
   ],
   "source": [
    "rec['coefficients'] "
   ]
  },
  {
   "cell_type": "code",
   "execution_count": 17,
   "metadata": {
    "collapsed": false
   },
   "outputs": [
    {
     "name": "stdout",
     "output_type": "stream",
     "text": [
      "4383\n",
      "8\n",
      "155937\n",
      "8\n"
     ]
    }
   ],
   "source": [
    "##check the dimensionality of restaurants and a user array in the coefficients.default latent features: 8\n",
    "rest_sf = rec['coefficients']['business_id']\n",
    "print len(rest_sf)\n",
    "print len(rest_sf['factors'][0])\n",
    "user_sf = rec['coefficients']['user_id']\n",
    "print len(user_sf)\n",
    "print len(user_sf['factors'][0])"
   ]
  },
  {
   "cell_type": "markdown",
   "metadata": {},
   "source": [
    "## 6) Without using the predict method, compute the predicted rating user 1 of rest 100"
   ]
  },
  {
   "cell_type": "code",
   "execution_count": 20,
   "metadata": {
    "collapsed": false
   },
   "outputs": [
    {
     "name": "stdout",
     "output_type": "stream",
     "text": [
      " intercept: 3.80383587206\n",
      "average: 3.80383587206\n"
     ]
    }
   ],
   "source": [
    "intercept = rec['coefficients']['intercept']\n",
    "print \"intercept:\", intercept\n",
    "print \"average:\", np.average(sf['stars'])"
   ]
  },
  {
   "cell_type": "code",
   "execution_count": 86,
   "metadata": {
    "collapsed": false
   },
   "outputs": [
    {
     "name": "stdout",
     "output_type": "stream",
     "text": [
      "rating: 4.95552938322\n"
     ]
    }
   ],
   "source": [
    "##compare with result in step 3, expectes value rating: 4.97739696826\n",
    "rest_array = rest_sf[rest_sf['business_id'] == sf[99]['business_id']]['factors'][0]\n",
    "user_array = user_sf[user_sf['user_id'] == sf[0]['user_id']]['factors'][0]\n",
    "print \"rating:\", np.dot(rest_array, user_array) + intercept    "
   ]
  },
  {
   "cell_type": "code",
   "execution_count": 21,
   "metadata": {
    "collapsed": false
   },
   "outputs": [
    {
     "name": "stdout",
     "output_type": "stream",
     "text": [
      "graphlab's reported rmse: 0.211406392649\n",
      "calculated rmse: 0.211406392649\n"
     ]
    }
   ],
   "source": [
    "#RMSE reported by the model diagnostics is correct\n",
    "from sklearn.metrics import mean_squared_error\n",
    "\n",
    "predictions = rec.predict(sf)\n",
    "rmse = np.sqrt(mean_squared_error(sf['stars'], predictions))\n",
    "\n",
    "print \"graphlab's reported rmse:\", rec['training_rmse']\n",
    "print \"calculated rmse:\", rmse"
   ]
  },
  {
   "cell_type": "code",
   "execution_count": 23,
   "metadata": {
    "collapsed": false
   },
   "outputs": [
    {
     "data": {
      "text/plain": [
       "count    325819.000000\n",
       "mean          3.803836\n",
       "std           1.427228\n",
       "min           1.000000\n",
       "25%           3.000000\n",
       "50%           4.000000\n",
       "75%           5.000000\n",
       "max           5.000000\n",
       "dtype: float64"
      ]
     },
     "execution_count": 23,
     "metadata": {},
     "output_type": "execute_result"
    }
   ],
   "source": [
    "pd.Series(sf['stars']).describe()"
   ]
  },
  {
   "cell_type": "markdown",
   "metadata": {},
   "source": [
    "## 7) Regularization"
   ]
  },
  {
   "cell_type": "code",
   "execution_count": 24,
   "metadata": {
    "collapsed": false
   },
   "outputs": [
    {
     "data": {
      "text/html": [
       "<pre>Recsys training: model = factorization_recommender</pre>"
      ],
      "text/plain": [
       "Recsys training: model = factorization_recommender"
      ]
     },
     "metadata": {},
     "output_type": "display_data"
    },
    {
     "data": {
      "text/html": [
       "<pre>Preparing data set.</pre>"
      ],
      "text/plain": [
       "Preparing data set."
      ]
     },
     "metadata": {},
     "output_type": "display_data"
    },
    {
     "data": {
      "text/html": [
       "<pre>    Data has 325819 observations with 155937 users and 4383 items.</pre>"
      ],
      "text/plain": [
       "    Data has 325819 observations with 155937 users and 4383 items."
      ]
     },
     "metadata": {},
     "output_type": "display_data"
    },
    {
     "data": {
      "text/html": [
       "<pre>    Data prepared in: 0.709411s</pre>"
      ],
      "text/plain": [
       "    Data prepared in: 0.709411s"
      ]
     },
     "metadata": {},
     "output_type": "display_data"
    },
    {
     "data": {
      "text/html": [
       "<pre>Training factorization_recommender for recommendations.</pre>"
      ],
      "text/plain": [
       "Training factorization_recommender for recommendations."
      ]
     },
     "metadata": {},
     "output_type": "display_data"
    },
    {
     "data": {
      "text/html": [
       "<pre>+------------------------------+--------------------------------------------------+----------+</pre>"
      ],
      "text/plain": [
       "+------------------------------+--------------------------------------------------+----------+"
      ]
     },
     "metadata": {},
     "output_type": "display_data"
    },
    {
     "data": {
      "text/html": [
       "<pre>| Parameter                    | Description                                      | Value    |</pre>"
      ],
      "text/plain": [
       "| Parameter                    | Description                                      | Value    |"
      ]
     },
     "metadata": {},
     "output_type": "display_data"
    },
    {
     "data": {
      "text/html": [
       "<pre>+------------------------------+--------------------------------------------------+----------+</pre>"
      ],
      "text/plain": [
       "+------------------------------+--------------------------------------------------+----------+"
      ]
     },
     "metadata": {},
     "output_type": "display_data"
    },
    {
     "data": {
      "text/html": [
       "<pre>| num_factors                  | Factor Dimension                                 | 8        |</pre>"
      ],
      "text/plain": [
       "| num_factors                  | Factor Dimension                                 | 8        |"
      ]
     },
     "metadata": {},
     "output_type": "display_data"
    },
    {
     "data": {
      "text/html": [
       "<pre>| regularization               | L2 Regularization on Factors                     | 0        |</pre>"
      ],
      "text/plain": [
       "| regularization               | L2 Regularization on Factors                     | 0        |"
      ]
     },
     "metadata": {},
     "output_type": "display_data"
    },
    {
     "data": {
      "text/html": [
       "<pre>| max_iterations               | Maximum Number of Iterations                     | 50       |</pre>"
      ],
      "text/plain": [
       "| max_iterations               | Maximum Number of Iterations                     | 50       |"
      ]
     },
     "metadata": {},
     "output_type": "display_data"
    },
    {
     "data": {
      "text/html": [
       "<pre>| solver                       | Solver used for training                         | als      |</pre>"
      ],
      "text/plain": [
       "| solver                       | Solver used for training                         | als      |"
      ]
     },
     "metadata": {},
     "output_type": "display_data"
    },
    {
     "data": {
      "text/html": [
       "<pre>+------------------------------+--------------------------------------------------+----------+</pre>"
      ],
      "text/plain": [
       "+------------------------------+--------------------------------------------------+----------+"
      ]
     },
     "metadata": {},
     "output_type": "display_data"
    },
    {
     "data": {
      "text/html": [
       "<pre>+---------+--------------+------------------------+</pre>"
      ],
      "text/plain": [
       "+---------+--------------+------------------------+"
      ]
     },
     "metadata": {},
     "output_type": "display_data"
    },
    {
     "data": {
      "text/html": [
       "<pre>| Iter.   | Elapsed time | RMSE                   |</pre>"
      ],
      "text/plain": [
       "| Iter.   | Elapsed time | RMSE                   |"
      ]
     },
     "metadata": {},
     "output_type": "display_data"
    },
    {
     "data": {
      "text/html": [
       "<pre>+---------+--------------+------------------------+</pre>"
      ],
      "text/plain": [
       "+---------+--------------+------------------------+"
      ]
     },
     "metadata": {},
     "output_type": "display_data"
    },
    {
     "data": {
      "text/html": [
       "<pre>| Initial | 108us        | NA                     |</pre>"
      ],
      "text/plain": [
       "| Initial | 108us        | NA                     |"
      ]
     },
     "metadata": {},
     "output_type": "display_data"
    },
    {
     "data": {
      "text/html": [
       "<pre>+---------+--------------+------------------------+</pre>"
      ],
      "text/plain": [
       "+---------+--------------+------------------------+"
      ]
     },
     "metadata": {},
     "output_type": "display_data"
    },
    {
     "data": {
      "text/html": [
       "<pre>| 0       | 344.46ms     | 0.474549               |</pre>"
      ],
      "text/plain": [
       "| 0       | 344.46ms     | 0.474549               |"
      ]
     },
     "metadata": {},
     "output_type": "display_data"
    },
    {
     "data": {
      "text/html": [
       "<pre>| 1       | 664.857ms    | 0.374528               |</pre>"
      ],
      "text/plain": [
       "| 1       | 664.857ms    | 0.374528               |"
      ]
     },
     "metadata": {},
     "output_type": "display_data"
    },
    {
     "data": {
      "text/html": [
       "<pre>| 2       | 1.06s        | 0.339888               |</pre>"
      ],
      "text/plain": [
       "| 2       | 1.06s        | 0.339888               |"
      ]
     },
     "metadata": {},
     "output_type": "display_data"
    },
    {
     "data": {
      "text/html": [
       "<pre>| 3       | 1.35s        | 0.318697               |</pre>"
      ],
      "text/plain": [
       "| 3       | 1.35s        | 0.318697               |"
      ]
     },
     "metadata": {},
     "output_type": "display_data"
    },
    {
     "data": {
      "text/html": [
       "<pre>| 4       | 1.70s        | 0.303853               |</pre>"
      ],
      "text/plain": [
       "| 4       | 1.70s        | 0.303853               |"
      ]
     },
     "metadata": {},
     "output_type": "display_data"
    },
    {
     "data": {
      "text/html": [
       "<pre>| 5       | 2.06s        | 0.292619               |</pre>"
      ],
      "text/plain": [
       "| 5       | 2.06s        | 0.292619               |"
      ]
     },
     "metadata": {},
     "output_type": "display_data"
    },
    {
     "data": {
      "text/html": [
       "<pre>| 6       | 2.37s        | 0.283696               |</pre>"
      ],
      "text/plain": [
       "| 6       | 2.37s        | 0.283696               |"
      ]
     },
     "metadata": {},
     "output_type": "display_data"
    },
    {
     "data": {
      "text/html": [
       "<pre>| 7       | 2.70s        | 0.276413               |</pre>"
      ],
      "text/plain": [
       "| 7       | 2.70s        | 0.276413               |"
      ]
     },
     "metadata": {},
     "output_type": "display_data"
    },
    {
     "data": {
      "text/html": [
       "<pre>| 8       | 3.12s        | 0.270252               |</pre>"
      ],
      "text/plain": [
       "| 8       | 3.12s        | 0.270252               |"
      ]
     },
     "metadata": {},
     "output_type": "display_data"
    },
    {
     "data": {
      "text/html": [
       "<pre>| 9       | 3.41s        | 0.264955               |</pre>"
      ],
      "text/plain": [
       "| 9       | 3.41s        | 0.264955               |"
      ]
     },
     "metadata": {},
     "output_type": "display_data"
    },
    {
     "data": {
      "text/html": [
       "<pre>| 10      | 3.69s        | 0.260326               |</pre>"
      ],
      "text/plain": [
       "| 10      | 3.69s        | 0.260326               |"
      ]
     },
     "metadata": {},
     "output_type": "display_data"
    },
    {
     "data": {
      "text/html": [
       "<pre>| 11      | 4.01s        | 0.256225               |</pre>"
      ],
      "text/plain": [
       "| 11      | 4.01s        | 0.256225               |"
      ]
     },
     "metadata": {},
     "output_type": "display_data"
    },
    {
     "data": {
      "text/html": [
       "<pre>| 12      | 4.36s        | 0.252796               |</pre>"
      ],
      "text/plain": [
       "| 12      | 4.36s        | 0.252796               |"
      ]
     },
     "metadata": {},
     "output_type": "display_data"
    },
    {
     "data": {
      "text/html": [
       "<pre>| 13      | 4.74s        | 0.249356               |</pre>"
      ],
      "text/plain": [
       "| 13      | 4.74s        | 0.249356               |"
      ]
     },
     "metadata": {},
     "output_type": "display_data"
    },
    {
     "data": {
      "text/html": [
       "<pre>| 14      | 5.03s        | 0.24658                |</pre>"
      ],
      "text/plain": [
       "| 14      | 5.03s        | 0.24658                |"
      ]
     },
     "metadata": {},
     "output_type": "display_data"
    },
    {
     "data": {
      "text/html": [
       "<pre>| 15      | 5.34s        | 0.244731               |</pre>"
      ],
      "text/plain": [
       "| 15      | 5.34s        | 0.244731               |"
      ]
     },
     "metadata": {},
     "output_type": "display_data"
    },
    {
     "data": {
      "text/html": [
       "<pre>| 16      | 5.75s        | 0.24336                |</pre>"
      ],
      "text/plain": [
       "| 16      | 5.75s        | 0.24336                |"
      ]
     },
     "metadata": {},
     "output_type": "display_data"
    },
    {
     "data": {
      "text/html": [
       "<pre>| 17      | 6.07s        | 0.241527               |</pre>"
      ],
      "text/plain": [
       "| 17      | 6.07s        | 0.241527               |"
      ]
     },
     "metadata": {},
     "output_type": "display_data"
    },
    {
     "data": {
      "text/html": [
       "<pre>| 18      | 6.36s        | 0.238289               |</pre>"
      ],
      "text/plain": [
       "| 18      | 6.36s        | 0.238289               |"
      ]
     },
     "metadata": {},
     "output_type": "display_data"
    },
    {
     "data": {
      "text/html": [
       "<pre>| 19      | 6.81s        | 0.237465               |</pre>"
      ],
      "text/plain": [
       "| 19      | 6.81s        | 0.237465               |"
      ]
     },
     "metadata": {},
     "output_type": "display_data"
    },
    {
     "data": {
      "text/html": [
       "<pre>| 20      | 7.17s        | 0.23533                |</pre>"
      ],
      "text/plain": [
       "| 20      | 7.17s        | 0.23533                |"
      ]
     },
     "metadata": {},
     "output_type": "display_data"
    },
    {
     "data": {
      "text/html": [
       "<pre>| 21      | 7.57s        | 0.232001               |</pre>"
      ],
      "text/plain": [
       "| 21      | 7.57s        | 0.232001               |"
      ]
     },
     "metadata": {},
     "output_type": "display_data"
    },
    {
     "data": {
      "text/html": [
       "<pre>| 22      | 7.96s        | 0.231427               |</pre>"
      ],
      "text/plain": [
       "| 22      | 7.96s        | 0.231427               |"
      ]
     },
     "metadata": {},
     "output_type": "display_data"
    },
    {
     "data": {
      "text/html": [
       "<pre>| 23      | 8.30s        | 0.228734               |</pre>"
      ],
      "text/plain": [
       "| 23      | 8.30s        | 0.228734               |"
      ]
     },
     "metadata": {},
     "output_type": "display_data"
    },
    {
     "data": {
      "text/html": [
       "<pre>| 24      | 8.67s        | 0.22725                |</pre>"
      ],
      "text/plain": [
       "| 24      | 8.67s        | 0.22725                |"
      ]
     },
     "metadata": {},
     "output_type": "display_data"
    },
    {
     "data": {
      "text/html": [
       "<pre>| 25      | 9.01s        | 0.226344               |</pre>"
      ],
      "text/plain": [
       "| 25      | 9.01s        | 0.226344               |"
      ]
     },
     "metadata": {},
     "output_type": "display_data"
    },
    {
     "data": {
      "text/html": [
       "<pre>| 26      | 9.32s        | 0.2253                 |</pre>"
      ],
      "text/plain": [
       "| 26      | 9.32s        | 0.2253                 |"
      ]
     },
     "metadata": {},
     "output_type": "display_data"
    },
    {
     "data": {
      "text/html": [
       "<pre>| 27      | 9.66s        | 0.224849               |</pre>"
      ],
      "text/plain": [
       "| 27      | 9.66s        | 0.224849               |"
      ]
     },
     "metadata": {},
     "output_type": "display_data"
    },
    {
     "data": {
      "text/html": [
       "<pre>| 28      | 9.95s        | 0.227175               |</pre>"
      ],
      "text/plain": [
       "| 28      | 9.95s        | 0.227175               |"
      ]
     },
     "metadata": {},
     "output_type": "display_data"
    },
    {
     "data": {
      "text/html": [
       "<pre>| 29      | 10.23s       | 0.23439                |</pre>"
      ],
      "text/plain": [
       "| 29      | 10.23s       | 0.23439                |"
      ]
     },
     "metadata": {},
     "output_type": "display_data"
    },
    {
     "data": {
      "text/html": [
       "<pre>| 30      | 10.52s       | 0.221959               |</pre>"
      ],
      "text/plain": [
       "| 30      | 10.52s       | 0.221959               |"
      ]
     },
     "metadata": {},
     "output_type": "display_data"
    },
    {
     "data": {
      "text/html": [
       "<pre>| 31      | 10.82s       | 0.220855               |</pre>"
      ],
      "text/plain": [
       "| 31      | 10.82s       | 0.220855               |"
      ]
     },
     "metadata": {},
     "output_type": "display_data"
    },
    {
     "data": {
      "text/html": [
       "<pre>| 32      | 11.11s       | 0.222987               |</pre>"
      ],
      "text/plain": [
       "| 32      | 11.11s       | 0.222987               |"
      ]
     },
     "metadata": {},
     "output_type": "display_data"
    },
    {
     "data": {
      "text/html": [
       "<pre>| 33      | 11.40s       | 0.218382               |</pre>"
      ],
      "text/plain": [
       "| 33      | 11.40s       | 0.218382               |"
      ]
     },
     "metadata": {},
     "output_type": "display_data"
    },
    {
     "data": {
      "text/html": [
       "<pre>| 34      | 11.69s       | 0.219522               |</pre>"
      ],
      "text/plain": [
       "| 34      | 11.69s       | 0.219522               |"
      ]
     },
     "metadata": {},
     "output_type": "display_data"
    },
    {
     "data": {
      "text/html": [
       "<pre>| 35      | 12.01s       | 0.216368               |</pre>"
      ],
      "text/plain": [
       "| 35      | 12.01s       | 0.216368               |"
      ]
     },
     "metadata": {},
     "output_type": "display_data"
    },
    {
     "data": {
      "text/html": [
       "<pre>| 36      | 12.41s       | 0.217478               |</pre>"
      ],
      "text/plain": [
       "| 36      | 12.41s       | 0.217478               |"
      ]
     },
     "metadata": {},
     "output_type": "display_data"
    },
    {
     "data": {
      "text/html": [
       "<pre>| 37      | 12.69s       | 0.215668               |</pre>"
      ],
      "text/plain": [
       "| 37      | 12.69s       | 0.215668               |"
      ]
     },
     "metadata": {},
     "output_type": "display_data"
    },
    {
     "data": {
      "text/html": [
       "<pre>| 38      | 13.02s       | 0.215878               |</pre>"
      ],
      "text/plain": [
       "| 38      | 13.02s       | 0.215878               |"
      ]
     },
     "metadata": {},
     "output_type": "display_data"
    },
    {
     "data": {
      "text/html": [
       "<pre>| 39      | 13.33s       | 0.216547               |</pre>"
      ],
      "text/plain": [
       "| 39      | 13.33s       | 0.216547               |"
      ]
     },
     "metadata": {},
     "output_type": "display_data"
    },
    {
     "data": {
      "text/html": [
       "<pre>| 40      | 13.62s       | 0.214754               |</pre>"
      ],
      "text/plain": [
       "| 40      | 13.62s       | 0.214754               |"
      ]
     },
     "metadata": {},
     "output_type": "display_data"
    },
    {
     "data": {
      "text/html": [
       "<pre>| 41      | 13.91s       | 0.214398               |</pre>"
      ],
      "text/plain": [
       "| 41      | 13.91s       | 0.214398               |"
      ]
     },
     "metadata": {},
     "output_type": "display_data"
    },
    {
     "data": {
      "text/html": [
       "<pre>| 42      | 14.21s       | 0.213933               |</pre>"
      ],
      "text/plain": [
       "| 42      | 14.21s       | 0.213933               |"
      ]
     },
     "metadata": {},
     "output_type": "display_data"
    },
    {
     "data": {
      "text/html": [
       "<pre>| 43      | 14.51s       | 0.212068               |</pre>"
      ],
      "text/plain": [
       "| 43      | 14.51s       | 0.212068               |"
      ]
     },
     "metadata": {},
     "output_type": "display_data"
    },
    {
     "data": {
      "text/html": [
       "<pre>| 44      | 14.80s       | 0.212272               |</pre>"
      ],
      "text/plain": [
       "| 44      | 14.80s       | 0.212272               |"
      ]
     },
     "metadata": {},
     "output_type": "display_data"
    },
    {
     "data": {
      "text/html": [
       "<pre>| 45      | 15.14s       | 0.21083                |</pre>"
      ],
      "text/plain": [
       "| 45      | 15.14s       | 0.21083                |"
      ]
     },
     "metadata": {},
     "output_type": "display_data"
    },
    {
     "data": {
      "text/html": [
       "<pre>| 46      | 15.48s       | 0.209959               |</pre>"
      ],
      "text/plain": [
       "| 46      | 15.48s       | 0.209959               |"
      ]
     },
     "metadata": {},
     "output_type": "display_data"
    },
    {
     "data": {
      "text/html": [
       "<pre>| 47      | 15.79s       | 0.209802               |</pre>"
      ],
      "text/plain": [
       "| 47      | 15.79s       | 0.209802               |"
      ]
     },
     "metadata": {},
     "output_type": "display_data"
    },
    {
     "data": {
      "text/html": [
       "<pre>| 48      | 16.29s       | 0.20871                |</pre>"
      ],
      "text/plain": [
       "| 48      | 16.29s       | 0.20871                |"
      ]
     },
     "metadata": {},
     "output_type": "display_data"
    },
    {
     "data": {
      "text/html": [
       "<pre>| 49      | 16.71s       | 0.20912                |</pre>"
      ],
      "text/plain": [
       "| 49      | 16.71s       | 0.20912                |"
      ]
     },
     "metadata": {},
     "output_type": "display_data"
    },
    {
     "data": {
      "text/html": [
       "<pre>| FINAL   | 16.71s       | 0.20912                |</pre>"
      ],
      "text/plain": [
       "| FINAL   | 16.71s       | 0.20912                |"
      ]
     },
     "metadata": {},
     "output_type": "display_data"
    },
    {
     "data": {
      "text/html": [
       "<pre>+---------+--------------+------------------------+</pre>"
      ],
      "text/plain": [
       "+---------+--------------+------------------------+"
      ]
     },
     "metadata": {},
     "output_type": "display_data"
    },
    {
     "data": {
      "text/html": [
       "<pre>Optimization Complete: Iteration limit reached.</pre>"
      ],
      "text/plain": [
       "Optimization Complete: Iteration limit reached."
      ]
     },
     "metadata": {},
     "output_type": "display_data"
    },
    {
     "name": "stdout",
     "output_type": "stream",
     "text": [
      "training rmse with regularization 0: 0.209119928069\n"
     ]
    },
    {
     "data": {
      "text/html": [
       "<pre>Recsys training: model = factorization_recommender</pre>"
      ],
      "text/plain": [
       "Recsys training: model = factorization_recommender"
      ]
     },
     "metadata": {},
     "output_type": "display_data"
    },
    {
     "data": {
      "text/html": [
       "<pre>Preparing data set.</pre>"
      ],
      "text/plain": [
       "Preparing data set."
      ]
     },
     "metadata": {},
     "output_type": "display_data"
    },
    {
     "data": {
      "text/html": [
       "<pre>    Data has 325819 observations with 155937 users and 4383 items.</pre>"
      ],
      "text/plain": [
       "    Data has 325819 observations with 155937 users and 4383 items."
      ]
     },
     "metadata": {},
     "output_type": "display_data"
    },
    {
     "data": {
      "text/html": [
       "<pre>    Data prepared in: 0.865223s</pre>"
      ],
      "text/plain": [
       "    Data prepared in: 0.865223s"
      ]
     },
     "metadata": {},
     "output_type": "display_data"
    },
    {
     "data": {
      "text/html": [
       "<pre>Training factorization_recommender for recommendations.</pre>"
      ],
      "text/plain": [
       "Training factorization_recommender for recommendations."
      ]
     },
     "metadata": {},
     "output_type": "display_data"
    },
    {
     "data": {
      "text/html": [
       "<pre>+------------------------------+--------------------------------------------------+----------+</pre>"
      ],
      "text/plain": [
       "+------------------------------+--------------------------------------------------+----------+"
      ]
     },
     "metadata": {},
     "output_type": "display_data"
    },
    {
     "data": {
      "text/html": [
       "<pre>| Parameter                    | Description                                      | Value    |</pre>"
      ],
      "text/plain": [
       "| Parameter                    | Description                                      | Value    |"
      ]
     },
     "metadata": {},
     "output_type": "display_data"
    },
    {
     "data": {
      "text/html": [
       "<pre>+------------------------------+--------------------------------------------------+----------+</pre>"
      ],
      "text/plain": [
       "+------------------------------+--------------------------------------------------+----------+"
      ]
     },
     "metadata": {},
     "output_type": "display_data"
    },
    {
     "data": {
      "text/html": [
       "<pre>| num_factors                  | Factor Dimension                                 | 8        |</pre>"
      ],
      "text/plain": [
       "| num_factors                  | Factor Dimension                                 | 8        |"
      ]
     },
     "metadata": {},
     "output_type": "display_data"
    },
    {
     "data": {
      "text/html": [
       "<pre>| regularization               | L2 Regularization on Factors                     | 0.0001   |</pre>"
      ],
      "text/plain": [
       "| regularization               | L2 Regularization on Factors                     | 0.0001   |"
      ]
     },
     "metadata": {},
     "output_type": "display_data"
    },
    {
     "data": {
      "text/html": [
       "<pre>| max_iterations               | Maximum Number of Iterations                     | 50       |</pre>"
      ],
      "text/plain": [
       "| max_iterations               | Maximum Number of Iterations                     | 50       |"
      ]
     },
     "metadata": {},
     "output_type": "display_data"
    },
    {
     "data": {
      "text/html": [
       "<pre>| solver                       | Solver used for training                         | als      |</pre>"
      ],
      "text/plain": [
       "| solver                       | Solver used for training                         | als      |"
      ]
     },
     "metadata": {},
     "output_type": "display_data"
    },
    {
     "data": {
      "text/html": [
       "<pre>+------------------------------+--------------------------------------------------+----------+</pre>"
      ],
      "text/plain": [
       "+------------------------------+--------------------------------------------------+----------+"
      ]
     },
     "metadata": {},
     "output_type": "display_data"
    },
    {
     "data": {
      "text/html": [
       "<pre>+---------+--------------+------------------------+</pre>"
      ],
      "text/plain": [
       "+---------+--------------+------------------------+"
      ]
     },
     "metadata": {},
     "output_type": "display_data"
    },
    {
     "data": {
      "text/html": [
       "<pre>| Iter.   | Elapsed time | RMSE                   |</pre>"
      ],
      "text/plain": [
       "| Iter.   | Elapsed time | RMSE                   |"
      ]
     },
     "metadata": {},
     "output_type": "display_data"
    },
    {
     "data": {
      "text/html": [
       "<pre>+---------+--------------+------------------------+</pre>"
      ],
      "text/plain": [
       "+---------+--------------+------------------------+"
      ]
     },
     "metadata": {},
     "output_type": "display_data"
    },
    {
     "data": {
      "text/html": [
       "<pre>| Initial | 148us        | NA                     |</pre>"
      ],
      "text/plain": [
       "| Initial | 148us        | NA                     |"
      ]
     },
     "metadata": {},
     "output_type": "display_data"
    },
    {
     "data": {
      "text/html": [
       "<pre>+---------+--------------+------------------------+</pre>"
      ],
      "text/plain": [
       "+---------+--------------+------------------------+"
      ]
     },
     "metadata": {},
     "output_type": "display_data"
    },
    {
     "data": {
      "text/html": [
       "<pre>| 0       | 440.327ms    | 1.42723                |</pre>"
      ],
      "text/plain": [
       "| 0       | 440.327ms    | 1.42723                |"
      ]
     },
     "metadata": {},
     "output_type": "display_data"
    },
    {
     "data": {
      "text/html": [
       "<pre>| 1       | 725.539ms    | 1.42723                |</pre>"
      ],
      "text/plain": [
       "| 1       | 725.539ms    | 1.42723                |"
      ]
     },
     "metadata": {},
     "output_type": "display_data"
    },
    {
     "data": {
      "text/html": [
       "<pre>| 2       | 1.01s        | 1.42722                |</pre>"
      ],
      "text/plain": [
       "| 2       | 1.01s        | 1.42722                |"
      ]
     },
     "metadata": {},
     "output_type": "display_data"
    },
    {
     "data": {
      "text/html": [
       "<pre>| 3       | 1.30s        | 1.42714                |</pre>"
      ],
      "text/plain": [
       "| 3       | 1.30s        | 1.42714                |"
      ]
     },
     "metadata": {},
     "output_type": "display_data"
    },
    {
     "data": {
      "text/html": [
       "<pre>| 4       | 1.57s        | 1.42589                |</pre>"
      ],
      "text/plain": [
       "| 4       | 1.57s        | 1.42589                |"
      ]
     },
     "metadata": {},
     "output_type": "display_data"
    },
    {
     "data": {
      "text/html": [
       "<pre>| 5       | 1.89s        | 1.4224                 |</pre>"
      ],
      "text/plain": [
       "| 5       | 1.89s        | 1.4224                 |"
      ]
     },
     "metadata": {},
     "output_type": "display_data"
    },
    {
     "data": {
      "text/html": [
       "<pre>| 6       | 2.19s        | 1.4187                 |</pre>"
      ],
      "text/plain": [
       "| 6       | 2.19s        | 1.4187                 |"
      ]
     },
     "metadata": {},
     "output_type": "display_data"
    },
    {
     "data": {
      "text/html": [
       "<pre>| 7       | 2.68s        | 1.41601                |</pre>"
      ],
      "text/plain": [
       "| 7       | 2.68s        | 1.41601                |"
      ]
     },
     "metadata": {},
     "output_type": "display_data"
    },
    {
     "data": {
      "text/html": [
       "<pre>| 8       | 3.07s        | 1.41324                |</pre>"
      ],
      "text/plain": [
       "| 8       | 3.07s        | 1.41324                |"
      ]
     },
     "metadata": {},
     "output_type": "display_data"
    },
    {
     "data": {
      "text/html": [
       "<pre>| 9       | 3.51s        | 1.40845                |</pre>"
      ],
      "text/plain": [
       "| 9       | 3.51s        | 1.40845                |"
      ]
     },
     "metadata": {},
     "output_type": "display_data"
    },
    {
     "data": {
      "text/html": [
       "<pre>| 10      | 3.90s        | 1.40409                |</pre>"
      ],
      "text/plain": [
       "| 10      | 3.90s        | 1.40409                |"
      ]
     },
     "metadata": {},
     "output_type": "display_data"
    },
    {
     "data": {
      "text/html": [
       "<pre>| 11      | 4.21s        | 1.40148                |</pre>"
      ],
      "text/plain": [
       "| 11      | 4.21s        | 1.40148                |"
      ]
     },
     "metadata": {},
     "output_type": "display_data"
    },
    {
     "data": {
      "text/html": [
       "<pre>| 12      | 4.52s        | 1.39941                |</pre>"
      ],
      "text/plain": [
       "| 12      | 4.52s        | 1.39941                |"
      ]
     },
     "metadata": {},
     "output_type": "display_data"
    },
    {
     "data": {
      "text/html": [
       "<pre>| 13      | 4.94s        | 1.39745                |</pre>"
      ],
      "text/plain": [
       "| 13      | 4.94s        | 1.39745                |"
      ]
     },
     "metadata": {},
     "output_type": "display_data"
    },
    {
     "data": {
      "text/html": [
       "<pre>| 14      | 5.24s        | 1.39572                |</pre>"
      ],
      "text/plain": [
       "| 14      | 5.24s        | 1.39572                |"
      ]
     },
     "metadata": {},
     "output_type": "display_data"
    },
    {
     "data": {
      "text/html": [
       "<pre>| 15      | 5.62s        | 1.39419                |</pre>"
      ],
      "text/plain": [
       "| 15      | 5.62s        | 1.39419                |"
      ]
     },
     "metadata": {},
     "output_type": "display_data"
    },
    {
     "data": {
      "text/html": [
       "<pre>| 16      | 5.97s        | 1.3928                 |</pre>"
      ],
      "text/plain": [
       "| 16      | 5.97s        | 1.3928                 |"
      ]
     },
     "metadata": {},
     "output_type": "display_data"
    },
    {
     "data": {
      "text/html": [
       "<pre>| 17      | 6.31s        | 1.3916                 |</pre>"
      ],
      "text/plain": [
       "| 17      | 6.31s        | 1.3916                 |"
      ]
     },
     "metadata": {},
     "output_type": "display_data"
    },
    {
     "data": {
      "text/html": [
       "<pre>| 18      | 6.61s        | 1.39063                |</pre>"
      ],
      "text/plain": [
       "| 18      | 6.61s        | 1.39063                |"
      ]
     },
     "metadata": {},
     "output_type": "display_data"
    },
    {
     "data": {
      "text/html": [
       "<pre>| 19      | 6.98s        | 1.38988                |</pre>"
      ],
      "text/plain": [
       "| 19      | 6.98s        | 1.38988                |"
      ]
     },
     "metadata": {},
     "output_type": "display_data"
    },
    {
     "data": {
      "text/html": [
       "<pre>| 20      | 7.40s        | 1.38929                |</pre>"
      ],
      "text/plain": [
       "| 20      | 7.40s        | 1.38929                |"
      ]
     },
     "metadata": {},
     "output_type": "display_data"
    },
    {
     "data": {
      "text/html": [
       "<pre>| 21      | 7.84s        | 1.3888                 |</pre>"
      ],
      "text/plain": [
       "| 21      | 7.84s        | 1.3888                 |"
      ]
     },
     "metadata": {},
     "output_type": "display_data"
    },
    {
     "data": {
      "text/html": [
       "<pre>| 22      | 8.22s        | 1.3884                 |</pre>"
      ],
      "text/plain": [
       "| 22      | 8.22s        | 1.3884                 |"
      ]
     },
     "metadata": {},
     "output_type": "display_data"
    },
    {
     "data": {
      "text/html": [
       "<pre>| 23      | 8.62s        | 1.38807                |</pre>"
      ],
      "text/plain": [
       "| 23      | 8.62s        | 1.38807                |"
      ]
     },
     "metadata": {},
     "output_type": "display_data"
    },
    {
     "data": {
      "text/html": [
       "<pre>| 24      | 9.01s        | 1.38779                |</pre>"
      ],
      "text/plain": [
       "| 24      | 9.01s        | 1.38779                |"
      ]
     },
     "metadata": {},
     "output_type": "display_data"
    },
    {
     "data": {
      "text/html": [
       "<pre>| 25      | 9.43s        | 1.38755                |</pre>"
      ],
      "text/plain": [
       "| 25      | 9.43s        | 1.38755                |"
      ]
     },
     "metadata": {},
     "output_type": "display_data"
    },
    {
     "data": {
      "text/html": [
       "<pre>| 26      | 9.87s        | 1.38735                |</pre>"
      ],
      "text/plain": [
       "| 26      | 9.87s        | 1.38735                |"
      ]
     },
     "metadata": {},
     "output_type": "display_data"
    },
    {
     "data": {
      "text/html": [
       "<pre>| 27      | 10.17s       | 1.38718                |</pre>"
      ],
      "text/plain": [
       "| 27      | 10.17s       | 1.38718                |"
      ]
     },
     "metadata": {},
     "output_type": "display_data"
    },
    {
     "data": {
      "text/html": [
       "<pre>| 28      | 10.59s       | 1.38704                |</pre>"
      ],
      "text/plain": [
       "| 28      | 10.59s       | 1.38704                |"
      ]
     },
     "metadata": {},
     "output_type": "display_data"
    },
    {
     "data": {
      "text/html": [
       "<pre>| 29      | 10.89s       | 1.38692                |</pre>"
      ],
      "text/plain": [
       "| 29      | 10.89s       | 1.38692                |"
      ]
     },
     "metadata": {},
     "output_type": "display_data"
    },
    {
     "data": {
      "text/html": [
       "<pre>| 30      | 11.22s       | 1.38681                |</pre>"
      ],
      "text/plain": [
       "| 30      | 11.22s       | 1.38681                |"
      ]
     },
     "metadata": {},
     "output_type": "display_data"
    },
    {
     "data": {
      "text/html": [
       "<pre>| 31      | 11.52s       | 1.38673                |</pre>"
      ],
      "text/plain": [
       "| 31      | 11.52s       | 1.38673                |"
      ]
     },
     "metadata": {},
     "output_type": "display_data"
    },
    {
     "data": {
      "text/html": [
       "<pre>| 32      | 11.78s       | 1.38665                |</pre>"
      ],
      "text/plain": [
       "| 32      | 11.78s       | 1.38665                |"
      ]
     },
     "metadata": {},
     "output_type": "display_data"
    },
    {
     "data": {
      "text/html": [
       "<pre>| 33      | 12.08s       | 1.38658                |</pre>"
      ],
      "text/plain": [
       "| 33      | 12.08s       | 1.38658                |"
      ]
     },
     "metadata": {},
     "output_type": "display_data"
    },
    {
     "data": {
      "text/html": [
       "<pre>| 34      | 12.36s       | 1.38652                |</pre>"
      ],
      "text/plain": [
       "| 34      | 12.36s       | 1.38652                |"
      ]
     },
     "metadata": {},
     "output_type": "display_data"
    },
    {
     "data": {
      "text/html": [
       "<pre>| 35      | 12.86s       | 1.38647                |</pre>"
      ],
      "text/plain": [
       "| 35      | 12.86s       | 1.38647                |"
      ]
     },
     "metadata": {},
     "output_type": "display_data"
    },
    {
     "data": {
      "text/html": [
       "<pre>| 36      | 13.25s       | 1.38643                |</pre>"
      ],
      "text/plain": [
       "| 36      | 13.25s       | 1.38643                |"
      ]
     },
     "metadata": {},
     "output_type": "display_data"
    },
    {
     "data": {
      "text/html": [
       "<pre>| 37      | 13.62s       | 1.38638                |</pre>"
      ],
      "text/plain": [
       "| 37      | 13.62s       | 1.38638                |"
      ]
     },
     "metadata": {},
     "output_type": "display_data"
    },
    {
     "data": {
      "text/html": [
       "<pre>| 38      | 13.93s       | 1.38635                |</pre>"
      ],
      "text/plain": [
       "| 38      | 13.93s       | 1.38635                |"
      ]
     },
     "metadata": {},
     "output_type": "display_data"
    },
    {
     "data": {
      "text/html": [
       "<pre>| 39      | 14.22s       | 1.38631                |</pre>"
      ],
      "text/plain": [
       "| 39      | 14.22s       | 1.38631                |"
      ]
     },
     "metadata": {},
     "output_type": "display_data"
    },
    {
     "data": {
      "text/html": [
       "<pre>| 40      | 14.50s       | 1.38628                |</pre>"
      ],
      "text/plain": [
       "| 40      | 14.50s       | 1.38628                |"
      ]
     },
     "metadata": {},
     "output_type": "display_data"
    },
    {
     "data": {
      "text/html": [
       "<pre>| 41      | 14.81s       | 1.38625                |</pre>"
      ],
      "text/plain": [
       "| 41      | 14.81s       | 1.38625                |"
      ]
     },
     "metadata": {},
     "output_type": "display_data"
    },
    {
     "data": {
      "text/html": [
       "<pre>| 42      | 15.23s       | 1.38622                |</pre>"
      ],
      "text/plain": [
       "| 42      | 15.23s       | 1.38622                |"
      ]
     },
     "metadata": {},
     "output_type": "display_data"
    },
    {
     "data": {
      "text/html": [
       "<pre>| 43      | 15.52s       | 1.3862                 |</pre>"
      ],
      "text/plain": [
       "| 43      | 15.52s       | 1.3862                 |"
      ]
     },
     "metadata": {},
     "output_type": "display_data"
    },
    {
     "data": {
      "text/html": [
       "<pre>| 44      | 15.87s       | 1.38618                |</pre>"
      ],
      "text/plain": [
       "| 44      | 15.87s       | 1.38618                |"
      ]
     },
     "metadata": {},
     "output_type": "display_data"
    },
    {
     "data": {
      "text/html": [
       "<pre>| 45      | 16.16s       | 1.38616                |</pre>"
      ],
      "text/plain": [
       "| 45      | 16.16s       | 1.38616                |"
      ]
     },
     "metadata": {},
     "output_type": "display_data"
    },
    {
     "data": {
      "text/html": [
       "<pre>| 46      | 16.44s       | 1.38614                |</pre>"
      ],
      "text/plain": [
       "| 46      | 16.44s       | 1.38614                |"
      ]
     },
     "metadata": {},
     "output_type": "display_data"
    },
    {
     "data": {
      "text/html": [
       "<pre>| 47      | 16.82s       | 1.38612                |</pre>"
      ],
      "text/plain": [
       "| 47      | 16.82s       | 1.38612                |"
      ]
     },
     "metadata": {},
     "output_type": "display_data"
    },
    {
     "data": {
      "text/html": [
       "<pre>| 48      | 17.13s       | 1.3861                 |</pre>"
      ],
      "text/plain": [
       "| 48      | 17.13s       | 1.3861                 |"
      ]
     },
     "metadata": {},
     "output_type": "display_data"
    },
    {
     "data": {
      "text/html": [
       "<pre>| 49      | 17.42s       | 1.38608                |</pre>"
      ],
      "text/plain": [
       "| 49      | 17.42s       | 1.38608                |"
      ]
     },
     "metadata": {},
     "output_type": "display_data"
    },
    {
     "data": {
      "text/html": [
       "<pre>| FINAL   | 17.42s       | 1.38608                |</pre>"
      ],
      "text/plain": [
       "| FINAL   | 17.42s       | 1.38608                |"
      ]
     },
     "metadata": {},
     "output_type": "display_data"
    },
    {
     "data": {
      "text/html": [
       "<pre>+---------+--------------+------------------------+</pre>"
      ],
      "text/plain": [
       "+---------+--------------+------------------------+"
      ]
     },
     "metadata": {},
     "output_type": "display_data"
    },
    {
     "data": {
      "text/html": [
       "<pre>Optimization Complete: Iteration limit reached.</pre>"
      ],
      "text/plain": [
       "Optimization Complete: Iteration limit reached."
      ]
     },
     "metadata": {},
     "output_type": "display_data"
    },
    {
     "name": "stdout",
     "output_type": "stream",
     "text": [
      "training rmse with regularization 0.0001: 1.38608454068\n"
     ]
    }
   ],
   "source": [
    "random_seed = 0\n",
    "rec2 = graphlab.recommender.factorization_recommender.create(\n",
    "            sf,\n",
    "            user_id='user_id',\n",
    "            item_id='business_id',\n",
    "            target='stars',\n",
    "            solver='als',\n",
    "            side_data_factorization=False,\n",
    "            regularization=0,\n",
    "            random_seed=random_seed)\n",
    "print \"training rmse with regularization 0:\", rec2['training_rmse']   # 0.725\n",
    "\n",
    "regularization_param = 1e-4\n",
    "rec3 = graphlab.recommender.factorization_recommender.create(\n",
    "            sf,\n",
    "            user_id='user_id',\n",
    "            item_id='business_id',\n",
    "            target='stars',\n",
    "            solver='als',\n",
    "            side_data_factorization=False,\n",
    "            regularization=regularization_param,\n",
    "            random_seed=random_seed) \n",
    "print \"training rmse with regularization %s:\"%regularization_param, rec3['training_rmse']"
   ]
  },
  {
   "cell_type": "code",
   "execution_count": 98,
   "metadata": {
    "collapsed": false
   },
   "outputs": [
    {
     "name": "stderr",
     "output_type": "stream",
     "text": [
      "[INFO] graphlab.deploy.job: Validating job.\n",
      "[INFO] graphlab.deploy.map_job: Validation complete. Job: 'Model-Parameter-Search-Feb-04-2018-16-27-3200000' ready for execution\n",
      "[INFO] graphlab.deploy.map_job: Job: 'Model-Parameter-Search-Feb-04-2018-16-27-3200000' scheduled.\n",
      "[INFO] graphlab.deploy.job: Validating job.\n",
      "[INFO] graphlab.deploy.map_job: A job with name 'Model-Parameter-Search-Feb-04-2018-16-27-3200000' already exists. Renaming the job to 'Model-Parameter-Search-Feb-04-2018-16-27-3200000-2089d'.\n",
      "[INFO] graphlab.deploy.map_job: Validation complete. Job: 'Model-Parameter-Search-Feb-04-2018-16-27-3200000-2089d' ready for execution\n",
      "[INFO] graphlab.deploy.map_job: Job: 'Model-Parameter-Search-Feb-04-2018-16-27-3200000-2089d' scheduled.\n",
      "[INFO] graphlab.deploy.job: Validating job.\n",
      "[INFO] graphlab.deploy.map_job: Validation complete. Job: 'Model-Parameter-Search-Feb-04-2018-16-27-3200001' ready for execution\n",
      "[INFO] graphlab.deploy.map_job: Job: 'Model-Parameter-Search-Feb-04-2018-16-27-3200001' scheduled.\n",
      "[INFO] graphlab.deploy.job: Validating job.\n",
      "[INFO] graphlab.deploy.map_job: Validation complete. Job: 'Model-Parameter-Search-Feb-04-2018-16-27-3200002' ready for execution\n",
      "[INFO] graphlab.deploy.map_job: Job: 'Model-Parameter-Search-Feb-04-2018-16-27-3200002' scheduled.\n"
     ]
    }
   ],
   "source": [
    "##tune parameters to get the bast model\n",
    "kfolds = graphlab.cross_validation.KFold(sf, 5)\n",
    "params = dict(user_id='user_id',\n",
    "            item_id='business_id',\n",
    "            target='stars',\n",
    "              solver='als', \n",
    "              side_data_factorization=False)\n",
    "paramsearch = graphlab.model_parameter_search.create(\n",
    "                    kfolds,\n",
    "                    graphlab.recommender.factorization_recommender.create,\n",
    "                    params)"
   ]
  },
  {
   "cell_type": "code",
   "execution_count": 108,
   "metadata": {
    "collapsed": false
   },
   "outputs": [
    {
     "data": {
      "text/plain": [
       "{'Canceled': 0, 'Completed': 50, 'Failed': 0, 'Pending': 0, 'Running': 0}"
      ]
     },
     "execution_count": 108,
     "metadata": {},
     "output_type": "execute_result"
    }
   ],
   "source": [
    "paramsearch.get_status()"
   ]
  },
  {
   "cell_type": "code",
   "execution_count": 109,
   "metadata": {
    "collapsed": false
   },
   "outputs": [
    {
     "name": "stdout",
     "output_type": "stream",
     "text": [
      "best params by recall@5:\n",
      "{'item_id': 'business_id',\n",
      " 'linear_regularization': 1e-09,\n",
      " 'max_iterations': 25,\n",
      " 'num_factors': 16,\n",
      " 'regularization': 1e-07,\n",
      " 'side_data_factorization': False,\n",
      " 'solver': 'als',\n",
      " 'target': 'stars',\n",
      " 'user_id': 'user_id'}\n",
      "best params by precision@5:\n",
      "{'item_id': 'business_id',\n",
      " 'linear_regularization': 1e-09,\n",
      " 'max_iterations': 25,\n",
      " 'num_factors': 16,\n",
      " 'regularization': 1e-07,\n",
      " 'side_data_factorization': False,\n",
      " 'solver': 'als',\n",
      " 'target': 'stars',\n",
      " 'user_id': 'user_id'}\n",
      "best params by rmse:\n",
      "{'item_id': 'business_id',\n",
      " 'linear_regularization': 1e-09,\n",
      " 'max_iterations': 25,\n",
      " 'num_factors': 8,\n",
      " 'regularization': 1e-08,\n",
      " 'side_data_factorization': False,\n",
      " 'solver': 'als',\n",
      " 'target': 'stars',\n",
      " 'user_id': 'user_id'}\n"
     ]
    }
   ],
   "source": [
    "##print best model by different metrics\n",
    "##runing for hours \n",
    "from pprint import pprint\n",
    "\n",
    "print \"best params by recall@5:\"\n",
    "pprint(paramsearch.get_best_params('mean_validation_recall@5'))\n",
    "\n",
    "print \"best params by precision@5:\"\n",
    "pprint(paramsearch.get_best_params('mean_validation_precision@5'))\n",
    "\n",
    "print \"best params by rmse:\"\n",
    "pprint(paramsearch.get_best_params('mean_validation_rmse'))"
   ]
  },
  {
   "cell_type": "markdown",
   "metadata": {},
   "source": [
    "## 4. Other recommenders (optional)\n",
    "\n",
    "What are other ways you can build a better recommender?\n",
    "\n",
    "* Other features (have you noticed there are other features in the Yelp dataset, e.g. tips, etc.?)\n",
    "* Popularity-based\n",
    "* Content-based\n",
    "* Hybrid"
   ]
  },
  {
   "cell_type": "markdown",
   "metadata": {
    "collapsed": true
   },
   "source": [
    "1) distance, if we can locate the user, can calculate distance based on business location "
   ]
  },
  {
   "cell_type": "markdown",
   "metadata": {},
   "source": [
    "2)based on categories/attributes in business data: content based"
   ]
  },
  {
   "cell_type": "markdown",
   "metadata": {},
   "source": [
    "3)based number of reviews/avg stars/number of 5 rate in business data: popularity based"
   ]
  },
  {
   "cell_type": "markdown",
   "metadata": {},
   "source": [
    "4)hybrid: define a penalty for multiple methods and calculated the culmulative results"
   ]
  }
 ],
 "metadata": {
  "anaconda-cloud": {},
  "kernelspec": {
   "display_name": "Python [gl-env]",
   "language": "python",
   "name": "Python [gl-env]"
  },
  "language_info": {
   "codemirror_mode": {
    "name": "ipython",
    "version": 2
   },
   "file_extension": ".py",
   "mimetype": "text/x-python",
   "name": "python",
   "nbconvert_exporter": "python",
   "pygments_lexer": "ipython2",
   "version": "2.7.11"
  }
 },
 "nbformat": 4,
 "nbformat_minor": 1
}
